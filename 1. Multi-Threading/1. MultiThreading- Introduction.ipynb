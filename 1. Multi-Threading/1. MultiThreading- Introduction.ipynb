{
 "cells": [
  {
   "cell_type": "markdown",
   "id": "51736bfb-f2db-4f29-a867-5bc96bffa881",
   "metadata": {},
   "source": [
    "# Threading:\n",
    "- A thread is a lightweight unit of execution within a process that shares the process's memory and resources, enabling tasks to run concurrently. Threads are managed by the operating system and are commonly used for tasks like I/O operations or background processing."
   ]
  },
  {
   "cell_type": "markdown",
   "id": "c74fedf9-6069-41b8-a0e3-5826accd5140",
   "metadata": {},
   "source": [
    "### Single Thread:\n",
    "- A single-threaded program executes one task at a time, sequentially."
   ]
  },
  {
   "cell_type": "code",
   "execution_count": 2,
   "id": "09e45e24-53b3-4aac-9fba-0127d4ef322a",
   "metadata": {},
   "outputs": [
    {
     "name": "stdout",
     "output_type": "stream",
     "text": [
      "Starting tasks in a single thread...\n",
      "Task 1 - Step 1\n",
      "Task 1 - Step 2\n",
      "Task 1 - Step 3\n",
      "Task 1 - Step 4\n",
      "Task 1 - Step 5\n",
      "Task 2 - Step 1\n",
      "Task 2 - Step 2\n",
      "Task 2 - Step 3\n",
      "Task 2 - Step 4\n",
      "Task 2 - Step 5\n",
      "All tasks completed!\n",
      "<_MainThread(MainThread, started 10932)>\n"
     ]
    }
   ],
   "source": [
    "import time\n",
    "import threading\n",
    "\n",
    "def task1():\n",
    "    for i in range(5):\n",
    "        print(f\"Task 1 - Step {i+1}\")\n",
    "        time.sleep(1)  # Simulate work\n",
    "\n",
    "def task2():\n",
    "    for i in range(5):\n",
    "        print(f\"Task 2 - Step {i+1}\")\n",
    "        time.sleep(1)  # Simulate work\n",
    "\n",
    "# Sequential execution (single thread)\n",
    "print(\"Starting tasks in a single thread...\")\n",
    "task1()\n",
    "task2()\n",
    "print(\"All tasks completed!\")\n",
    "print(threading.current_thread())\n"
   ]
  },
  {
   "cell_type": "markdown",
   "id": "bf8003de-2768-49fd-8428-fe4274e8bacb",
   "metadata": {},
   "source": [
    "### Explanation:\n",
    "- Tasks are executed one after the other.\n",
    "- No concurrency: Task 2 only starts after Task 1 finishes.\n",
    "- Suitable for simpler applications where tasks don't overlap."
   ]
  },
  {
   "cell_type": "code",
   "execution_count": null,
   "id": "da57a796-5822-49b4-bba5-6183a4e97fa4",
   "metadata": {},
   "outputs": [],
   "source": []
  },
  {
   "cell_type": "markdown",
   "id": "d0aec75a-537a-4bc4-b181-deb96547e55e",
   "metadata": {},
   "source": [
    "### Life-Cycle of a Thread:\n",
    "\n",
    "New → Runnable → Running → Blocked/Waiting ↔ Runnable → Terminated\n",
    "\n",
    "1. New: The thread is created, but the start() method has not been called yet, so it hasn't begun executing.\n",
    "2. Runnable: The thread is ready to run, meaning it has been started with start(), but the CPU has not yet assigned it time to execute. It waits in the queue to get a chance to run.\n",
    "3. Running: The thread is actively executing its code. The thread is running and performing the tasks defined in its run() method.\n",
    "4. Blocked/Waiting: The thread is not currently executing. It is waiting for some event to occur (like waiting for I/O, another thread, or a resource) before it can continue.\n",
    "5. Terminated: The thread has finished its task and is no longer running. It has completed its execution and can’t be restarted."
   ]
  },
  {
   "cell_type": "code",
   "execution_count": 1,
   "id": "2bff2657-e61d-47ee-8ddc-8314e7f2a722",
   "metadata": {},
   "outputs": [
    {
     "name": "stdout",
     "output_type": "stream",
     "text": [
      "Thread is in NEW state (created but not started)\n",
      "Thread is in RUNNING state\n",
      "Thread is in RUNNABLE state (ready to be scheduled by CPU)\n",
      "Thread has completed execution\n",
      "Thread is in TERMINATED state (execution completed)\n"
     ]
    }
   ],
   "source": [
    "import threading\n",
    "import time\n",
    "\n",
    "# Target function for the thread\n",
    "def task():\n",
    "    print(\"Thread is in RUNNING state\")  # Running state\n",
    "    time.sleep(2)  # Simulating BLOCKED/WAITING state\n",
    "    print(\"Thread has completed execution\")  # Moving towards TERMINATED state\n",
    "\n",
    "# Step 1: Thread is in NEW (Created) state\n",
    "thread = threading.Thread(target=task)\n",
    "print(\"Thread is in NEW state (created but not started)\")\n",
    "\n",
    "# Step 2: Thread moves to RUNNABLE state after start()\n",
    "thread.start()\n",
    "print(\"Thread is in RUNNABLE state (ready to be scheduled by CPU)\")\n",
    "\n",
    "# Step 3: Main thread waits for the child thread to complete\n",
    "thread.join()  # Ensures main thread waits until this thread terminates\n",
    "print(\"Thread is in TERMINATED state (execution completed)\")\n"
   ]
  },
  {
   "cell_type": "code",
   "execution_count": null,
   "id": "6dd2ac83-0172-4078-9fbe-d20f9a6423cf",
   "metadata": {},
   "outputs": [],
   "source": []
  },
  {
   "cell_type": "markdown",
   "id": "42cb0ee6-9604-466b-a25f-42d3c0654c38",
   "metadata": {},
   "source": [
    "### Types of Task:\n",
    "1. CPU-bound Tasks:\n",
    "- Definition: CPU-bound tasks are those that primarily require significant processor power to perform computations. These tasks are limited by the processing speed of the CPU.\n",
    "- Examples: Complex mathematical computations (e.g., prime number calculation, image processing, data encryption).\n",
    "Running algorithms that require a lot of computation (e.g., machine learning training).\n",
    "- Performance Impact: Since CPU-bound tasks require a lot of CPU power, adding more CPU cores or processors can improve performance. These tasks are not affected by disk or network speed.\n",
    "\n",
    "2. I/O-bound Tasks:\n",
    "- Definition: I/O-bound tasks are those that are primarily limited by input/output operations, such as reading from or writing to a disk, network requests, or waiting for data to come from an external source.\n",
    "- Examples: File reading or writing, Database queries, Network requests (e.g., downloading files from a server, making HTTP requests).\n",
    "- Performance Impact: I/O-bound tasks are typically slower due to the limitations of the I/O device (disk speed, network latency, etc.). These tasks benefit from parallelism because while one operation waits (e.g., reading data), the program can perform other I/O tasks or computations."
   ]
  },
  {
   "cell_type": "markdown",
   "id": "b5977c4f-b2f4-4980-a109-f7467043118f",
   "metadata": {},
   "source": [
    "### Limitations of Single Thread:\n",
    "- Limited Performance: A single thread can only execute one task at a time, which means it cannot fully utilize the resources of multi-core processors. This leads to inefficient use of CPU power, especially for CPU-bound tasks.\n",
    "- Blocking Operations: If the thread encounters a blocking operation (e.g., waiting for I/O), the entire application is stalled. The thread will remain idle while waiting for the operation to complete, preventing other tasks from executing concurrently.\n",
    "- Poor Scalability: Single-threaded applications struggle to scale with the increasing number of cores or processors. As the workload increases, the system's performance may degrade due to the inability to parallelize tasks effectively.\n",
    "- Responsiveness Issues: In UI applications, if a long-running task is executed on the main thread, it may cause the application to freeze or become unresponsive, leading to a poor user experience.\n",
    "- Inefficient Handling of I/O-bound Tasks: For applications that need to handle many I/O-bound tasks (e.g., reading files or making network requests), a single-threaded design can result in inefficiencies, as the thread will wait idly during each I/O operation instead of performing other tasks.\n"
   ]
  },
  {
   "cell_type": "code",
   "execution_count": null,
   "id": "6b9e249c-f2d4-40b7-894f-b42ece4f2234",
   "metadata": {},
   "outputs": [],
   "source": []
  },
  {
   "cell_type": "markdown",
   "id": "bd6ca3e1-3520-47e0-b1e3-32ab181b8152",
   "metadata": {},
   "source": [
    "## Multi-Threading:\n",
    "- Multithreading is a programming concept where multiple threads (smaller units of a process) are executed concurrently within a single process. Each thread runs independently but shares the same memory space, allowing for efficient use of resources, such as CPU time and memory.\n",
    "\n",
    "#### Key Points:\n",
    "- Thread: A thread is the smallest unit of a CPU's execution. It is a part of a process, and multiple threads can exist within the same process.\n",
    "- Concurrency: In multithreading, threads appear to run concurrently, even on a single-core processor. However, true parallel execution happens only when multiple cores are available.\n",
    "- Shared Resources: Threads within the same process share the same memory space, which makes communication between them faster compared to processes that do not share memory.\n",
    "#### Purpose:\n",
    "- Improved Efficiency: Multithreading helps in improving the performance of programs by utilizing CPU time more effectively, especially for tasks that can be done concurrently (e.g., downloading files while processing data).\n",
    "- Asynchronous Operations: It is particularly useful for I/O-bound tasks, where threads can continue executing while waiting for external operations (like disk or network I/O) to complete.\n"
   ]
  },
  {
   "cell_type": "code",
   "execution_count": null,
   "id": "03358100-533a-4729-8cc6-d2d0d0d257eb",
   "metadata": {},
   "outputs": [],
   "source": []
  },
  {
   "cell_type": "markdown",
   "id": "4cfcac33-aa3c-4032-8300-3b743b4d4b95",
   "metadata": {},
   "source": [
    "## 1. Scenario: Performing Data Processing Tasks\n",
    "- You have three time-consuming tasks to process, like reading and processing data, which takes some time for each task. In a single-threaded approach, you execute one task at a time, while in a multi-threaded approach, you execute the tasks concurrently."
   ]
  },
  {
   "cell_type": "markdown",
   "id": "2ec53708-4d0f-4f83-a73e-6bb0991c0064",
   "metadata": {},
   "source": [
    "### 1.1 Using Single-Threading:"
   ]
  },
  {
   "cell_type": "code",
   "execution_count": 3,
   "id": "af80fa51-d8f6-403f-83f4-750fb529943b",
   "metadata": {},
   "outputs": [
    {
     "name": "stdout",
     "output_type": "stream",
     "text": [
      "Processing task 1...\n",
      "Task 1 completed.\n",
      "Processing task 2...\n",
      "Task 2 completed.\n",
      "Processing task 3...\n",
      "Task 3 completed.\n",
      "Total time for single-threaded execution: 6.00476861000061 seconds\n"
     ]
    }
   ],
   "source": [
    "import time\n",
    "\n",
    "def process_task(task_number):\n",
    "    print(f\"Processing task {task_number}...\")\n",
    "    time.sleep(2)  # Simulate task processing time (2 seconds for each task)\n",
    "    print(f\"Task {task_number} completed.\")\n",
    "\n",
    "# Simulating 3 tasks in a single-threaded manner\n",
    "start_time = time.time()\n",
    "for i in range(1, 4):\n",
    "    process_task(i)\n",
    "end_time = time.time()\n",
    "\n",
    "print(f\"Total time for single-threaded execution: {end_time - start_time} seconds\")\n"
   ]
  },
  {
   "cell_type": "code",
   "execution_count": null,
   "id": "714c45e9-1fff-4433-9ff6-e1974a104503",
   "metadata": {},
   "outputs": [],
   "source": []
  },
  {
   "cell_type": "markdown",
   "id": "7cdceb39-40a2-4693-8a12-f49e48add73d",
   "metadata": {},
   "source": [
    "### 1.2 Using Multi-Threading:"
   ]
  },
  {
   "cell_type": "code",
   "execution_count": 4,
   "id": "19382df9-1089-45e3-abe1-02d7a9464358",
   "metadata": {},
   "outputs": [
    {
     "name": "stdout",
     "output_type": "stream",
     "text": [
      "Processing task 1...\n",
      "Processing task 2...\n",
      "Processing task 3...\n",
      "Task 1 completed.\n",
      "Task 2 completed.\n",
      "Task 3 completed.\n",
      "Total time for multi-threaded execution: 2.0296528339385986 seconds\n"
     ]
    }
   ],
   "source": [
    "import time\n",
    "import threading\n",
    "\n",
    "def process_task(task_number):\n",
    "    print(f\"Processing task {task_number}...\")\n",
    "    time.sleep(2)  # Simulate task processing time (2 seconds for each task)\n",
    "    print(f\"Task {task_number} completed.\")\n",
    "\n",
    "# Simulating 3 tasks in a multi-threaded manner\n",
    "threads = []\n",
    "start_time = time.time()\n",
    "for i in range(1, 4):\n",
    "    thread = threading.Thread(target=process_task, args=(i,))\n",
    "    threads.append(thread)\n",
    "    thread.start()\n",
    "\n",
    "# Wait for all threads to complete\n",
    "for thread in threads:\n",
    "    thread.join()\n",
    "\n",
    "end_time = time.time()\n",
    "\n",
    "print(f\"Total time for multi-threaded execution: {end_time - start_time} seconds\")\n"
   ]
  },
  {
   "cell_type": "code",
   "execution_count": null,
   "id": "da078ef2-ad35-4d01-868f-4d7f54b65fd1",
   "metadata": {},
   "outputs": [],
   "source": []
  },
  {
   "cell_type": "markdown",
   "id": "9329d2fd-94ef-48e1-9d7d-32832ef15648",
   "metadata": {},
   "source": [
    "## 2. Scenario: Demonstrating Shared Memory in Multithreading\n",
    "- We will demonstrate how multiple threads share the same memory space by modifying a shared variable. All threads will operate on a common variable, and you'll be able to see that the changes are reflected across all threads."
   ]
  },
  {
   "cell_type": "code",
   "execution_count": 5,
   "id": "4dbea1e8-7951-44be-a5d1-c9a97ad6c797",
   "metadata": {},
   "outputs": [
    {
     "name": "stdout",
     "output_type": "stream",
     "text": [
      "Thread-1, Counter: 1Thread-2, Counter: 2\n",
      "\n",
      "Thread-3, Counter: 3\n",
      "Thread-2, Counter: 4\n",
      "Thread-1, Counter: 5\n",
      "Thread-3, Counter: 6\n",
      "Thread-2, Counter: 7\n",
      "Thread-3, Counter: 8\n",
      "Thread-1, Counter: 9\n",
      "Thread-2, Counter: 10Thread-3, Counter: 11\n",
      "Thread-1, Counter: 12\n",
      "\n",
      "Thread-3, Counter: 13\n",
      "Thread-1, Counter: 14\n",
      "Thread-2, Counter: 15\n",
      "Final counter value: 15\n"
     ]
    }
   ],
   "source": [
    "import threading\n",
    "import time\n",
    "\n",
    "# Shared data (memory space)\n",
    "counter = 0  # A variable shared by all threads\n",
    "\n",
    "# Function to increment the shared variable 'counter'\n",
    "def increment():\n",
    "    global counter\n",
    "    for _ in range(5):\n",
    "        counter += 1\n",
    "        print(f\"{threading.current_thread().name}, \"\n",
    "              f\"Counter: {counter}\")\n",
    "        time.sleep(0.1)  # Simulate some work (e.g., I/O-bound)\n",
    "\n",
    "# Create multiple threads that modify the shared 'counter' variable\n",
    "thread1 = threading.Thread(target=increment, name=\"Thread-1\")\n",
    "thread2 = threading.Thread(target=increment, name=\"Thread-2\")\n",
    "thread3 = threading.Thread(target=increment, name=\"Thread-3\")\n",
    "\n",
    "# Start the threads\n",
    "thread1.start()\n",
    "thread2.start()\n",
    "thread3.start()\n",
    "\n",
    "# Wait for all threads to finish\n",
    "thread1.join()\n",
    "thread2.join()\n",
    "thread3.join()\n",
    "\n",
    "print(f\"Final counter value: {counter}\")\n"
   ]
  },
  {
   "cell_type": "code",
   "execution_count": null,
   "id": "5bcd0e98-ae91-4df4-beb0-991fe9f1149c",
   "metadata": {},
   "outputs": [],
   "source": []
  },
  {
   "cell_type": "markdown",
   "id": "9f1b0007-1739-4926-a132-21eb9333b9c1",
   "metadata": {},
   "source": [
    "### Concurrency vs Parallelism:"
   ]
  },
  {
   "cell_type": "markdown",
   "id": "e2925a4d-a8ff-43e3-9c22-69aa69952255",
   "metadata": {},
   "source": [
    "### 1. Concurrency:\n",
    "- Definition: Concurrency refers to the ability of a system to handle multiple tasks at the same time, but not necessarily simultaneously. It means that the system can manage multiple tasks by switching between them (e.g., interleaving), giving the appearance of working on them at once.\n",
    "- Key Point: In concurrency, the tasks may be executed in an overlapping manner, but not simultaneously. The CPU switches between tasks quickly, making progress on each of them.\n",
    "- Use Case: Concurrency is useful when dealing with tasks that involve waiting (I/O-bound tasks like reading from a file, network communication, etc.), as it allows the program to switch to other tasks during wait times."
   ]
  },
  {
   "cell_type": "code",
   "execution_count": 1,
   "id": "40ce01b5-e36f-4c7c-bdeb-19e8cf84092f",
   "metadata": {},
   "outputs": [
    {
     "name": "stdout",
     "output_type": "stream",
     "text": [
      "All threads completed in 5.84 seconds.\n"
     ]
    }
   ],
   "source": [
    "import threading\n",
    "import time\n",
    "\n",
    "def task(num):\n",
    "    for i in range(10000000):\n",
    "        # Simulate an I/O-bound task\n",
    "        # time.sleep(0.01)\n",
    "        i+=1\n",
    "\n",
    "if __name__ == '__main__':\n",
    "    # Start measuring time\n",
    "    start_time = time.time()\n",
    "\n",
    "    # Create 12 threads\n",
    "    threads = []\n",
    "    for i in range(12):\n",
    "        t = threading.Thread(target=task, args=(i,))\n",
    "        threads.append(t)\n",
    "        t.start()\n",
    "\n",
    "    # Wait for all threads to finish\n",
    "    for t in threads:\n",
    "        t.join()\n",
    "\n",
    "    # End measuring time\n",
    "    end_time = time.time()\n",
    "\n",
    "    print(f\"All threads completed in {end_time - start_time:.2f} seconds.\")\n"
   ]
  },
  {
   "cell_type": "markdown",
   "id": "fd921dba-5b1a-415b-916a-c21d8992877d",
   "metadata": {},
   "source": [
    "### 2. Parallelism:\n",
    "- Definition: Parallelism refers to the simultaneous execution of multiple tasks, meaning tasks are actually executed at the same time across multiple processors or cores.\n",
    "- Key Point: In parallelism, tasks are truly running simultaneously. This is possible when there are multiple processing units (cores or CPUs) available, and each task can be executed in parallel without waiting for others.\n",
    "- Use Case: Parallelism is used in CPU-bound tasks where tasks can be divided into smaller parts and processed in parallel, such as mathematical calculations or large data processing."
   ]
  },
  {
   "cell_type": "code",
   "execution_count": 1,
   "id": "49b5320d-3261-4b7b-84b3-daf73b45ddce",
   "metadata": {},
   "outputs": [
    {
     "name": "stdout",
     "output_type": "stream",
     "text": [
      "All processes completed in 0.63 seconds.\n"
     ]
    }
   ],
   "source": [
    "import multiprocessing\n",
    "import time\n",
    "\n",
    "def task(num):\n",
    "    for i in range(10000000):\n",
    "        # Simulate an I/O-bound task\n",
    "        # time.sleep(0.01)\n",
    "        i+=1\n",
    "\n",
    "if __name__ == '__main__':\n",
    "    # Start measuring time\n",
    "    start_time = time.time()\n",
    "\n",
    "    # Create 12 processes\n",
    "    processes = []\n",
    "    for i in range(12):\n",
    "        p = multiprocessing.Process(target=task, args=(i,))\n",
    "        processes.append(p)\n",
    "        p.start()\n",
    "\n",
    "    # Wait for all processes to finish\n",
    "    for p in processes:\n",
    "        p.join()\n",
    "\n",
    "    # End measuring time\n",
    "    end_time = time.time()\n",
    "\n",
    "    print(f\"All processes completed in {end_time - start_time:.2f} seconds.\")\n"
   ]
  },
  {
   "cell_type": "markdown",
   "id": "8117ea74-877c-4f40-8b06-de1f8b63b27f",
   "metadata": {},
   "source": [
    "### If the above code doesn't work properly in jupyter notebook then run the code in above ide.\n",
    "( In my case jupyter notebook doesn't work properly )"
   ]
  }
 ],
 "metadata": {
  "kernelspec": {
   "display_name": "Python 3 (ipykernel)",
   "language": "python",
   "name": "python3"
  },
  "language_info": {
   "codemirror_mode": {
    "name": "ipython",
    "version": 3
   },
   "file_extension": ".py",
   "mimetype": "text/x-python",
   "name": "python",
   "nbconvert_exporter": "python",
   "pygments_lexer": "ipython3",
   "version": "3.13.0"
  },
  "widgets": {
   "application/vnd.jupyter.widget-state+json": {
    "state": {},
    "version_major": 2,
    "version_minor": 0
   }
  }
 },
 "nbformat": 4,
 "nbformat_minor": 5
}
