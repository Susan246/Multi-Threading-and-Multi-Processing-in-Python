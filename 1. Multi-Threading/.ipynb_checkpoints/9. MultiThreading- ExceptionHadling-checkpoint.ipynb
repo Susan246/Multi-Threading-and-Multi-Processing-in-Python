{
 "cells": [
  {
   "cell_type": "markdown",
   "id": "41e68212-21b0-40c0-8e0b-d7c505c1c3ab",
   "metadata": {},
   "source": [
    "# Exception Handling in Thread:\n",
    "- In multithreading, handling exceptions properly is crucial to ensure that threads work correctly and do not cause unexpected behavior in the application."
   ]
  },
  {
   "cell_type": "markdown",
   "id": "a73d0f42-004e-46e4-a4c4-1dc70acfd37b",
   "metadata": {},
   "source": [
    "### What Happens If an Exception Occurs in One Thread?\n",
    "- Thread Terminates: If an exception occurs inside a thread and isn't handled, the thread terminates immediately.\n",
    "- No Effect on Other Threads: Other threads continue running independently. The exception doesn't propagate to other threads or the main thread."
   ]
  },
  {
   "cell_type": "code",
   "execution_count": 1,
   "id": "947ab319-87af-4016-96e4-8129dff313c8",
   "metadata": {},
   "outputs": [
    {
     "name": "stderr",
     "output_type": "stream",
     "text": [
      "Exception in thread Thread 1:\n",
      "Traceback (most recent call last):\n",
      "  File \u001b[35m\"C:\\Users\\Susan Lama\\AppData\\Local\\Programs\\Python\\Python313\\Lib\\threading.py\"\u001b[0m, line \u001b[35m1041\u001b[0m, in \u001b[35m_bootstrap_inner\u001b[0m\n",
      "    \u001b[31mself.run\u001b[0m\u001b[1;31m()\u001b[0m\n",
      "    \u001b[31m~~~~~~~~\u001b[0m\u001b[1;31m^^\u001b[0m\n",
      "  File \u001b[35m\"C:\\Users\\Susan Lama\\AppData\\Local\\Programs\\Python\\Python313\\Lib\\site-packages\\ipykernel\\ipkernel.py\"\u001b[0m, line \u001b[35m766\u001b[0m, in \u001b[35mrun_closure\u001b[0m\n",
      "    \u001b[31m_threading_Thread_run\u001b[0m\u001b[1;31m(self)\u001b[0m\n",
      "    \u001b[31m~~~~~~~~~~~~~~~~~~~~~\u001b[0m\u001b[1;31m^^^^^^\u001b[0m\n",
      "  File \u001b[35m\"C:\\Users\\Susan Lama\\AppData\\Local\\Programs\\Python\\Python313\\Lib\\threading.py\"\u001b[0m, line \u001b[35m992\u001b[0m, in \u001b[35mrun\u001b[0m\n",
      "    \u001b[31mself._target\u001b[0m\u001b[1;31m(*self._args, **self._kwargs)\u001b[0m\n",
      "    \u001b[31m~~~~~~~~~~~~\u001b[0m\u001b[1;31m^^^^^^^^^^^^^^^^^^^^^^^^^^^^^\u001b[0m\n",
      "  File \u001b[35m\"C:\\Users\\Susan Lama\\AppData\\Local\\Temp\\ipykernel_19932\\2834416482.py\"\u001b[0m, line \u001b[35m7\u001b[0m, in \u001b[35mthread_function\u001b[0m\n",
      "    result = \u001b[31m1 \u001b[0m\u001b[1;31m/\u001b[0m\u001b[31m 0\u001b[0m  # ZeroDivisionError\n",
      "             \u001b[31m~~\u001b[0m\u001b[1;31m^\u001b[0m\u001b[31m~~\u001b[0m\n",
      "\u001b[1;35mZeroDivisionError\u001b[0m: \u001b[35mdivision by zero\u001b[0m\n"
     ]
    },
    {
     "name": "stdout",
     "output_type": "stream",
     "text": [
      "Thread starting.\n",
      "Main thread finished.\n"
     ]
    }
   ],
   "source": [
    "import threading\n",
    "import time\n",
    "\n",
    "def thread_function():\n",
    "    print(\"Thread starting.\")\n",
    "    \n",
    "    result = 1 / 0  # ZeroDivisionError\n",
    "    print(\"Thread finished.\")\n",
    "\n",
    "\n",
    "thread1 = threading.Thread(target=thread_function, name=\"Thread 1\")\n",
    "\n",
    "thread1.start()\n",
    "\n",
    "thread1.join()\n",
    "\n",
    "print(\"Main thread finished.\")\n"
   ]
  },
  {
   "cell_type": "markdown",
   "id": "8d8fbfd5-9696-41a5-ba1d-ecf530769993",
   "metadata": {},
   "source": [
    "### Exception Handling:"
   ]
  },
  {
   "cell_type": "code",
   "execution_count": 2,
   "id": "afb44cfd-85d3-426c-95d7-54dfd0e1195b",
   "metadata": {},
   "outputs": [
    {
     "name": "stdout",
     "output_type": "stream",
     "text": [
      "Thread starting.\n",
      "Exception caught: division by zero\n",
      "Thread finished.\n",
      "Main thread finished.\n"
     ]
    }
   ],
   "source": [
    "import threading\n",
    "\n",
    "def thread_function():\n",
    "    try:\n",
    "        print(\"Thread starting.\")\n",
    "        result = 1 / 0  # ZeroDivisionError\n",
    "    except Exception as e:\n",
    "        print(f\"Exception caught: {e}\")\n",
    "    print(\"Thread finished.\")\n",
    "\n",
    "\n",
    "thread1 = threading.Thread(target=thread_function, name=\"Thread 1\")\n",
    "\n",
    "thread1.start()\n",
    "\n",
    "thread1.join()\n",
    "\n",
    "print(\"Main thread finished.\")\n"
   ]
  },
  {
   "cell_type": "code",
   "execution_count": null,
   "id": "6e4318fc-6a6b-4b74-a7c9-b8996cc94f75",
   "metadata": {},
   "outputs": [],
   "source": []
  },
  {
   "cell_type": "markdown",
   "id": "a5dfb767-39b6-422f-a614-5848c5bdbcaa",
   "metadata": {},
   "source": [
    "## # How Python caught the uncaught exception?\n",
    "## # How Python know the details of Exception?"
   ]
  },
  {
   "cell_type": "markdown",
   "id": "20c973f7-2768-4e25-a446-5d4697a82f23",
   "metadata": {},
   "source": [
    "### Uncaught Exception Handling (Default Action):\n",
    "#### i. Exception Occurrence:\n",
    "When an error occurs during the execution of a program, Python raises an exception (e.g., ZeroDivisionError).\n",
    "#### The exception object contains three key pieces of information:\n",
    "- Exception Type: The type of exception (e.g., ZeroDivisionError, ValueError).\n",
    "- Exception Value: The message associated with the exception (e.g., \"division by zero\").\n",
    "- Traceback Object: Contains the call stack (where the error occurred, file name, line number).\n",
    "\n",
    "#### ii. Exception Propagation:\n",
    "- Python first looks for a try-except block in the current scope.\n",
    "- If no handler is found anywhere (even at the global scope), the exception is considered uncaught.\n",
    "\n",
    "#### iii. Uncaught Exception Handling:\n",
    "\n",
    "When no handler is found, Python calls sys.excepthook() to handle the uncaught exception.\n",
    "#### The Role of sys.excepthook():\n",
    "The default sys.excepthook() function is called with three parameters:\n",
    "- exc_type: The type of the exception (e.g., ZeroDivisionError).\n",
    "- exc_value: The actual exception message (e.g., \"division by zero\").\n",
    "- exc_tb: The traceback object, which holds the call stack and details about where the error occurred.\n",
    "\n",
    "This function is responsible for printing a detailed traceback to the standard error (stderr), which is the default behavior when an exception is uncaught.\n",
    "\n",
    "#### iv. Program Termination:\n",
    "- After printing the traceback, Python terminates the program. If sys.excepthook() is not overridden, no further execution occurs."
   ]
  },
  {
   "cell_type": "code",
   "execution_count": null,
   "id": "37311d66-b714-4d41-bb6e-f39a705463a0",
   "metadata": {},
   "outputs": [],
   "source": []
  },
  {
   "cell_type": "markdown",
   "id": "68090797-a048-4642-a686-b580f9610843",
   "metadata": {},
   "source": [
    "### Demonstrating:\n",
    "but this code don't work correctly cause the jupyternotebook handled exception differently so to see that run the following code in another ide."
   ]
  },
  {
   "cell_type": "code",
   "execution_count": 1,
   "id": "ad69659b-bd8a-4892-aa3d-b13ca90b9aa6",
   "metadata": {},
   "outputs": [
    {
     "name": "stdout",
     "output_type": "stream",
     "text": [
      "Starting function.\n"
     ]
    },
    {
     "ename": "ZeroDivisionError",
     "evalue": "division by zero",
     "output_type": "error",
     "traceback": [
      "\u001b[1;31m---------------------------------------------------------------------------\u001b[0m",
      "\u001b[1;31mZeroDivisionError\u001b[0m                         Traceback (most recent call last)",
      "Cell \u001b[1;32mIn[1], line 22\u001b[0m\n\u001b[0;32m     19\u001b[0m     \u001b[38;5;28mprint\u001b[39m(\u001b[38;5;124m\"\u001b[39m\u001b[38;5;124mEnding function.\u001b[39m\u001b[38;5;124m\"\u001b[39m)\n\u001b[0;32m     21\u001b[0m \u001b[38;5;66;03m# Triggering the exception manually to invoke the custom excepthook\u001b[39;00m\n\u001b[1;32m---> 22\u001b[0m \u001b[43mcause_error\u001b[49m\u001b[43m(\u001b[49m\u001b[43m)\u001b[49m\n",
      "Cell \u001b[1;32mIn[1], line 18\u001b[0m, in \u001b[0;36mcause_error\u001b[1;34m()\u001b[0m\n\u001b[0;32m     16\u001b[0m \u001b[38;5;28;01mdef\u001b[39;00m \u001b[38;5;21mcause_error\u001b[39m():\n\u001b[0;32m     17\u001b[0m     \u001b[38;5;28mprint\u001b[39m(\u001b[38;5;124m\"\u001b[39m\u001b[38;5;124mStarting function.\u001b[39m\u001b[38;5;124m\"\u001b[39m)\n\u001b[1;32m---> 18\u001b[0m     result \u001b[38;5;241m=\u001b[39m \u001b[38;5;241;43m1\u001b[39;49m\u001b[43m \u001b[49m\u001b[38;5;241;43m/\u001b[39;49m\u001b[43m \u001b[49m\u001b[38;5;241;43m0\u001b[39;49m  \u001b[38;5;66;03m# This will raise ZeroDivisionError\u001b[39;00m\n\u001b[0;32m     19\u001b[0m     \u001b[38;5;28mprint\u001b[39m(\u001b[38;5;124m\"\u001b[39m\u001b[38;5;124mEnding function.\u001b[39m\u001b[38;5;124m\"\u001b[39m)\n",
      "\u001b[1;31mZeroDivisionError\u001b[0m: division by zero"
     ]
    }
   ],
   "source": [
    "import sys\n",
    "import traceback\n",
    "\n",
    "# Custom excepthook to display exception details\n",
    "def custom_excepthook(exc_type, exc_value, exc_tb):\n",
    "    print(f\"Custom exception handler invoked:\")\n",
    "    print(f\"Exception Type: {exc_type}\")\n",
    "    print(f\"Exception Message: {exc_value}\")\n",
    "    print(\"Traceback:\")\n",
    "    traceback.print_tb(exc_tb)  # Prints the full traceback\n",
    "\n",
    "# Set the custom excepthook to override the default behavior\n",
    "sys.excepthook = custom_excepthook\n",
    "\n",
    "# Function that raises an uncaught exception (ZeroDivisionError)\n",
    "def cause_error():\n",
    "    print(\"Starting function.\")\n",
    "    result = 1 / 0  # This will raise ZeroDivisionError\n",
    "    print(\"Ending function.\")\n",
    "\n",
    "# Triggering the exception manually to invoke the custom excepthook\n",
    "cause_error()\n"
   ]
  },
  {
   "cell_type": "code",
   "execution_count": null,
   "id": "5cbd6a58-1ec0-4f72-80ad-31b1ca477918",
   "metadata": {},
   "outputs": [],
   "source": []
  },
  {
   "cell_type": "markdown",
   "id": "015e716d-b6ff-44ed-80d1-37ba24e98bdc",
   "metadata": {},
   "source": [
    "### Uncaught Exception Handling in Threads (Default Action):\n",
    "#### i. Exception Occurrence in Threads:\n",
    "When an error occurs during the execution of a thread, Python raises an exception (e.g., ZeroDivisionError).\n",
    "\n",
    "#### The exception object contains:\n",
    "- Exception Type: The type of exception (e.g., ZeroDivisionError, ValueError).\n",
    "- Exception Value: The message associated with the exception (e.g., \"division by zero\").\n",
    "- Traceback Object: Contains the call stack with details about where the error occurred (file name, line number).\n",
    "- Thread: The thread object that caused the exception (in the case of uncaught exceptions in threads).\n",
    "#### ii. Exception Propagation in Threads:\n",
    "- Python first looks for a try-except block inside the thread's target function.\n",
    "- If no handler is found within the thread, the exception is considered uncaught and is propagated to the thread's execution environment.\n",
    "#### iii. Uncaught Exception Handling in Threads:\n",
    "When an uncaught exception occurs in a thread, Python calls threading.excepthook() to handle it.\n",
    "\n",
    "#### Thread-Level threading.excepthook(): The threading.excepthook function is called with four parameters:\n",
    "- exc_type: The type of the exception (e.g., ZeroDivisionError).\n",
    "- exc_value: The exception message (e.g., \"division by zero\").\n",
    "- exc_tb: The traceback object with the call stack.\n",
    "- thread: The thread object that raised the uncaught exception, allowing identification of the source thread.\n",
    "#### The Role of threading.excepthook():\n",
    "- The default threading.excepthook() function prints a detailed traceback to the standard error (stderr) when an exception occurs in any thread.\n",
    "\n",
    "#### iv. Program Termination:\n",
    "- After printing the traceback, Python terminates the thread and, depending on whether other threads are running, the program may continue executing other threads.\n"
   ]
  },
  {
   "cell_type": "code",
   "execution_count": 2,
   "id": "93d32db2-849e-43c0-8b44-f9af44d470e9",
   "metadata": {},
   "outputs": [
    {
     "name": "stdout",
     "output_type": "stream",
     "text": [
      "Starting function in thread.\n",
      "Custom exception handler invoked for thread 'ErrorThread':\n",
      "Exception Type: <class 'ZeroDivisionError'>\n",
      "Exception Message: division by zero\n",
      "Thread ID: 23544\n"
     ]
    },
    {
     "name": "stderr",
     "output_type": "stream",
     "text": [
      "Traceback (most recent call last):\n",
      "  File \"C:\\Users\\Susan Lama\\AppData\\Local\\Programs\\Python\\Python313\\Lib\\threading.py\", line 1041, in _bootstrap_inner\n",
      "    self.run()\n",
      "    ~~~~~~~~^^\n",
      "  File \"C:\\Users\\Susan Lama\\AppData\\Local\\Programs\\Python\\Python313\\Lib\\site-packages\\ipykernel\\ipkernel.py\", line 766, in run_closure\n",
      "    _threading_Thread_run(self)\n",
      "    ~~~~~~~~~~~~~~~~~~~~~^^^^^^\n",
      "  File \"C:\\Users\\Susan Lama\\AppData\\Local\\Programs\\Python\\Python313\\Lib\\threading.py\", line 992, in run\n",
      "    self._target(*self._args, **self._kwargs)\n",
      "    ~~~~~~~~~~~~^^^^^^^^^^^^^^^^^^^^^^^^^^^^^\n",
      "  File \"C:\\Users\\Susan Lama\\AppData\\Local\\Temp\\ipykernel_6772\\1316037962.py\", line 23, in cause_error\n",
      "    result = 1 / 0  # This will raise ZeroDivisionError\n",
      "             ~~^~~\n",
      "ZeroDivisionError: division by zero\n"
     ]
    }
   ],
   "source": [
    "import threading\n",
    "import traceback\n",
    "\n",
    "# Custom excepthook to display exception details for threads\n",
    "def custom_thread_excepthook(args):\n",
    "    exc_type = args.exc_type  # Extract exception type from args\n",
    "    exc_value = args.exc_value  # Extract exception value from args\n",
    "    thread = args.thread  # Get the thread object\n",
    "\n",
    "    print(f\"Custom exception handler invoked for thread '{thread.name}':\")\n",
    "    print(f\"Exception Type: {exc_type}\")\n",
    "    print(f\"Exception Message: {exc_value}\")\n",
    "    traceback.print_exception(exc_type, exc_value, exc_value.__traceback__)\n",
    "    \n",
    "    print(f\"Thread ID: {thread.ident}\")\n",
    "\n",
    "# Set the custom threading.excepthook to override the default behavior\n",
    "threading.excepthook = custom_thread_excepthook\n",
    "\n",
    "# Function that raises an uncaught exception in a thread (ZeroDivisionError)\n",
    "def cause_error():\n",
    "    print(\"Starting function in thread.\")\n",
    "    result = 1 / 0  # This will raise ZeroDivisionError\n",
    "    print(\"Ending function in thread.\")\n",
    "\n",
    "# Create and start the thread\n",
    "error_thread = threading.Thread(target=cause_error, name=\"ErrorThread\")\n",
    "error_thread.start()\n",
    "\n",
    "# Wait for the thread to complete (this will let the exception propagate)\n",
    "error_thread.join()\n"
   ]
  }
 ],
 "metadata": {
  "kernelspec": {
   "display_name": "Python 3 (ipykernel)",
   "language": "python",
   "name": "python3"
  },
  "language_info": {
   "codemirror_mode": {
    "name": "ipython",
    "version": 3
   },
   "file_extension": ".py",
   "mimetype": "text/x-python",
   "name": "python",
   "nbconvert_exporter": "python",
   "pygments_lexer": "ipython3",
   "version": "3.13.0"
  },
  "widgets": {
   "application/vnd.jupyter.widget-state+json": {
    "state": {},
    "version_major": 2,
    "version_minor": 0
   }
  }
 },
 "nbformat": 4,
 "nbformat_minor": 5
}
