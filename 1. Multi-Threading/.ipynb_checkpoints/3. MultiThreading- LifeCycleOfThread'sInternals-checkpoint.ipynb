{
 "cells": [
  {
   "cell_type": "markdown",
   "id": "35dfda64-48a0-42c7-a16d-230f2d63272c",
   "metadata": {},
   "source": [
    "# Internals Life Cycle of Thread:"
   ]
  },
  {
   "cell_type": "markdown",
   "id": "9945b6fb-bb70-4839-b21c-8eefe5df8d8e",
   "metadata": {},
   "source": [
    "### 1. Creation of Thread (New State)\n",
    "### 2. Thread Runnable State\n",
    "### 3. Thread Running State\n",
    "### 4. Blocked/Waiting State\n",
    "### 5. Thread Terminated State"
   ]
  },
  {
   "cell_type": "code",
   "execution_count": null,
   "id": "de20cee9-6fa7-4a52-a457-67634dfa6325",
   "metadata": {},
   "outputs": [],
   "source": []
  },
  {
   "cell_type": "markdown",
   "id": "09b2d64f-890b-444b-a8c9-d95b8d82c670",
   "metadata": {},
   "source": [
    "## 1. Thread Creation (New State):\n",
    "When you create a thread object using threading.Thread, Python performs several steps internally to set up the thread. This process can be broken down into two main phases: Object Creation and Object Initialization."
   ]
  },
  {
   "cell_type": "markdown",
   "id": "8c6e5dc8-d608-420e-8860-961bd1808fbe",
   "metadata": {},
   "source": [
    "### 1.1 Object Creation (__new__ method):\n",
    "- Before the __init__() method is called, Python uses the __new__() method to allocate memory for the new thread object.\n",
    "- This is handled by the object.__new__() method, which is inherited by the threading.Thread class unless explicitly overridden.\n",
    "#### At this stage:\n",
    "- The thread object exists in memory, but its attributes (like target, args, etc.) are not yet initialized.\n",
    "- The object is a blank slate, ready for initialization."
   ]
  },
  {
   "cell_type": "markdown",
   "id": "27e9e75a-1800-41af-b8f7-6977e61a7931",
   "metadata": {},
   "source": [
    "### 1.2 Object Initialization (__init__ method):\n",
    "- After the object is created, the __init__() method is called to initialize the thread object’s attributes.\n",
    "#### Key attributes that are set during this step:\n",
    "- target: The function the thread will execute (if provided).\n",
    "- args: Positional arguments to pass to the target function (default: ()).\n",
    "- kwargs: Keyword arguments to pass to the target function (default: {}).\n",
    "- name: The thread’s name (default: Thread-N, where N is a unique number).\n",
    "- daemon: Whether the thread is a daemon thread (inherits from the parent thread unless explicitly specified)."
   ]
  },
  {
   "cell_type": "markdown",
   "id": "da81b5b8-35e8-487b-888b-183ce544f817",
   "metadata": {},
   "source": [
    "### 1.3 State of the Thread at the moment:\n",
    "After the thread object is created and initialized:\n",
    "- It exists only as a Python object.The thread does not yet have an associated operating system thread.\n",
    "\n",
    "#### The following attributes track the thread’s state:\n",
    "- _initialized: Set to True, indicating the thread object is properly initialized.\n",
    "\n",
    "- _started: Set to False, indicating the thread has not started.\n",
    "\n",
    "- _is_stopped: Set to False, indicating the thread has not stopped.\n",
    "\n",
    "- _target: Stores the reference to the function that the thread will execute.\n",
    "\n",
    "At this stage, the thread is in the \"New\" state and is inactive. The actual thread (at the OS level) is not yet created."
   ]
  },
  {
   "cell_type": "code",
   "execution_count": 12,
   "id": "10a04d53-76c6-477e-b411-a26ff248803f",
   "metadata": {},
   "outputs": [
    {
     "name": "stdout",
     "output_type": "stream",
     "text": [
      "Step 1: Allocating memory for the thread object...\n",
      "Step 2: Initializing the thread object...\n",
      "Thread object created: <CustomThread(Thread-17 (my_task), initial)>\n",
      "Thread ident before start: None\n",
      "Thread native_id before start: None\n"
     ]
    }
   ],
   "source": [
    "import threading\n",
    "\n",
    "def my_task():\n",
    "    print(\"Task is running\")\n",
    "\n",
    "# Custom Thread class to track creation and initialization\n",
    "class CustomThread(threading.Thread):\n",
    "    def __new__(cls, *args, **kwargs):\n",
    "        print(\"Step 1: Allocating memory for the thread object...\")\n",
    "        instance = super().__new__(cls)  # Call parent __new__ to allocate memory\n",
    "        return instance\n",
    "    \n",
    "    def __init__(self, *args, **kwargs):\n",
    "        print(\"Step 2: Initializing the thread object...\")\n",
    "        super().__init__(*args, **kwargs)  # Call parent __init__ to set up attributes\n",
    "\n",
    "# Create a thread object\n",
    "thread = CustomThread(target=my_task)\n",
    "\n",
    "print(\"Thread object created:\", thread)\n",
    "print(\"Thread ident before start:\", thread.ident)\n",
    "print(\"Thread native_id before start:\", thread.native_id)\n"
   ]
  },
  {
   "cell_type": "code",
   "execution_count": 13,
   "id": "7f334427-b1a9-449d-9b58-ade2355daab2",
   "metadata": {},
   "outputs": [
    {
     "name": "stdout",
     "output_type": "stream",
     "text": [
      "True\n",
      "<threading.Event at 0x2a283c92990: unset>\n",
      "<function my_task at 0x000002A2861D4220>\n"
     ]
    }
   ],
   "source": [
    "print(thread._initialized)  # True, thread object initialized\n",
    "print(thread._started)      # False, thread not yet started\n",
    "print(thread._target)       # Reference to my_task\n"
   ]
  },
  {
   "cell_type": "code",
   "execution_count": null,
   "id": "4d39c460-f921-45e5-9ba2-c7294602c029",
   "metadata": {},
   "outputs": [],
   "source": []
  },
  {
   "cell_type": "code",
   "execution_count": null,
   "id": "8cf0e1e4-d299-4139-b7a2-1b53b7bd4826",
   "metadata": {},
   "outputs": [],
   "source": []
  },
  {
   "cell_type": "markdown",
   "id": "3caa53ad-a7d3-4544-908e-7206de69550c",
   "metadata": {},
   "source": [
    "## 2. Thread State: Runable and Running States\n",
    "### 2.1 Runnable State:\n",
    "- Runnable State refers to when a thread is ready to run, and the operating system's thread scheduler can pick it up for execution. At this stage, the thread has been started by calling start(), and it’s in the queue of threads waiting for CPU time. The thread may not be actively executing because the OS may allocate CPU time to other threads before it.\n",
    "- _started: Set to True, indicating the thread has been started."
   ]
  },
  {
   "cell_type": "markdown",
   "id": "0534f2de-5e0b-4fcf-b4ab-520971fd7790",
   "metadata": {},
   "source": [
    "### What is an OS-Level Thread?\n",
    "- An OS-level thread refers to a thread that the operating system manages directly. These threads are handled by the OS's kernel and are scheduled for execution on the CPU. OS threads are responsible for actual parallel execution of tasks and are typically part of the operating system’s thread scheduler.\n",
    "\n",
    "### OS-Level Thread Creation in Runnable State:\n",
    "- The OS-level thread is created when the Python thread transitions to the Runnable state, specifically after calling the start() method. At this point, the thread becomes eligible for scheduling by the OS, but it may not be actively running until the OS scheduler allocates CPU time."
   ]
  },
  {
   "cell_type": "markdown",
   "id": "d2b4fc17-7885-45bf-8dc4-7be1a108df43",
   "metadata": {},
   "source": [
    "### Life Cycle of Runnable State:\n",
    "i. Thread Start:\n",
    "- The thread moves to the Runnable state once start() is invoked.\n",
    "- The thread is now eligible to run but may not be immediately executed.\n",
    "\n",
    "ii. Waiting for CPU Time:\n",
    "- In the Runnable state, the thread waits for the operating system to allocate CPU time to it.\n",
    "- Other threads may be executing depending on their priority, CPU availability, and the OS scheduler’s decisions.\n",
    "\n",
    "iii. OS Scheduling:\n",
    "- The thread remains in the Runnable state until the OS scheduler picks it up and gives it CPU time.\n",
    "- The OS scheduler may choose another thread to run before the current thread.\n",
    "\n",
    "iv. Transition to Running State:\n",
    "- Once the OS scheduler allocates CPU time to the thread, it transitions to the Running state, where it begins executing its target function (i.e., the run() method).\n",
    "- At this point, the Runnable thread becomes actively running on the CPU."
   ]
  },
  {
   "cell_type": "code",
   "execution_count": null,
   "id": "4ce4a994-f7a6-4275-90ea-1655bc7ffb22",
   "metadata": {},
   "outputs": [],
   "source": []
  },
  {
   "cell_type": "markdown",
   "id": "98f02a2a-d591-440a-98cc-6b4bd75418b6",
   "metadata": {},
   "source": [
    "### 2.2 Running State:\n",
    "- The Running state occurs when a thread has been scheduled by the operating system and is actively executing its target function. The thread has been granted CPU time and is performing its task."
   ]
  },
  {
   "cell_type": "markdown",
   "id": "7d7d5b45-8ffc-43f2-b1a8-466dc459a27f",
   "metadata": {},
   "source": [
    "### Transition to the Running State:\n",
    "- A thread transitions from the Runnable state to the Running state when the OS schedules it for execution. This happens after the thread is created and the start() method is invoked.\n",
    "\n",
    "### How Transition happens?\n",
    "When start() is called, the Python threading system:\n",
    "- Moves the thread to the Runnable state — making it eligible to run.\n",
    "- The OS creates an OS-level thread to handle the actual execution of the target function.\n",
    "- The OS schedules the thread and invokes its run() method.\n",
    "\n",
    "### What Happens in the run() Method?\n",
    "- The run() method contains the code that the thread executes.\n",
    "- The run() method is automatically invoked when start() is called."
   ]
  },
  {
   "cell_type": "code",
   "execution_count": 14,
   "id": "67ad2ab3-1a39-49fd-b024-7418db86618f",
   "metadata": {},
   "outputs": [
    {
     "name": "stdout",
     "output_type": "stream",
     "text": [
      "Custom run method is executing.\n",
      "Task is running\n",
      "Task completed\n",
      "Thread has finished execution.\n",
      "Thread ident after start: 20964\n",
      "Thread native_id after start: 20964\n"
     ]
    }
   ],
   "source": [
    "import threading\n",
    "import time\n",
    "\n",
    "def my_task():\n",
    "    print(\"Task is running\")\n",
    "    time.sleep(2)\n",
    "    print(\"Task completed\")\n",
    "\n",
    "class CustomThread(threading.Thread):\n",
    "    def run(self):\n",
    "        print(\"Custom run method is executing.\")\n",
    "        my_task()\n",
    "\n",
    "# Create and start thread\n",
    "thread = CustomThread()\n",
    "thread.start()  # start() calls run() internally\n",
    "thread.join()  # Wait for thread to finish\n",
    "\n",
    "print(\"Thread has finished execution.\")\n",
    "print(\"Thread ident after start:\", thread.ident)\n",
    "print(\"Thread native_id after start:\", thread.native_id)"
   ]
  },
  {
   "cell_type": "code",
   "execution_count": 5,
   "id": "221d9198-cdfd-41a7-acd1-d6114e2d8482",
   "metadata": {},
   "outputs": [
    {
     "name": "stdout",
     "output_type": "stream",
     "text": [
      "True\n",
      "<threading.Event at 0x2a283c92990: set>\n"
     ]
    }
   ],
   "source": [
    "print(thread._initialized)  # True, thread object initialized\n",
    "print(thread._started)      # set, thread is started"
   ]
  },
  {
   "cell_type": "code",
   "execution_count": null,
   "id": "21b8cee3-8308-4b67-abf6-cb39d229c877",
   "metadata": {},
   "outputs": [],
   "source": []
  },
  {
   "cell_type": "code",
   "execution_count": null,
   "id": "2371196b-be1f-4553-83d7-8003f6766175",
   "metadata": {},
   "outputs": [],
   "source": []
  },
  {
   "cell_type": "markdown",
   "id": "b2f40208-ca48-439c-92cd-89a6219a8db5",
   "metadata": {},
   "source": [
    "## 3. Blocked/Waiting State:"
   ]
  },
  {
   "cell_type": "markdown",
   "id": "786362c1-57c4-49f7-80ad-4282ef2a9352",
   "metadata": {},
   "source": [
    "- Blocked State: A thread is blocked when it is waiting for a resource (e.g., a lock) to become available.\n",
    "- Waiting State: A thread is waiting when it is explicitly paused, waiting for a condition (e.g., another thread’s completion or a specific time)."
   ]
  },
  {
   "cell_type": "markdown",
   "id": "f5886a32-8254-42d2-82cc-01a38b44e4ee",
   "metadata": {},
   "source": [
    "### When Does a Thread Enter Blocked or Waiting State?\n",
    "- Blocked State: Occurs when a thread tries to acquire a lock or resource already held by another thread.\n",
    "- Waiting State: Happens when a thread calls join(), sleep(), or wait()."
   ]
  },
  {
   "cell_type": "code",
   "execution_count": 15,
   "id": "6ee4b8d7-2a2e-405d-80e9-a610d8289211",
   "metadata": {},
   "outputs": [
    {
     "name": "stdout",
     "output_type": "stream",
     "text": [
      "Thread 1 is trying to acquire the lock.\n",
      "Thread 1 has acquired the lock and is running.\n",
      "Thread 2 is trying to acquire the lock.\n",
      "Thread 1 has released the lock.Thread 2 has acquired the lock and is running.\n",
      "\n",
      "Thread 2 has released the lock.\n"
     ]
    }
   ],
   "source": [
    "# Demonstrating the Blocked State:\n",
    "\n",
    "import threading\n",
    "import time\n",
    "\n",
    "lock = threading.Lock()\n",
    "\n",
    "def task(thread_name):\n",
    "    print(f\"{thread_name} is trying to acquire the lock.\")\n",
    "    with lock:\n",
    "        print(f\"{thread_name} has acquired the lock and is running.\")\n",
    "        time.sleep(2)  # Simulate some work being done\n",
    "    print(f\"{thread_name} has released the lock.\")\n",
    "\n",
    "# Create two threads that will both try to acquire the same lock\n",
    "thread1 = threading.Thread(target=task, args=(\"Thread 1\",))\n",
    "thread2 = threading.Thread(target=task, args=(\"Thread 2\",))\n",
    "\n",
    "thread1.start()\n",
    "thread2.start()\n",
    "\n",
    "# Wait for both threads to finish\n",
    "thread1.join()\n",
    "thread2.join()\n"
   ]
  },
  {
   "cell_type": "code",
   "execution_count": 16,
   "id": "504c0b7c-330a-41a9-95bc-32774aa934b6",
   "metadata": {},
   "outputs": [
    {
     "name": "stdout",
     "output_type": "stream",
     "text": [
      "Task 1 started\n",
      "Task 2 started\n",
      "Task 2 finished\n",
      "Task 1 finished\n"
     ]
    }
   ],
   "source": [
    "# Demonstrating Waiting State:\n",
    "import threading\n",
    "import time\n",
    "\n",
    "def task_1():\n",
    "    print(\"Task 1 started\")\n",
    "    time.sleep(3)  # Simulating waiting state\n",
    "    print(\"Task 1 finished\")\n",
    "\n",
    "def task_2():\n",
    "    print(\"Task 2 started\")\n",
    "    time.sleep(2)  # Simulating some work before finishing\n",
    "    print(\"Task 2 finished\")\n",
    "\n",
    "# Create two threads\n",
    "thread1 = threading.Thread(target=task_1)\n",
    "thread2 = threading.Thread(target=task_2)\n",
    "\n",
    "# Start both threads\n",
    "thread1.start()\n",
    "thread2.start()\n",
    "\n",
    "# Wait for both threads to finish\n",
    "thread1.join()\n",
    "thread2.join()\n"
   ]
  },
  {
   "cell_type": "markdown",
   "id": "ae2a531e-5eb8-4034-a457-d4f4d82ba3b3",
   "metadata": {},
   "source": [
    "### CPU Usage:\n",
    "- Threads in the blocked or waiting state do not consume CPU time, allowing other threads to run."
   ]
  },
  {
   "cell_type": "code",
   "execution_count": null,
   "id": "b228633e-82ba-4ed3-bd8f-3f1e0ee4d457",
   "metadata": {},
   "outputs": [],
   "source": []
  },
  {
   "cell_type": "code",
   "execution_count": null,
   "id": "d6c2ab1d-d10d-4f40-839b-1e71f2ba1718",
   "metadata": {},
   "outputs": [],
   "source": []
  },
  {
   "cell_type": "markdown",
   "id": "ac2c08b1-48b1-4d6d-8ba3-a4f2af7cd3b2",
   "metadata": {},
   "source": [
    "## 4. Terminated State:\n",
    "- The terminated state occurs when a thread has finished its execution. After the thread has run its target function (or the run() method if overridden), it automatically moves into the terminated state. Once in the terminated state, the thread cannot be restarted or reuse.\n",
    "- The is_alive() method returns False once the thread has terminated."
   ]
  },
  {
   "cell_type": "code",
   "execution_count": 17,
   "id": "c522e800-0a39-41cb-8a23-63e82e11fd67",
   "metadata": {},
   "outputs": [
    {
     "name": "stdout",
     "output_type": "stream",
     "text": [
      "Task started\n",
      "Task finished\n",
      "Is the thread alive? False\n",
      "Thread ident after termination: 16788\n",
      "Thread native_id after termination: 16788\n"
     ]
    }
   ],
   "source": [
    "import threading\n",
    "import time\n",
    "\n",
    "def task():\n",
    "    print(\"Task started\")\n",
    "    time.sleep(2)  # Simulating task execution\n",
    "    print(\"Task finished\")\n",
    "\n",
    "# Create a thread\n",
    "thread = threading.Thread(target=task)\n",
    "\n",
    "# Start the thread\n",
    "thread.start()\n",
    "\n",
    "# Wait for the thread to finish\n",
    "thread.join()\n",
    "\n",
    "# Check if the thread is alive (i.e., terminated or not)\n",
    "print(\"Is the thread alive?\", thread.is_alive())\n",
    "print(\"Thread ident after termination:\", thread.ident)\n",
    "print(\"Thread native_id after termination:\", thread.native_id)"
   ]
  },
  {
   "cell_type": "markdown",
   "id": "4abc3e29-d5b0-44ab-8e8f-24d6e5e15447",
   "metadata": {},
   "source": [
    "### Why it remains:\n",
    "- The Thread object itself does not get deleted or reset when the thread terminates. The thread's internal state, including its identifiers (ident and native_id), stays with the object until it is explicitly deleted or goes out of scope."
   ]
  },
  {
   "cell_type": "code",
   "execution_count": null,
   "id": "d927e7d8-d1e4-43c5-b024-9f3ee58ef625",
   "metadata": {},
   "outputs": [],
   "source": []
  }
 ],
 "metadata": {
  "kernelspec": {
   "display_name": "Python 3 (ipykernel)",
   "language": "python",
   "name": "python3"
  },
  "language_info": {
   "codemirror_mode": {
    "name": "ipython",
    "version": 3
   },
   "file_extension": ".py",
   "mimetype": "text/x-python",
   "name": "python",
   "nbconvert_exporter": "python",
   "pygments_lexer": "ipython3",
   "version": "3.13.0"
  },
  "widgets": {
   "application/vnd.jupyter.widget-state+json": {
    "state": {},
    "version_major": 2,
    "version_minor": 0
   }
  }
 },
 "nbformat": 4,
 "nbformat_minor": 5
}
