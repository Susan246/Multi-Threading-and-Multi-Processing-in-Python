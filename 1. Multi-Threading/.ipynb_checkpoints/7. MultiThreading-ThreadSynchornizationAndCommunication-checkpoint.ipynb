{
 "cells": [
  {
   "cell_type": "markdown",
   "id": "7de29aa5-2da0-4f9c-8991-ad3ee0de5ed6",
   "metadata": {},
   "source": [
    "# Thread Synchornization and Communication:\n",
    "- In Python, thread communication is crucial for synchronizing threads and ensuring that they can share data and signals effectively. The threading module provides several synchronization primitives, including Event, Condition, and Queue, that allow threads to communicate and coordinate their execution."
   ]
  },
  {
   "cell_type": "markdown",
   "id": "ca2e1456-2f97-4562-9879-a3de35ae4ed2",
   "metadata": {},
   "source": [
    "### 1. Thread Synchronization using Event Object (signal):\n",
    "- The Event object is part of the threading module in Python and is designed to allow one thread to signal one or more other threads that an event has occurred. It is particularly useful when threads need to coordinate and wait for certain conditions to be met before proceeding.\n",
    "- The Event object has two key states: set and unset. Threads can wait for the event to be set, and once it is set, the event allows threads to proceed. It’s commonly used for coordinating actions between threads in a multi-threaded environment"
   ]
  },
  {
   "cell_type": "markdown",
   "id": "5714474c-8f08-4699-8f20-efa9122a8007",
   "metadata": {},
   "source": [
    "### threading.Event() Objects and Methods:\n",
    "#### i. event.is_set():\n",
    "\n",
    "- Checks if the event has been set. It returns True if the event is set, otherwise False.\n",
    "#### ii. event.set():\n",
    "- Sets the event, which means it signals all threads that are waiting for the event to proceed. Once the event is set, all waiting threads are unblocked and can continue execution.\n",
    "#### iii. event.clear():\n",
    "- Clears the event, which resets it back to its unset state. If threads are waiting for the event to be set, they will remain blocked until it is set again.\n",
    "#### iv. event.wait(timeout=None):\n",
    "- Makes the calling thread wait until the event is set. If the event is already set, the thread continues immediately. If a timeout value is provided, the thread will wait for the event to be set for the specified time before timing out."
   ]
  },
  {
   "cell_type": "markdown",
   "id": "ca6531b8-dbf3-452a-9647-c449793910c9",
   "metadata": {},
   "source": [
    "### Workflow:\n",
    "- Thread Initialization: A threading.Event object is created, and its state is initially unset (i.e., the event is not set).\n",
    "- Waiting Threads: One or more threads can call event.wait(). If the event is unset, these threads will block (i.e., they wait) until the event is set.\n",
    "The threads remain in a blocked state, waiting for the signal (event) to proceed.\n",
    "- Event Set: Another thread (or the main thread) can call event.set() to set the event. When this happens, all waiting threads will be unblocked and continue their execution.\n",
    "The event.set() method triggers all waiting threads to proceed and they are released from the blocked state.\n",
    "\n",
    "- Event Clear: After the event is set, it stays in the set state until explicitly cleared. If the event is cleared using event.clear(), the event is reset to the unset state, and any subsequent threads calling event.wait() will block again until the event is set again.\n",
    "- Timeout Handling: A thread can also use event.wait(timeout) where it waits for the event to be set but only for a specified duration (timeout). If the event is not set within the timeout period, the thread will proceed after the timeout ends."
   ]
  },
  {
   "cell_type": "code",
   "execution_count": 1,
   "id": "f9db53e7-469b-4376-b264-97734598777f",
   "metadata": {},
   "outputs": [
    {
     "name": "stdout",
     "output_type": "stream",
     "text": [
      "Producer: Doing some work...Consumer: Waiting for the event to be set...\n",
      "\n",
      "Producer: Work done, setting the event.\n",
      "Consumer: starting the work now!\n",
      "Both threads have finished their tasks.\n"
     ]
    }
   ],
   "source": [
    "import threading\n",
    "import time\n",
    "\n",
    "# Create an Event object\n",
    "event = threading.Event()\n",
    "\n",
    "# Producer thread (sets the event)\n",
    "def producer():\n",
    "    print(\"Producer: Doing some work...\")\n",
    "    time.sleep(4)  # Simulating some work\n",
    "    print(\"Producer: Work done, setting the event.\")\n",
    "    event.set()  # Set the event, notifying the consumer\n",
    "\n",
    "# Consumer thread (waits for the event)\n",
    "def consumer():\n",
    "    print(\"Consumer: Waiting for the event to be set...\")\n",
    "    event.wait()  # Wait until the event is set\n",
    "    print(\"Consumer: starting the work now!\")\n",
    "\n",
    "# Create and start the threads\n",
    "producer_thread = threading.Thread(target=producer)\n",
    "consumer_thread = threading.Thread(target=consumer)\n",
    "\n",
    "producer_thread.start()\n",
    "consumer_thread.start()\n",
    "\n",
    "# Wait for both threads to complete\n",
    "producer_thread.join()\n",
    "consumer_thread.join()\n",
    "\n",
    "print(\"Both threads have finished their tasks.\")\n"
   ]
  },
  {
   "cell_type": "markdown",
   "id": "e4a4064c-a71b-4218-91c4-ede510e42989",
   "metadata": {},
   "source": [
    "### How It Works:\n",
    "- The consumer thread is blocked initially, waiting for the event to be set.\n",
    "- The producer thread simulates work and then sets the event, which wakes up the consumer thread to continue its work."
   ]
  },
  {
   "cell_type": "markdown",
   "id": "20976b6c-7959-4250-9bcd-9e707d7a49b9",
   "metadata": {},
   "source": [
    "### Advantages of Event Object:\n",
    "- Simple Synchronization: Allows threads to wait for a specific event to occur.\n",
    "- Efficient Communication: Threads are blocked only when necessary, improving performance.\n",
    "- Thread Control: Useful for precise control in synchronized tasks.\n",
    "- Automatic Reset: Once the event is set, all waiting threads are released.\n",
    "\n",
    "### Limitations of Event Object:\n",
    "- Manual Reset: Events need to be manually cleared for reuse.\n",
    "- Limited Coordination: Not suitable for complex thread coordination.\n",
    "- No Prioritization: All waiting threads are released once the event is set.\n",
    "- Deadlock Risk: Threads can block indefinitely if the event is never set.\n",
    "\n",
    "### Use Cases:\n",
    "- Producer-Consumer: Consumer waits for data to be produced before processing.\n",
    "- Thread Synchronization: A thread waits for a signal from another thread to proceed.\n",
    "- Thread Coordination: Ensures threads start after specific conditions are met.\n",
    "- Job Completion Notification: A thread waits for another thread to complete a task.\n"
   ]
  },
  {
   "cell_type": "code",
   "execution_count": null,
   "id": "95bed319-d81d-4910-9ad5-66fa3c0ff6de",
   "metadata": {},
   "outputs": [],
   "source": []
  },
  {
   "cell_type": "code",
   "execution_count": null,
   "id": "60ea4607-7ddd-416a-93d3-c6a8a8b23476",
   "metadata": {},
   "outputs": [],
   "source": []
  },
  {
   "cell_type": "markdown",
   "id": "6a6c4f03-942f-4107-bf33-3fbe75dec49f",
   "metadata": {},
   "source": [
    "### 2. Thread Synchronization using Condition Object (signal):\n",
    "- A Condition object is a synchronization primitive that is used for communication between threads in Python. It allows one or more threads to wait until they are notified by another thread. It is typically used when threads need to wait for some condition to be met before they proceed with their execution."
   ]
  },
  {
   "cell_type": "markdown",
   "id": "38cfd172-86d6-4cb6-9152-784ee0f75286",
   "metadata": {},
   "source": [
    "### threading.Condition(lock=None) Objects and Methods:\n",
    "#### i. acquire(*args):\n",
    "- Acquires the condition lock. This method can be called multiple times, and it will block until the lock is available.\n",
    "- condition.acquire()\n",
    "#### ii. release():\n",
    "- Releases the condition lock, allowing other threads to acquire it.\n",
    "- condition.release()\n",
    "#### iii. wait(timeout=-1):\n",
    "- Causes the calling thread to release the acquired lock and block until another thread calls notify() or notify_all() on the same condition.\n",
    "- condition.wait()\n",
    "- The thread can be notified with an optional timeout (i.e., wait(timeout)).\n",
    "#### iv. notify(n=1):\n",
    "- Wakes up one of the threads that are waiting on the condition. If no threads are waiting, this method has no effect.\n",
    "- condition.notify()\n",
    "#### v. notify_all():\n",
    "- Wakes up all threads that are waiting on the condition.\n",
    "- condition.notify_all()\n"
   ]
  },
  {
   "cell_type": "markdown",
   "id": "998d8b54-bbf0-4f52-845c-4299c8bc7525",
   "metadata": {},
   "source": [
    "### Workflow:\n",
    "- A thread calls acquire() to acquire the lock associated with the condition.\n",
    "- If a thread needs to wait for a condition (e.g., a value to be updated), it will call wait(), which releases the lock and puts the thread in the \"waiting\" state.\n",
    "- Another thread, which is modifying the shared data, calls notify() or notify_all() to wake up one or more waiting threads.\n",
    "- The awakened threads re-acquire the lock and continue execution."
   ]
  },
  {
   "cell_type": "code",
   "execution_count": 2,
   "id": "7986d85b-72bb-4985-b2b7-cad945da3a29",
   "metadata": {},
   "outputs": [
    {
     "name": "stdout",
     "output_type": "stream",
     "text": [
      "Patient John is waiting for an appointment.\n",
      "Patient Mary is waiting for an appointment.\n",
      "Doctor is checking the schedule for appointments.\n",
      "Doctor has finalized the appointments.\n",
      "Patient Mary got the appointment and is leaving.\n",
      "Patient John got the appointment and is leaving.\n"
     ]
    }
   ],
   "source": [
    "import time\n",
    "from threading import Thread, Condition\n",
    "\n",
    "class Appointment:\n",
    "    def __init__(self):\n",
    "        self.condition = Condition()\n",
    "\n",
    "    def patient(self, patient_name):\n",
    "        self.condition.acquire()  # Acquire the condition lock\n",
    "        print(f\"Patient {patient_name} is waiting for an appointment.\")\n",
    "        self.condition.wait()  # Wait for the doctor's notification\n",
    "        print(f\"Patient {patient_name} got the appointment and is leaving.\")\n",
    "        self.condition.release()  # Release the condition lock\n",
    "\n",
    "    def doctor(self):\n",
    "        self.condition.acquire()  # Acquire the condition lock\n",
    "        print(\"Doctor is checking the schedule for appointments.\")\n",
    "        time.sleep(3)  # Simulate time taken to check schedule\n",
    "        print(\"Doctor has finalized the appointments.\")\n",
    "        self.condition.notify_all()  # Notify all waiting patients\n",
    "        self.condition.release()  # Release the condition lock\n",
    "\n",
    "# Create an appointment object\n",
    "appointment = Appointment()\n",
    "\n",
    "# Create threads for two patients\n",
    "patient1 = Thread(target=appointment.patient, args=(\"John\",))\n",
    "patient2 = Thread(target=appointment.patient, args=(\"Mary\",))\n",
    "\n",
    "# Create the doctor thread\n",
    "doctor = Thread(target=appointment.doctor)\n",
    "\n",
    "# Start the threads\n",
    "patient1.start()\n",
    "patient2.start()\n",
    "doctor.start()\n",
    "\n",
    "# Wait for all threads to complete\n",
    "patient1.join()\n",
    "patient2.join()\n",
    "doctor.join()\n"
   ]
  },
  {
   "cell_type": "markdown",
   "id": "3d7eb918-83c4-44a5-8aaa-b1efca78cab4",
   "metadata": {},
   "source": [
    "### Internal Working of Locks:\n",
    "#### i. Acquiring and Releasing the Lock:\n",
    "- When condition.acquire() is called, the thread acquires the lock.\n",
    "- When condition.release() is called, the lock is released, allowing other threads to acquire it.\n",
    "#### ii. Waiting:\n",
    "- When a patient calls condition.wait(), it releases the lock and enters a waiting state.\n",
    "- The thread remains in the waiting state until it is notified by another thread.\n",
    "#### iii. Notify and Competing for Lock:\n",
    "- When notify_all() is called, all waiting threads are notified but must re-acquire the lock before proceeding.\n",
    "- The first thread to acquire the lock proceeds, while others wait for their turn.\n"
   ]
  },
  {
   "cell_type": "markdown",
   "id": "2140b403-64d7-4d66-a1d7-4becaeee8c8b",
   "metadata": {},
   "source": [
    "### Advantages of Condition Over Event:\n",
    "- Implicit Locking:\n",
    "The Condition object automatically manages locking and unlocking, providing synchronization for shared resources.\n",
    "\n",
    "- Reusability:\n",
    "Condition is more versatile and can handle complex synchronization patterns involving multiple threads."
   ]
  },
  {
   "cell_type": "markdown",
   "id": "ab4dd03c-d280-4c64-a51e-f4cf0ee02dd7",
   "metadata": {},
   "source": [
    "### Limitations of Condition:\n",
    "- Overhead:\n",
    "Managing locks and Condition objects requires additional CPU cycles compared to simpler synchronization methods.\n",
    "\n",
    "- Complexity:\n",
    "With many threads and conditions, the logic can become harder to maintain and debug.\n"
   ]
  },
  {
   "cell_type": "markdown",
   "id": "74da6eff-3e02-43d0-9354-18e1957661c8",
   "metadata": {},
   "source": [
    "### Use Cases of Condition:\n",
    "- Producer-Consumer Model:\n",
    "Producers add items to a buffer, and consumers wait for items to be available, synchronized using Condition.\n",
    "\n",
    "- Task Scheduling:\n",
    "A scheduler thread signals worker threads when tasks are ready to execute.\n",
    "\n",
    "- Resource Coordination:\n",
    "Threads waiting for limited resources, like connections in a pool, can be managed using"
   ]
  },
  {
   "cell_type": "code",
   "execution_count": null,
   "id": "11f1cb52-ef7b-4c37-86e7-88df68288d8f",
   "metadata": {},
   "outputs": [],
   "source": []
  },
  {
   "cell_type": "code",
   "execution_count": null,
   "id": "3e4d3917-fea8-4f07-bc04-e7d87186a386",
   "metadata": {},
   "outputs": [],
   "source": []
  },
  {
   "cell_type": "markdown",
   "id": "1b3f8d05-2932-484b-bee0-db375752e91b",
   "metadata": {},
   "source": [
    "### 3. Thread Communication with Queue (data):\n",
    "- queue.Queue is a thread-safe, FIFO (First In, First Out) data structure used for managing tasks between threads in Python. It is often used for producer-consumer problems, where one or more producer threads add tasks to the queue, and one or more consumer threads process them."
   ]
  },
  {
   "cell_type": "markdown",
   "id": "af19426c-daae-4e35-9554-0a154fa75991",
   "metadata": {},
   "source": [
    "### queue.Queue(maxsize) Objects and Methods:\n",
    "#### i. put(item): Adds an item to the queue.\n",
    "- Blocks if the queue is full (when maxsize is specified).\n",
    "#### ii. get(): Removes and returns an item from the queue.\n",
    "- Blocks if the queue is empty.\n",
    "#### iv. get_nowait(): \n",
    "- Removes and returns an item from the queue without blocking. If empty, raises queue.Empty.\n",
    "#### v. put_nowait(item): \n",
    "- Adds an item to the queue without blocking. If the queue is full, raises queue.Full.\n",
    "\n",
    "#### vi. qsize():\n",
    "- Returns the approximate size of the queue.\n",
    "\n",
    "#### v. empty():\n",
    "- Returns True if the queue is empty, otherwise False.\n",
    "\n",
    "#### vi. full():\n",
    "- Returns True if the queue is full, otherwise False."
   ]
  },
  {
   "cell_type": "code",
   "execution_count": null,
   "id": "4311e53b-33ef-4ba8-8297-0b1d8e5c7ba0",
   "metadata": {},
   "outputs": [
    {
     "name": "stdout",
     "output_type": "stream",
     "text": [
      "Produced 0\n",
      "Consumed 0\n",
      "Produced 1\n",
      "Consumed 1\n",
      "Produced 2\n",
      "Produced 3\n",
      "Consumed 2\n",
      "Produced 4\n",
      "Produced 5\n",
      "Consumed 3\n",
      "Produced 6\n",
      "Produced 7\n",
      "Consumed 4\n",
      "Produced 8\n",
      "Produced 9\n",
      "Consumed 5\n",
      "Consumed 6\n",
      "Consumed 7\n",
      "Consumed 8\n",
      "Consumed 9\n"
     ]
    }
   ],
   "source": [
    "import threading\n",
    "import queue\n",
    "import time\n",
    "\n",
    "# Create a thread-safe queue with max size 5\n",
    "task_queue = queue.Queue(maxsize=5)\n",
    "\n",
    "# Producer thread\n",
    "def producer():\n",
    "    for i in range(10):\n",
    "        task_queue.put(i)  # Add item to the queue\n",
    "        print(f\"Produced {i}\")\n",
    "        time.sleep(1)\n",
    "\n",
    "# Consumer thread\n",
    "def consumer():\n",
    "    while True:\n",
    "        item = task_queue.get()  # Get item from the queue\n",
    "        print(f\"Consumed {item}\")\n",
    "        time.sleep(2)\n",
    "        task_queue.task_done()  # Mark the task as done\n",
    "\n",
    "# Create and start threads\n",
    "producer_thread = threading.Thread(target=producer)\n",
    "consumer_thread = threading.Thread(target=consumer)\n",
    "\n",
    "producer_thread.start()\n",
    "consumer_thread.start()\n",
    "\n",
    "producer_thread.join()\n",
    "consumer_thread.join()\n"
   ]
  },
  {
   "cell_type": "markdown",
   "id": "7eadfb47-13a6-4210-b67b-01bed45051a6",
   "metadata": {},
   "source": [
    "### Advantages of queue.Queue over Condition:\n",
    "- Built-in Blocking: Methods like get() and put() block when the queue is empty or full, respectively. With Condition, you need to manage waiting and blocking states explicitly.\n",
    "\n",
    "- Thread Safety: Queue automatically ensures that only one thread accesses the queue at a time, preventing race conditions without needing manual locks like Condition."
   ]
  },
  {
   "cell_type": "markdown",
   "id": "7c1818fd-0d5a-43c4-b442-7d69b7840595",
   "metadata": {},
   "source": [
    "### Use Cases of queue.Queue:\n",
    "- Producer-Consumer Pattern: Multiple producer threads generate tasks (items) and place them in the queue; consumer threads process these tasks.\n",
    "\n",
    "- Task Scheduling: Threads push tasks (functions or objects) to the queue, and worker threads process them asynchronously.\n",
    "\n",
    "- Data Pipeline: Used in scenarios where data is passed between different stages, with each stage processed by a different thread."
   ]
  }
 ],
 "metadata": {
  "kernelspec": {
   "display_name": "Python 3 (ipykernel)",
   "language": "python",
   "name": "python3"
  },
  "language_info": {
   "codemirror_mode": {
    "name": "ipython",
    "version": 3
   },
   "file_extension": ".py",
   "mimetype": "text/x-python",
   "name": "python",
   "nbconvert_exporter": "python",
   "pygments_lexer": "ipython3",
   "version": "3.13.0"
  },
  "widgets": {
   "application/vnd.jupyter.widget-state+json": {
    "state": {},
    "version_major": 2,
    "version_minor": 0
   }
  }
 },
 "nbformat": 4,
 "nbformat_minor": 5
}
