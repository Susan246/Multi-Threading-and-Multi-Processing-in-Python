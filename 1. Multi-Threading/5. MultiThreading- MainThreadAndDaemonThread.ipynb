{
 "cells": [
  {
   "cell_type": "markdown",
   "id": "0832b36e-2307-41cb-a2c8-c1a2b0f560c3",
   "metadata": {},
   "source": [
    "# 1. Main Thread:"
   ]
  },
  {
   "cell_type": "markdown",
   "id": "b449763e-1612-4261-8df2-0814463f048e",
   "metadata": {},
   "source": [
    "- The main thread is the thread in which the Python program starts execution. When a Python program runs, it always begins by executing the code in the main thread. If no additional threads are created, the main thread will complete the execution of the program."
   ]
  },
  {
   "cell_type": "markdown",
   "id": "4e4de8cf-d5af-4c60-95cb-e77f7d084c46",
   "metadata": {},
   "source": [
    "### Key Points About Main Thread:\n",
    "- Starting Point: The main thread is created when the program starts and is where the initial execution of the program occurs.\n",
    "- Primary Thread: It is the thread from which all other threads are spawned (if created).\n",
    "- Program Terminates: The main thread controls the termination of the program. If the main thread completes execution, the program will exit, unless there are daemon threads running."
   ]
  },
  {
   "cell_type": "markdown",
   "id": "0e07a5d0-254f-48da-a5b3-1a45fdf79469",
   "metadata": {},
   "source": [
    "### Main Thread Attributes:\n",
    "- name: The name of the current thread, which for the main thread is typically \"MainThread\".\n",
    "- is_alive(): Returns True if the main thread is still running, otherwise False.\n",
    "- ident: The unique identifier for the thread (it is set after the thread starts).\n",
    "- native_id: The native OS thread ID, which can be useful for OS-level debugging.\n",
    "- threading.active_count(): Returns the number of Thread objects currently alive (i.e., threads that have been started and not yet terminated).\n",
    "- threading.current_thread(): Returns the current thread object, which refers to the thread calling the method. This is typically the main thread, unless explicitly called from another thread."
   ]
  },
  {
   "cell_type": "code",
   "execution_count": 6,
   "id": "fdc8ad79-49b5-4d5c-b79d-03e5d64616a1",
   "metadata": {},
   "outputs": [
    {
     "name": "stdout",
     "output_type": "stream",
     "text": [
      "thread name: MainThread\n",
      "thread alive: True\n",
      "thread ident: 22396\n",
      "thread native ID: 22396\n"
     ]
    }
   ],
   "source": [
    "import threading\n",
    "import time\n",
    "\n",
    "# Main thread accesses its own attributes before any additional threads are started\n",
    "print(f\"thread name: {threading.current_thread().name}\")\n",
    "print(f\"thread alive: {threading.current_thread().is_alive()}\")\n",
    "print(f\"thread ident: {threading.current_thread().ident}\")\n",
    "print(f\"thread native ID: {threading.current_thread().native_id}\")\n"
   ]
  },
  {
   "cell_type": "code",
   "execution_count": 7,
   "id": "803d749c-8841-47ce-9e5b-ed9bdc9ba61a",
   "metadata": {},
   "outputs": [
    {
     "name": "stdout",
     "output_type": "stream",
     "text": [
      "Main thread is starting...\n",
      "Active threads before starting child threads: 6\n",
      "Child thread Child-1 is starting...\n",
      "Child thread Child-2 is starting...\n",
      "Child thread Child-3 is starting...\n",
      "Active threads after starting child threads: 9\n",
      "Child thread Child-1 is finishing...Child thread Child-2 is finishing...\n",
      "Child thread Child-3 is finishing...\n",
      "\n",
      "Active threads after finishing all threads: 6\n",
      "Main thread is finishing...\n"
     ]
    }
   ],
   "source": [
    "import threading\n",
    "import time\n",
    "\n",
    "def child_thread():\n",
    "    print(f\"Child thread {threading.current_thread().name} is starting...\")\n",
    "    time.sleep(2)  # Simulate some work\n",
    "    print(f\"Child thread {threading.current_thread().name} is finishing...\")\n",
    "\n",
    "def main_thread():\n",
    "    print(\"Main thread is starting...\")\n",
    "\n",
    "    # Check the active thread count before starting the child threads\n",
    "    print(f\"Active threads before starting child threads: {threading.active_count()}\")\n",
    "\n",
    "    # Create and start child threads\n",
    "    threads = []\n",
    "    for i in range(3):\n",
    "        thread = threading.Thread(target=child_thread, name=f\"Child-{i+1}\")\n",
    "        threads.append(thread)\n",
    "        thread.start()\n",
    "\n",
    "    # Check the active thread count after starting child threads\n",
    "    print(f\"Active threads after starting child threads: {threading.active_count()}\")\n",
    "\n",
    "    # Wait for all child threads to finish\n",
    "    for thread in threads:\n",
    "        thread.join()\n",
    "\n",
    "\n",
    "    # Check the active thread count again after all threads finish\n",
    "    print(f\"Active threads after finishing all threads: {threading.active_count()}\")\n",
    "\n",
    "    print(\"Main thread is finishing...\")\n",
    "\n",
    "\n",
    "# Run the main thread\n",
    "main_thread()\n"
   ]
  },
  {
   "cell_type": "code",
   "execution_count": 8,
   "id": "9641d515-5816-43f7-9de0-445f8a73ec9b",
   "metadata": {},
   "outputs": [
    {
     "name": "stdout",
     "output_type": "stream",
     "text": [
      "6\n"
     ]
    }
   ],
   "source": [
    "print(threading.active_count())"
   ]
  },
  {
   "cell_type": "code",
   "execution_count": null,
   "id": "503b1a33-dac3-4f6a-b7b7-c5435c8a499b",
   "metadata": {},
   "outputs": [],
   "source": []
  },
  {
   "cell_type": "markdown",
   "id": "d41dcc4c-029a-4283-bbe2-3448a0ea948c",
   "metadata": {},
   "source": [
    "# 2. Daemon Thread:"
   ]
  },
  {
   "cell_type": "markdown",
   "id": "393b38a1-c7c2-430c-a2f4-17551b6faa27",
   "metadata": {},
   "source": [
    "- A daemon thread is a type of thread in Python that runs in the background and is automatically terminated when the main program finishes, without waiting for the thread to complete its execution. It is typically used for background tasks that do not need to prevent the program from exiting.\n",
    "\n",
    "- Unlike non-daemon threads, daemon threads do not block the program from terminating. The Python interpreter exits as soon as the main program finishes, even if daemon threads are still running."
   ]
  },
  {
   "cell_type": "markdown",
   "id": "ef9e2ac1-a431-450f-b59d-bc8b28aa41fe",
   "metadata": {},
   "source": [
    "### Key Attributes of Daemon Threads:\n",
    "#### daemon:\n",
    "- A boolean attribute (True or False) indicating whether the thread is a daemon thread.\n",
    "- Default: False (non-daemon thread).\n",
    "- Set before starting the thread: Once the thread starts, the daemon attribute cannot be changed.\n",
    "#### is_alive():\n",
    "- Returns True if the thread is still alive (running).\n",
    "- It can be used to check if a daemon thread is still running.\n",
    "#### name:\n",
    "- The name of the thread. By default, it is a system-generated name, but you can set a custom name when creating the thread.\n",
    "#### ident:\n",
    "- The unique identifier of the thread. It is assigned when the thread starts running and can be used to track the thread's execution.\n",
    "#### native_id:\n",
    "- The native thread ID assigned by the operating system, useful for OS-level debugging or inspection of the thread."
   ]
  },
  {
   "cell_type": "code",
   "execution_count": null,
   "id": "90a0e578-8247-40ef-8df3-f6d7e95b0437",
   "metadata": {},
   "outputs": [],
   "source": []
  },
  {
   "cell_type": "markdown",
   "id": "e7e5fe0a-3336-444e-8f3a-df7f18b24773",
   "metadata": {},
   "source": [
    "## Scenario: Teaching Sessions and Exam\n",
    "### 1. Using Non-Daemon Thread"
   ]
  },
  {
   "cell_type": "code",
   "execution_count": 9,
   "id": "54913a33-f164-4dd1-ab68-40a35b3e6f35",
   "metadata": {},
   "outputs": [
    {
     "name": "stdout",
     "output_type": "stream",
     "text": [
      "Teaching session: 0\n",
      "Exam Time!\n",
      "Teaching session: 1\n",
      "Teaching session: 2\n",
      "Exam is over\n",
      "Teaching session: 3\n",
      "Teaching session: 4\n",
      "Teaching session: 5\n",
      "Teaching session: 6\n",
      "Teaching session: 7\n",
      "Teaching session: 8\n",
      "Teaching session: 9\n"
     ]
    }
   ],
   "source": [
    "from threading import *\n",
    "import time\n",
    "\n",
    "def display():\n",
    "    for i in range(10):\n",
    "        print(\"Teaching session:\", i)\n",
    "        time.sleep(0.7)\n",
    "\n",
    "# Create a non-daemon thread\n",
    "t1 = Thread(target=display)\n",
    "t1.start()\n",
    "\n",
    "# Main thread handling the Exam\n",
    "print(\"Exam Time!\")\n",
    "time.sleep(2)  # Simulate exam process\n",
    "print(\"Exam is over\")\n"
   ]
  },
  {
   "cell_type": "markdown",
   "id": "bc198585-4824-4118-a853-96b1e29cff3b",
   "metadata": {},
   "source": [
    "### Issues:\n",
    "- The main thread finishes its work (exam), but the program doesn’t exit because the non-daemon thread (Teaching Session) continues running until it completes all iterations.\n",
    "- This leads to unnecessary delay even though the main thread's work is done."
   ]
  },
  {
   "cell_type": "code",
   "execution_count": null,
   "id": "605cafd0-aad7-40a9-b040-71a620c8ac2c",
   "metadata": {},
   "outputs": [],
   "source": []
  },
  {
   "cell_type": "markdown",
   "id": "e9deac29-a17a-469f-bd8f-944eb04cd5d2",
   "metadata": {},
   "source": [
    "### 2. Using Daemon Thread:\n",
    "- If this code doesn't work fine in jupyter notebook, copy it and run into another ide."
   ]
  },
  {
   "cell_type": "code",
   "execution_count": 1,
   "id": "53c94521-e9bc-413f-9878-47014e02f163",
   "metadata": {},
   "outputs": [
    {
     "name": "stdout",
     "output_type": "stream",
     "text": [
      "Teaching session: 0\n",
      "Exam Time!\n",
      "Teaching session: 1\n",
      "Teaching session: 2\n",
      "Exam is over\n",
      "Teaching session: 3\n",
      "Teaching session: 4\n",
      "Teaching session: 5\n",
      "Teaching session: 6\n",
      "Teaching session: 7\n",
      "Teaching session: 8\n",
      "Teaching session: 9\n"
     ]
    }
   ],
   "source": [
    "from threading import *\n",
    "import time\n",
    "\n",
    "def display():\n",
    "    for i in range(10):\n",
    "        print(\"Teaching session:\", i)\n",
    "        time.sleep(0.7)\n",
    "\n",
    "# Create a daemon thread\n",
    "t1 = Thread(target=display, daemon=True)\n",
    "t1.start()\n",
    "\n",
    "# Main thread handling the Exam\n",
    "print(\"Exam Time!\")\n",
    "time.sleep(2)  # Simulate exam process\n",
    "print(\"Exam is over\")\n"
   ]
  },
  {
   "cell_type": "markdown",
   "id": "01850148-5645-4c07-a7f9-ef9765e3e170",
   "metadata": {},
   "source": [
    "### Advantages with Daemon Thread:\n",
    "- Non-Blocking: The main thread does not block, allowing it to finish its work even if the daemon thread is still running.\n",
    "- Main Thread Finishes Early: The program prints \"Main thread finished.\" immediately, even though the daemon thread continues running in the background (printing numbers).\n",
    "- Daemon Thread Termination: If the main thread finishes, the program ends, even if the daemon thread hasn't finished printing all the numbers."
   ]
  },
  {
   "cell_type": "markdown",
   "id": "2c0a79f3-4331-4342-9da3-a414cbc7edfd",
   "metadata": {},
   "source": [
    "### Use Case for Daemon Threads:\n",
    "- Daemon threads are useful for background tasks, such as logging, monitoring, or housekeeping tasks, where you don’t need to wait for the task to complete before finishing the program.\n",
    "- For example, a logging thread running in the background can be a daemon thread that logs data without blocking the main application from exiting."
   ]
  },
  {
   "cell_type": "code",
   "execution_count": null,
   "id": "2caa171f-1a22-4d1a-87c4-6979c8be9570",
   "metadata": {},
   "outputs": [],
   "source": []
  },
  {
   "cell_type": "markdown",
   "id": "c25a13b8-a222-4522-8305-bd6fb02b5556",
   "metadata": {},
   "source": [
    "### Key points:\n",
    "- It is possible to switch a thread between daemon and non-daemon states, but this must be done before starting the thread.\n",
    "- The main thread, however, cannot be set as a daemon thread, as it is essential for program execution."
   ]
  }
 ],
 "metadata": {
  "kernelspec": {
   "display_name": "Python 3 (ipykernel)",
   "language": "python",
   "name": "python3"
  },
  "language_info": {
   "codemirror_mode": {
    "name": "ipython",
    "version": 3
   },
   "file_extension": ".py",
   "mimetype": "text/x-python",
   "name": "python",
   "nbconvert_exporter": "python",
   "pygments_lexer": "ipython3",
   "version": "3.13.0"
  },
  "widgets": {
   "application/vnd.jupyter.widget-state+json": {
    "state": {},
    "version_major": 2,
    "version_minor": 0
   }
  }
 },
 "nbformat": 4,
 "nbformat_minor": 5
}
