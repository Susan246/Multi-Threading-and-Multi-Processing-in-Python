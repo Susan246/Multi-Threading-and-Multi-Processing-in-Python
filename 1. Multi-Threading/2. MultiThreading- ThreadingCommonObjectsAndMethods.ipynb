{
 "cells": [
  {
   "cell_type": "markdown",
   "id": "d7bc1bd4-0db3-4b0d-9396-04d8fbd69cec",
   "metadata": {},
   "source": [
    "# Threading common Objects and Methods:"
   ]
  },
  {
   "cell_type": "markdown",
   "id": "41f58eb4-789a-4fd3-a224-85f179b093be",
   "metadata": {},
   "source": [
    "### 1. threading.Thread() Objects and Methods:\n",
    "- 1.1 start()\n",
    "- 1.2 run()\n",
    "- 1.3 join(timeout=None)\n",
    "- 1.4 is_alive()\n",
    "- 1.5 getName()\n",
    "- 1.6 setName(name)\n",
    "- 1.7 daemon\n",
    "- 1.8 name"
   ]
  },
  {
   "cell_type": "markdown",
   "id": "99bd99bd-b828-4e8a-bcea-8383cedb9650",
   "metadata": {},
   "source": [
    "### 1.1 Start():\n",
    "- The start() method in multi-threading begins the execution of a new thread. It sets up the thread's resources, moves it from the \"New\" state to \"Runnable,\" and invokes its run() method in parallel with the main thread, enabling concurrent execution."
   ]
  },
  {
   "cell_type": "code",
   "execution_count": 5,
   "id": "4bde2544-9782-4bf3-99f9-8603f3a68b00",
   "metadata": {},
   "outputs": [
    {
     "name": "stdout",
     "output_type": "stream",
     "text": [
      "Thread is running: Thread-4\n",
      "Main thread is running: MainThread\n",
      "\n"
     ]
    }
   ],
   "source": [
    "import threading\n",
    "\n",
    "# Define a thread by subclassing threading.Thread\n",
    "class MyThread(threading.Thread):\n",
    "    def run(self):\n",
    "        print(f\"Thread is running: {threading.current_thread().name}\")\n",
    "\n",
    "# Main program\n",
    "thread = MyThread()\n",
    "thread.start()  # Start the thread, triggering run()\n",
    "print(f\"\\nMain thread is running: {threading.current_thread().name}\")\n"
   ]
  },
  {
   "cell_type": "markdown",
   "id": "03dfb687-2e8b-4b28-8eac-d54abcfd7f02",
   "metadata": {},
   "source": [
    "### 1.2 run():\n",
    "### What the run() Method Does?\n",
    "The run() method in a thread is where the actual work or logic of the thread is defined. This can be achieved in two ways:\n",
    "\n",
    "#### i. Target Method (Function Approach):\n",
    "\n",
    "- You pass a function (target method) to the Thread object at creation.\n",
    "- The run() method executes this target function when the thread is started.\n",
    "#### ii. Custom Subclass (Class-based Approach):\n",
    "\n",
    "- You subclass the Thread class and override its run() method.\n",
    "- This provides a way to define thread-specific behavior directly within the subclass."
   ]
  },
  {
   "cell_type": "markdown",
   "id": "36d69654-a319-4d41-8666-a1578010ba97",
   "metadata": {},
   "source": [
    "### How the run() Method Works?\n",
    "\n",
    "#### i. Target Function Execution (Default run() Method):\n",
    "#### Internals of Default run() Method:\n",
    "- The Thread class in Python has a default run() method, implemented as follows in its source code:\n"
   ]
  },
  {
   "cell_type": "code",
   "execution_count": 7,
   "id": "dd3c529a-ed97-4779-86f0-930317ee574f",
   "metadata": {},
   "outputs": [],
   "source": [
    "def run(self):\n",
    "    if self._target:\n",
    "        self._target(*self._args, **self._kwargs)\n"
   ]
  },
  {
   "cell_type": "markdown",
   "id": "b1403080-8988-42b1-bf8b-3536f81c5a13",
   "metadata": {},
   "source": [
    "### What this means:\n",
    "- If a target function is provided during thread creation (via target argument), the run() method calls this target function i.e. the _target stores the reference of target method.\n",
    "- Any arguments passed via args or kwargs are passed to the target function."
   ]
  },
  {
   "cell_type": "markdown",
   "id": "d409dcf0-5f90-478e-8f35-2e6606d575dc",
   "metadata": {},
   "source": [
    "### Step-by-Step Breakdown:\n",
    "a. Thread Creation:\n",
    "\n",
    "- You create a Thread object and provide a target function (e.g., task) with optional arguments.\n",
    "\n",
    "#### thread = threading.Thread(target=task, args=(42,))\n",
    "b. Calling start():\n",
    "\n",
    "When start() is called:\n",
    "- A new thread stack is created.\n",
    "- Thread stack is a memory region dedicated to a thread for managing local variables, function calls, and execution state.\n",
    "- The thread transitions to the RUNNABLE state, waiting for the scheduler to pick it up.\n",
    "\n",
    "c. Executing run():\n",
    "\n",
    "- The start() method internally invokes the thread's run() method.\n",
    "\n",
    "Since a target function (task) is provided, the run() method executes the following steps:\n",
    "- Checks if _target is not None.\n",
    "- Calls _target(*_args, **_kwargs):\n",
    "Here, _target is task, _args is (42,), and _kwargs is {}.\n",
    "\n",
    "d. Calling the Target Function:\n",
    "\n",
    "- The task function is executed with the argument 42 in the thread's context."
   ]
  },
  {
   "cell_type": "code",
   "execution_count": 8,
   "id": "9d4409f2-9b8d-4920-8d02-497563a99082",
   "metadata": {},
   "outputs": [
    {
     "name": "stdout",
     "output_type": "stream",
     "text": [
      "Thread logic executing with argument: 42\n"
     ]
    }
   ],
   "source": [
    "import threading\n",
    "\n",
    "# Define a target function\n",
    "def task(arg):\n",
    "    print(f\"Thread logic executing with argument: {arg}\")\n",
    "\n",
    "# Create a thread with the target function\n",
    "thread = threading.Thread(target=task, args=(42,))\n",
    "thread.start()\n"
   ]
  },
  {
   "cell_type": "code",
   "execution_count": null,
   "id": "bf00b4b7-0dfc-44f6-a065-db469736537c",
   "metadata": {},
   "outputs": [],
   "source": []
  },
  {
   "cell_type": "markdown",
   "id": "f4bcd144-9990-4776-bed1-19cdb95abad1",
   "metadata": {},
   "source": [
    "### ii. Overridden run() Execution (Custom Subclass)\n",
    "#### Internals of Overriding run()\n",
    "- If you subclass Thread and override the run() method, the thread will execute the logic defined in the overridden run() instead of the default behavior.\n",
    "\n",
    "#### What this means:\n",
    "- The custom logic you define inside the overridden run() method is executed when start() is called.\n"
   ]
  },
  {
   "cell_type": "code",
   "execution_count": 6,
   "id": "d2856da4-6439-4a80-bf32-d1aec838ec0c",
   "metadata": {},
   "outputs": [
    {
     "name": "stdout",
     "output_type": "stream",
     "text": [
      "Thread logic executing in overridden run() method\n"
     ]
    }
   ],
   "source": [
    "import threading\n",
    "\n",
    "# Define a custom thread class\n",
    "class MyThread(threading.Thread):\n",
    "    def run(self):\n",
    "        print(\"Thread logic executing in overridden run() method\")\n",
    "\n",
    "# Create and start a thread\n",
    "thread = MyThread()\n",
    "thread.start()\n"
   ]
  },
  {
   "cell_type": "code",
   "execution_count": null,
   "id": "76fa5f85-e69f-4468-9a37-0f0b545cdb20",
   "metadata": {},
   "outputs": [],
   "source": []
  },
  {
   "cell_type": "markdown",
   "id": "58fc239b-7b48-456c-b1b4-85e86bb95aa8",
   "metadata": {},
   "source": [
    "### Why we call start() instead of run()?"
   ]
  },
  {
   "cell_type": "markdown",
   "id": "55141a39-03c2-4433-9759-60ab49d922c9",
   "metadata": {},
   "source": [
    "#### i. Using start() Method\n"
   ]
  },
  {
   "cell_type": "code",
   "execution_count": 7,
   "id": "6cbac430-d5d6-4250-ad85-1b3a3b88bf6c",
   "metadata": {},
   "outputs": [
    {
     "name": "stdout",
     "output_type": "stream",
     "text": [
      "Task running in thread: Thread-6 (task), iteration: 0\n",
      "Task running in thread: Thread-6 (task), iteration: 1\n",
      "Task running in thread: Thread-6 (task), iteration: 2\n",
      "Task running in thread: Thread-6 (task), iteration: 3\n",
      "Task running in thread: Thread-6 (task), iteration: 4\n",
      "Main thread: MainThread, iteration: 0\n",
      "Main thread: MainThread, iteration: 1\n",
      "Main thread: MainThread, iteration: 2\n"
     ]
    }
   ],
   "source": [
    "import threading\n",
    "import time\n",
    "\n",
    "def task():\n",
    "    for i in range(5):\n",
    "        print(f\"Task running in thread: {threading.current_thread().name}, iteration: {i}\")\n",
    "        time.sleep(1)\n",
    "\n",
    "# Create a thread and start it\n",
    "thread = threading.Thread(target=task)\n",
    "thread.start()\n",
    "thread.join()\n",
    "# Main thread continues its own execution\n",
    "for i in range(3):\n",
    "    print(f\"Main thread: {threading.current_thread().name}, iteration: {i}\")\n",
    "    time.sleep(1)\n"
   ]
  },
  {
   "cell_type": "markdown",
   "id": "564c0599-867e-4b1c-b0ab-c8ac6a13735e",
   "metadata": {},
   "source": [
    "### What Happens Internally?\n",
    "a. Thread Creation:\n",
    "\n",
    "- thread = threading.Thread(target=task) creates a new Thread object.\n",
    "\n",
    "The Thread object stores:\n",
    "- task function in its _target attribute.\n",
    "- Default name (Thread-1) and other thread metadata.\n",
    "\n",
    "b. Calling start():\n",
    "\n",
    "thread.start():\n",
    "- Creates a new thread in the OS or runtime.\n",
    "- Allocates a separate thread stack for the new thread.\n",
    "- Transitions the thread to the RUNNABLE state.\n",
    "\n",
    "c. Scheduler Picks the Thread:\n",
    "- The thread scheduler starts executing the new thread (Thread-1) independently of the main thread.\n",
    "\n",
    "d. Calling run() Automatically:\n",
    "\n",
    "- The new thread invokes its run() method.\n",
    "- Since target=task was provided, run() executes:\n",
    "The task() function runs in the new thread's stack.\n",
    "\n",
    "e. Parallel Execution:\n",
    "\n",
    "- While the new thread executes task(), the main thread continues executing its loop independently.\n"
   ]
  },
  {
   "cell_type": "code",
   "execution_count": null,
   "id": "8ab50b38-aa57-43b9-87cf-fd7af521af89",
   "metadata": {},
   "outputs": [],
   "source": []
  },
  {
   "cell_type": "markdown",
   "id": "4e2425b0-b36b-4439-9d0c-be4b7c54e194",
   "metadata": {},
   "source": [
    "#### ii. Using run() Method\n"
   ]
  },
  {
   "cell_type": "code",
   "execution_count": 8,
   "id": "a9b835c1-b8c4-40f9-890a-c47fb577dbb5",
   "metadata": {},
   "outputs": [
    {
     "name": "stdout",
     "output_type": "stream",
     "text": [
      "Task running in thread: MainThread, iteration: 0\n",
      "Task running in thread: MainThread, iteration: 1\n",
      "Task running in thread: MainThread, iteration: 2\n",
      "Task running in thread: MainThread, iteration: 3\n",
      "Task running in thread: MainThread, iteration: 4\n",
      "Main thread: MainThread, iteration: 0\n",
      "Main thread: MainThread, iteration: 1\n",
      "Main thread: MainThread, iteration: 2\n"
     ]
    }
   ],
   "source": [
    "import threading\n",
    "import time\n",
    "\n",
    "def task():\n",
    "    for i in range(5):\n",
    "        print(f\"Task running in thread: {threading.current_thread().name}, iteration: {i}\")\n",
    "        time.sleep(1)\n",
    "\n",
    "# Create a thread and call run() directly\n",
    "thread = threading.Thread(target=task)\n",
    "thread.run()  # Directly calling run()\n",
    "\n",
    "# Main thread execution\n",
    "for i in range(3):\n",
    "    print(f\"Main thread: {threading.current_thread().name}, iteration: {i}\")\n",
    "    time.sleep(1)\n"
   ]
  },
  {
   "cell_type": "markdown",
   "id": "721b8368-e548-4599-9129-e72b8c20bbdd",
   "metadata": {},
   "source": [
    "### What Happens Internally?\n",
    "a. Thread Creation:\n",
    "\n",
    "- Similar to the start() example, thread = threading.Thread(target=task) creates a thread object and stores the task function in _target.\n",
    "\n",
    "b. Calling run():\n",
    "\n",
    "- thread.run() does not create a new thread.\n",
    "- It simply executes the task() function within the current thread (i.e., the main thread’s stack).\n",
    "- The thread state remains NEW, and no thread stack is allocated for a separate execution.\n",
    "\n",
    "c. Blocking Execution:\n",
    "\n",
    "- The task() function runs sequentially in the main thread.\n",
    "- The main thread’s execution (e.g., its loop) is blocked until task() completes.\n"
   ]
  },
  {
   "cell_type": "code",
   "execution_count": null,
   "id": "cdacd010-8ac9-4460-9d92-229228b51c40",
   "metadata": {},
   "outputs": [],
   "source": []
  },
  {
   "cell_type": "markdown",
   "id": "1ac9aed4-318e-4e5b-853f-60e8da7826af",
   "metadata": {},
   "source": [
    "### 1.3 join():"
   ]
  },
  {
   "cell_type": "markdown",
   "id": "2f3c0788-8835-46dc-be89-0b8cba07e72f",
   "metadata": {},
   "source": [
    "### What join() Does?\n",
    "- Ensures Thread Completion: Blocks the calling thread until the thread on which join() is called finishes execution.\n",
    "- Synchronizes Execution: Prevents premature continuation of the main thread or other threads that depend on the joined thread.\n",
    "\n",
    "### How join() Does It?\n",
    "When join() is called:\n",
    "- The calling thread (e.g., the main thread) waits for the target thread (the thread on which join() is called) to finish.\n",
    "- The thread scheduler monitors the state of the target thread.\n",
    "- Once the target thread transitions to the TERMINATED state, the calling thread is resumed and continues execution."
   ]
  },
  {
   "cell_type": "code",
   "execution_count": 10,
   "id": "dfb77b06-3f1a-40f5-bb68-c2f4a255125e",
   "metadata": {},
   "outputs": [
    {
     "name": "stdout",
     "output_type": "stream",
     "text": [
      "Thread-1 startedThread-2 started\n",
      "All threads have finished\n",
      "\n",
      "Thread-1 finished\n",
      "Thread-2 finished\n"
     ]
    }
   ],
   "source": [
    "import threading\n",
    "import time\n",
    "\n",
    "def task(name, delay):\n",
    "    print(f\"{name} started\")\n",
    "    time.sleep(delay)\n",
    "    print(f\"{name} finished\")\n",
    "\n",
    "# Create threads\n",
    "thread1 = threading.Thread(target=task, args=(\"Thread-1\", 2))\n",
    "thread2 = threading.Thread(target=task, args=(\"Thread-2\", 3))\n",
    "\n",
    "# Start threads\n",
    "thread1.start()\n",
    "thread2.start()\n",
    "\n",
    "# Wait for both threads to finish\n",
    "thread1.join()\n",
    "thread2.join()\n",
    "\n",
    "print(\"All threads have finished\")\n"
   ]
  },
  {
   "cell_type": "code",
   "execution_count": null,
   "id": "c56e6aca-733c-43d4-b653-4a14dc820ca2",
   "metadata": {},
   "outputs": [],
   "source": []
  },
  {
   "cell_type": "markdown",
   "id": "cf555177-9bda-4409-8c55-c0ee7c8e2d71",
   "metadata": {},
   "source": [
    "## Thread Attributes\n",
    "### alive: \n",
    "- Checks if the thread is still alive (i.e., still running).\n",
    "### name:\n",
    "- Returns the name of the thread.\n",
    "### ident:\n",
    "- Returns the thread's unique identifier (an integer).\n",
    "### native_id:\n",
    "- Returns the native OS thread ID (useful for OS-level debugging).\n",
    "### daemon:\n",
    "- This attribute indicates whether the thread is a daemon thread (True) or a non-daemon thread (False)."
   ]
  },
  {
   "cell_type": "code",
   "execution_count": 11,
   "id": "74eab1f6-f8a7-46ee-8800-910d553cc613",
   "metadata": {},
   "outputs": [
    {
     "name": "stdout",
     "output_type": "stream",
     "text": [
      "Child thread: Child-Thread - Ident: 23388, Native ID: 23388, Daemon: True\n",
      "Child thread 'Child-Thread' completed.\n",
      "Child-Thread is alive after join: False\n"
     ]
    }
   ],
   "source": [
    "import threading\n",
    "import time\n",
    "\n",
    "def task():\n",
    "    print(f\"Child thread: {child_thread.name} - Ident: {child_thread.ident}, Native ID: {child_thread.native_id}, Daemon: {child_thread.daemon}\")\n",
    "    time.sleep(2)\n",
    "    print(f\"Child thread '{threading.current_thread().name}' completed.\")\n",
    "\n",
    "child_thread = threading.Thread(target=task, name=\"Child-Thread\", daemon=True)\n",
    "\n",
    "child_thread.start()\n",
    "\n",
    "child_thread.join()\n",
    "\n",
    "print(f\"{child_thread.name} is alive after join: {child_thread.is_alive()}\")\n"
   ]
  },
  {
   "cell_type": "code",
   "execution_count": null,
   "id": "d4eebabf-82c0-4239-852d-6c1a56bdaf23",
   "metadata": {},
   "outputs": [],
   "source": []
  },
  {
   "cell_type": "code",
   "execution_count": null,
   "id": "dba7ca58-1e4d-48ca-ac75-9e967c32bcee",
   "metadata": {},
   "outputs": [],
   "source": []
  },
  {
   "cell_type": "markdown",
   "id": "06fbfc63-39c5-4ab1-8d83-47f9f0d2f013",
   "metadata": {},
   "source": [
    "### 2. threading.Timer() Objects and Methods:"
   ]
  },
  {
   "cell_type": "markdown",
   "id": "eb0931cc-6d77-4121-8dfd-99076398775c",
   "metadata": {},
   "source": [
    "- In Python's threading module, Timer objects allow you to schedule a function to be executed after a certain amount of time. It is a subclass of the Thread class and runs the specified function after the given time interval.\n",
    "\n",
    "### Timer Objects:\n",
    "Timer(interval, function, args=[], kwargs={}):\n",
    "- interval: The amount of time (in seconds) to wait before executing the function.\n",
    "- function: The function to be executed after the interval.\n",
    "- args: A tuple of arguments to pass to the function (optional).\n",
    "- kwargs: A dictionary of keyword arguments to pass to the function (optional).\n",
    "\n",
    "### Methods:\n",
    "- start(): Starts the timer; the function will be called after the specified interval.\n",
    "- cancel(): Stops the timer before it has a chance to run."
   ]
  },
  {
   "cell_type": "code",
   "execution_count": 12,
   "id": "6067b66c-fc70-4c16-874a-935a7096e0b5",
   "metadata": {},
   "outputs": [
    {
     "name": "stdout",
     "output_type": "stream",
     "text": [
      "Task is executed after the timer interval.\n",
      "Main thread has finished execution.\n"
     ]
    }
   ],
   "source": [
    "import threading\n",
    "\n",
    "def task():\n",
    "    print(\"Task is executed after the timer interval.\")\n",
    "\n",
    "# Create a Timer object\n",
    "timer = threading.Timer(3, task)  # 3 seconds delay before calling task()\n",
    "\n",
    "# Start the timer\n",
    "timer.start()\n",
    "\n",
    "# Main thread waits for the timer to complete\n",
    "timer.join()\n",
    "\n",
    "print(\"Main thread has finished execution.\")\n"
   ]
  },
  {
   "cell_type": "markdown",
   "id": "10e3bd1b-f522-4586-9b21-a31c5824a77a",
   "metadata": {},
   "source": [
    "### How it Works:\n",
    "- The Timer object timer will wait for 3 seconds before calling the task function.\n",
    "- After the 3-second delay, the task function is executed.\n",
    "- join() is called to ensure the main thread waits for the timer to complete before it exits."
   ]
  },
  {
   "cell_type": "code",
   "execution_count": null,
   "id": "f1715836-b825-4a0d-b008-c8910efbcebc",
   "metadata": {},
   "outputs": [],
   "source": []
  },
  {
   "cell_type": "markdown",
   "id": "742f04bc-8c2f-4a3f-9438-280862402954",
   "metadata": {},
   "source": [
    "### Key Points:\n",
    "- Timer allows scheduling functions to run after a delay.\n",
    "- It behaves like a thread, but the primary difference is that it only executes the given function once after the delay.\n",
    "- You can cancel the timer before it executes using cancel() if needed."
   ]
  },
  {
   "cell_type": "code",
   "execution_count": 21,
   "id": "c1a7884e-8623-47cf-aa9b-2b11a1b3ec31",
   "metadata": {},
   "outputs": [
    {
     "name": "stdout",
     "output_type": "stream",
     "text": [
      "Timer was canceled before execution.\n"
     ]
    }
   ],
   "source": [
    "import threading\n",
    "\n",
    "def task():\n",
    "    print(\"This task will not be executed.\")\n",
    "\n",
    "# Create a Timer object\n",
    "timer = threading.Timer(5, task)\n",
    "\n",
    "# Start the timer\n",
    "timer.start()\n",
    "\n",
    "# Cancel the timer before it executes\n",
    "timer.cancel()\n",
    "\n",
    "print(\"Timer was canceled before execution.\")\n"
   ]
  },
  {
   "cell_type": "markdown",
   "id": "7135c39c-8346-4f37-9038-188a75409d88",
   "metadata": {},
   "source": [
    "### Why we need start():\n",
    "- Trigger Timer Execution: The start() method is necessary to begin the countdown for the scheduled task. Without calling start(), the timer won't start, and the function will not be executed after the specified interval.\n",
    "- Asynchronous Execution: It starts the timer in a new thread, allowing the main program to continue running while waiting for the timer to execute the function after the given interval.\n",
    "\n",
    "### Why we need cancel():\n",
    "- Interrupt Timer Execution: The cancel() method is used to stop the timer before it executes the scheduled function. If the timer hasn't yet expired (i.e., the function hasn't been executed), calling cancel() will prevent the function from running.\n",
    "- Flexibility in Scheduling: It allows flexibility, so you can dynamically cancel scheduled tasks. This is useful when the conditions for executing the function change, or you decide that the function should no longer be executed."
   ]
  },
  {
   "cell_type": "code",
   "execution_count": null,
   "id": "123e8523-9dd8-4eba-b4cc-d6990f19816c",
   "metadata": {},
   "outputs": [],
   "source": []
  }
 ],
 "metadata": {
  "kernelspec": {
   "display_name": "Python 3 (ipykernel)",
   "language": "python",
   "name": "python3"
  },
  "language_info": {
   "codemirror_mode": {
    "name": "ipython",
    "version": 3
   },
   "file_extension": ".py",
   "mimetype": "text/x-python",
   "name": "python",
   "nbconvert_exporter": "python",
   "pygments_lexer": "ipython3",
   "version": "3.13.0"
  },
  "widgets": {
   "application/vnd.jupyter.widget-state+json": {
    "state": {},
    "version_major": 2,
    "version_minor": 0
   }
  }
 },
 "nbformat": 4,
 "nbformat_minor": 5
}
