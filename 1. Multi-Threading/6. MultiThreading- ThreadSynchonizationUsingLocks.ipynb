{
 "cells": [
  {
   "cell_type": "markdown",
   "id": "4e890107-f4b9-41c2-a2fd-9610eff68cb1",
   "metadata": {},
   "source": [
    "# Thread Synchornization:"
   ]
  },
  {
   "cell_type": "markdown",
   "id": "0e1971fa-2eb8-4781-a17c-ada1ccab3e0b",
   "metadata": {},
   "source": [
    "## Problems without Thread Synchronization:"
   ]
  },
  {
   "cell_type": "markdown",
   "id": "7868959d-f45d-40c7-84f5-c0ab6cb82e1a",
   "metadata": {},
   "source": [
    "## Race Condition:\n",
    "### Scenario: Bus Seat Reservation\n",
    "A bus has 2 available seats. Two users, Susan and Prajwal, try to reserve seats concurrently:\n",
    "- Susan wants to book 2 seats.\n",
    "- Prajwal wants to book 1 seat."
   ]
  },
  {
   "cell_type": "code",
   "execution_count": 12,
   "id": "e1be809c-72da-4d91-9fd0-d48532092e48",
   "metadata": {},
   "outputs": [
    {
     "name": "stdout",
     "output_type": "stream",
     "text": [
      "Available seats are: 2\n",
      "2 seat(s) are allocated to Susan\n",
      "Available seats are: 2\n",
      "1 seat(s) are allocated to Prajwal\n"
     ]
    }
   ],
   "source": [
    "from threading import Thread, current_thread\n",
    "from time import sleep\n",
    "\n",
    "class Bus:\n",
    "    def __init__(self, name, available_seats):\n",
    "        self.available_seats = available_seats\n",
    "        self.name = name\n",
    "\n",
    "    def reserve(self, need_seats):\n",
    "        print(f\"Available seats are: {self.available_seats}\")\n",
    "        if self.available_seats >= need_seats:\n",
    "            nm = current_thread().name\n",
    "            print(f\"{need_seats} seat(s) are allocated to {nm}\")\n",
    "            sleep(1)  # Simulate processing delay\n",
    "            self.available_seats -= need_seats\n",
    "        else:\n",
    "            print(f\"Sorry! Not enough seats for {current_thread().name}\")\n",
    "\n",
    "# Create a bus with 2 seats\n",
    "b1 = Bus(\"Makalu Yatayat\", 2)\n",
    "\n",
    "# Create threads for Susan and Prajwal\n",
    "t1 = Thread(target=b1.reserve, args=(2,), name=\"Susan\")\n",
    "t2 = Thread(target=b1.reserve, args=(1,), name=\"Prajwal\")\n",
    "\n",
    "# Start threads\n",
    "t1.start()\n",
    "t2.start()\n",
    "\n",
    "# Wait for threads to finish\n",
    "t1.join()\n",
    "t2.join()\n"
   ]
  },
  {
   "cell_type": "markdown",
   "id": "983aa006-d1d2-43dc-88f5-8822f150a045",
   "metadata": {},
   "source": [
    "### Issues (Race Condition):\n",
    "- Simultaneous Access: Both threads may check self.available_seats (2 seats) before it is updated, thinking seats are available.\n",
    "\n",
    "- Inconsistent Results: Both threads may reserve seats, resulting in negative seat count or overselling."
   ]
  },
  {
   "cell_type": "code",
   "execution_count": null,
   "id": "e32eec4d-a3c6-46aa-a71b-1ad90be07810",
   "metadata": {},
   "outputs": [],
   "source": []
  },
  {
   "cell_type": "markdown",
   "id": "8d0af71b-5773-4b49-8cd5-30dc1f89ae6a",
   "metadata": {},
   "source": [
    "## Thread Synchronization using Locks:"
   ]
  },
  {
   "cell_type": "markdown",
   "id": "237b74c5-68d7-4a5b-97c8-dac35389a940",
   "metadata": {},
   "source": [
    "### 1. Solution with Mutex Lock:\n",
    "- To solve the race condition and prevent data corruption, we can use a mutex lock to synchronize access to the shared counter variable. This ensures that only one thread can modify the counter at a time, preventing the threads from interfering with each other."
   ]
  },
  {
   "cell_type": "markdown",
   "id": "71c0a14c-cf2f-4705-ba21-667add671cf2",
   "metadata": {},
   "source": [
    "### acquire(blocking=True,timeout=-1):\n",
    "- Blocks until the lock is available.\n",
    "- Optionally accepts a timeout parameter (default is -1, meaning block indefinitely).\n",
    "- Returns True when the lock is acquired, False if the timeout expires without acquiring it.\n",
    "\n",
    "### release():\n",
    "- Releases the lock, allowing other threads to acquire it.\n",
    "- Must be called by the thread holding the lock.\n",
    "- Raises a RuntimeError if called by a thread that doesn't hold the lock."
   ]
  },
  {
   "cell_type": "code",
   "execution_count": 13,
   "id": "c2476b04-aead-4db6-9306-ecd5658e425a",
   "metadata": {},
   "outputs": [
    {
     "name": "stdout",
     "output_type": "stream",
     "text": [
      "Available seats are: 2\n",
      "2 seat(s) are allocated to Susan\n",
      "Available seats are: 0\n",
      "Sorry! Not enough seats for Prajwal\n"
     ]
    }
   ],
   "source": [
    "from threading import Thread, current_thread, Lock\n",
    "from time import sleep\n",
    "\n",
    "class Bus:\n",
    "    def __init__(self, name, available_seats):\n",
    "        self.available_seats = available_seats\n",
    "        self.name = name\n",
    "        self.lock = Lock()  # Create a lock for synchronization\n",
    "\n",
    "    def reserve(self, need_seats):\n",
    "        with self.lock:  # Ensure only one thread executes this block at a time\n",
    "            print(f\"Available seats are: {self.available_seats}\")\n",
    "            if self.available_seats >= need_seats:\n",
    "                nm = current_thread().name\n",
    "                print(f\"{need_seats} seat(s) are allocated to {nm}\")\n",
    "                sleep(1)  # Simulate processing delay\n",
    "                self.available_seats -= need_seats\n",
    "            else:\n",
    "                print(f\"Sorry! Not enough seats for {current_thread().name}\")\n",
    "\n",
    "# Initialize the bus with 2 seats\n",
    "b1 = Bus(\"Makalu Yatayat\", 2)\n",
    "\n",
    "# Create threads for Susan and Prajwal\n",
    "t1 = Thread(target=b1.reserve, args=(2,), name=\"Susan\")\n",
    "t2 = Thread(target=b1.reserve, args=(1,), name=\"Prajwal\")\n",
    "\n",
    "t1.start()\n",
    "t2.start()\n",
    "\n",
    "t1.join()\n",
    "t2.join()\n"
   ]
  },
  {
   "cell_type": "markdown",
   "id": "8194a516-0aa5-41bf-9889-a0a5cbc5801f",
   "metadata": {},
   "source": [
    "### How the Lock Solves the Issue:\n",
    "- The with self.lock ensures that only one thread executes the reserve method at a time.\n",
    "- It prevents simultaneous access to the shared available_seats variable, avoiding overselling or inconsistencies."
   ]
  },
  {
   "cell_type": "markdown",
   "id": "86f0e857-1033-4c3d-b4fb-dce035b0865a",
   "metadata": {},
   "source": [
    "### Disadvantages of Mutex Lock:\n",
    "#### i. Cannot be Acquired Multiple Times by the Same Thread:\n",
    "\n",
    "- A mutex lock can only be acquired once by the thread that holds it. If the same thread tries to acquire it again (in nested calls), it will cause a deadlock.\n",
    "- This makes it unsuitable for recursive or reentrant operations that require the thread to enter the locked section multiple times."
   ]
  },
  {
   "cell_type": "markdown",
   "id": "c6dd27e6-6806-46ec-9bbd-aa8c7ba46ccd",
   "metadata": {},
   "source": [
    "### Why we use multiple locks on same resource?\n",
    "- Multiple locks on the same resource can happen due to mistakes by the developer, especially if they are unaware of how other parts of the code are locking the same resource. This can lead to issues like deadlocks or performance inefficiencies."
   ]
  },
  {
   "cell_type": "code",
   "execution_count": null,
   "id": "004384d6-bfcc-49e0-af68-5a35b17b714f",
   "metadata": {},
   "outputs": [],
   "source": []
  },
  {
   "cell_type": "markdown",
   "id": "8b207255-56a7-4a34-9193-c523f03b7995",
   "metadata": {},
   "source": [
    "### 2. Solution with Rlock:"
   ]
  },
  {
   "cell_type": "code",
   "execution_count": null,
   "id": "4722ac97-e3dd-49d8-9f54-07f134120be8",
   "metadata": {},
   "outputs": [
    {
     "name": "stdout",
     "output_type": "stream",
     "text": [
      "Counter after increment: 1\n"
     ]
    }
   ],
   "source": [
    "# Problem of Mutex lock\n",
    "\n",
    "import threading\n",
    "\n",
    "# Shared resource\n",
    "counter = 0\n",
    "\n",
    "# Create a mutex lock\n",
    "mutex = threading.Lock()\n",
    "\n",
    "def increment():\n",
    "    global counter\n",
    "    mutex.acquire()  # Acquire lock for the first time\n",
    "    counter += 1\n",
    "    print(f\"Counter after increment: {counter}\")\n",
    "    \n",
    "    mutex.acquire()  # Attempt to acquire the lock again (This will cause a deadlock)\n",
    "    counter += 1\n",
    "    print(f\"Counter after second increment: {counter}\")\n",
    "    mutex.release()  # Release lock\n",
    "    mutex.release()  # Release lock again\n",
    "\n",
    "# Start a thread\n",
    "thread = threading.Thread(target=increment)\n",
    "thread.start()\n",
    "thread.join()\n",
    "\n",
    "print(f\"Final Counter Value: {counter}\")\n"
   ]
  },
  {
   "cell_type": "markdown",
   "id": "1ebcfe7f-bde2-462a-b889-8a33849ded0b",
   "metadata": {},
   "source": [
    "### Issue:\n",
    "- When the increment() function runs, it acquires the lock and increments the counter.\n",
    "- After the first counter += 1, the function attempts to acquire the same lock again with mutex.acquire().\n",
    "- Mutex lock does not allow the same thread to acquire the lock again, and the second mutex.acquire() causes the thread to deadlock.\n",
    "- The thread is waiting for itself to release the lock, and the program hangs indefinitely."
   ]
  },
  {
   "cell_type": "markdown",
   "id": "f764d7fd-da92-4e5c-b1ae-eb092ce37392",
   "metadata": {},
   "source": [
    "### How RLock Solves the Issue:\n",
    "- The reentrant lock (RLock) allows the thread to acquire the same lock multiple times without causing a deadlock. It works by tracking the number of times a thread has acquired the lock. The thread can call acquire() multiple times, and it needs to call release() the same number of times to unlock it."
   ]
  },
  {
   "cell_type": "code",
   "execution_count": 1,
   "id": "ddfb41bc-4fe2-4b91-8dda-a0366b83a219",
   "metadata": {},
   "outputs": [
    {
     "name": "stdout",
     "output_type": "stream",
     "text": [
      "Counter after increment: 1\n",
      "Counter after second increment: 2\n",
      "Final Counter Value: 2\n"
     ]
    }
   ],
   "source": [
    "import threading\n",
    "\n",
    "# Shared resource\n",
    "counter = 0\n",
    "\n",
    "# Create a reentrant lock (RLock)\n",
    "rlock = threading.RLock()\n",
    "\n",
    "def increment():\n",
    "    global counter\n",
    "    rlock.acquire()  # Acquire lock for the first time\n",
    "    counter += 1\n",
    "    print(f\"Counter after increment: {counter}\")\n",
    "    \n",
    "    rlock.acquire()  # Re-enter and acquire the lock again (No deadlock)\n",
    "    counter += 1\n",
    "    print(f\"Counter after second increment: {counter}\")\n",
    "    \n",
    "    rlock.release()  # Release lock\n",
    "    rlock.release()  # Release lock again (releasing the same number of times)\n",
    "\n",
    "# Start a thread\n",
    "thread = threading.Thread(target=increment)\n",
    "thread.start()\n",
    "thread.join()\n",
    "\n",
    "print(f\"Final Counter Value: {counter}\")\n"
   ]
  },
  {
   "cell_type": "markdown",
   "id": "d71e4647-4bd8-4cf0-8124-f255fadc09e2",
   "metadata": {},
   "source": [
    "### key points:\n",
    "- Matching acquire and release: For each acquire(), there must be a corresponding release().\n",
    "- Cannot release more times than acquired: Calling release() more times than acquire() raises a RuntimeError.\n",
    "- Cannot release without acquiring: You cannot release() a lock without first calling acquire().\n",
    "- Multiple acquires by same thread: The thread can acquire the lock multiple times, but must release it the same number of times.\n",
    "- Thread ownership: Only the thread that acquired the lock can release it; other threads cannot release it."
   ]
  },
  {
   "cell_type": "markdown",
   "id": "13806da1-ff92-45a4-b84c-ae6e0e787212",
   "metadata": {},
   "source": [
    "### Limitation of Locks and RLocks:\n",
    "- Single Thread Access: Locks (including RLocks) only allow one thread to acquire the lock at any given time. This means only one thread can execute the critical section of code while others are blocked, limiting concurrency."
   ]
  },
  {
   "cell_type": "code",
   "execution_count": null,
   "id": "9c170045-0d7f-4903-bb5a-09673c045565",
   "metadata": {},
   "outputs": [],
   "source": []
  },
  {
   "cell_type": "markdown",
   "id": "bbc4c022-44ee-4945-9cb8-c50a3bf44677",
   "metadata": {},
   "source": [
    "### 3. Solution with Semaphore:\n",
    "- A semaphore is a synchronization primitive used to control access to a shared resource by multiple threads in a concurrent system. It maintains a counter, which indicates the number of available resources or the number of threads that can access the critical section."
   ]
  },
  {
   "cell_type": "markdown",
   "id": "c3b554e9-88d6-477b-8625-b385648def5e",
   "metadata": {},
   "source": [
    "### 3.1 Unbounded Semaphore (No Limit):\n",
    "#### What is it?\n",
    "- An unbounded semaphore doesn’t have a fixed limit. It starts with an initial number of tickets, but you can keep releasing tickets as long as you want.\n",
    "- Example: Imagine you have 3 tickets to start with, but after a thread finishes, you can release as many tickets as you like, and new threads can keep acquiring them.\n",
    "\n",
    "#### How it works:\n",
    "- If you initialize the semaphore with 3 permits, threads will be able to acquire permits like before.\n",
    "- But if you release more tickets than you started with, the semaphore counter can grow. It doesn't throw an error for releasing more tickets than initially acquired."
   ]
  },
  {
   "cell_type": "code",
   "execution_count": 2,
   "id": "914b9709-075b-4c74-9163-244e37599284",
   "metadata": {},
   "outputs": [
    {
     "name": "stdout",
     "output_type": "stream",
     "text": [
      "Thread-0 is trying to acquire a ticket...Thread-1 is trying to acquire a ticket...\n",
      "Thread-1 is using the resource.\n",
      "\n",
      "Thread-0 is using the resource.\n",
      "Thread-2 is trying to acquire a ticket...\n",
      "Thread-2 is using the resource.\n",
      "Thread-3 is trying to acquire a ticket...\n",
      "Thread-4 is trying to acquire a ticket...\n",
      "Thread-1 is releasing the ticket.Thread-2 is releasing the ticket.\n",
      "Thread-0 is releasing the ticket.\n",
      "Thread-3 is using the resource.\n",
      "Thread-4 is using the resource.\n",
      "\n",
      "Thread-3 is releasing the ticket.Thread-4 is releasing the ticket.\n",
      "\n",
      "All threads have finished.\n"
     ]
    }
   ],
   "source": [
    "from threading import Thread, Semaphore, current_thread\n",
    "import time\n",
    "\n",
    "# Unbounded semaphore with 3 permits\n",
    "semaphore = Semaphore(3)\n",
    "\n",
    "def use_resource():\n",
    "    current_thread_name = current_thread().name\n",
    "    print(f\"{current_thread_name} is trying to acquire a ticket...\")\n",
    "    \n",
    "    semaphore.acquire()  # Try to acquire a permit (ticket)\n",
    "    print(f\"{current_thread_name} is using the resource.\")\n",
    "    time.sleep(1)  # Simulate using the resource\n",
    "    print(f\"{current_thread_name} is releasing the ticket.\")\n",
    "    \n",
    "    semaphore.release()  # Release the permit (ticket)\n",
    "\n",
    "# Create 5 threads (more than the permits)\n",
    "threads = [Thread(target=use_resource, name=f\"Thread-{i}\") for i in range(5)]\n",
    "\n",
    "# Start the threads\n",
    "for t in threads:\n",
    "    t.start()\n",
    "\n",
    "# Wait for all threads to finish\n",
    "for t in threads:\n",
    "    t.join()\n",
    "\n",
    "print(\"All threads have finished.\")\n"
   ]
  },
  {
   "cell_type": "markdown",
   "id": "038d8e82-e49e-4d3f-8ae3-d2d819edc873",
   "metadata": {},
   "source": [
    "### Explanation:\n",
    "- Semaphore starts with 3 tickets.\n",
    "- 3 threads acquire tickets, so the counter goes from 3 → 0.\n",
    "- After using the resource, each thread releases a ticket.\n",
    "- After releasing 3 tickets, the semaphore counter becomes 3 again.\n",
    "- If 4 tickets are released (e.g., releasing a 4th ticket when the counter is 0), the semaphore counter goes to 4."
   ]
  },
  {
   "cell_type": "code",
   "execution_count": null,
   "id": "aecd24b2-e7c9-4021-8672-939a398fbb9e",
   "metadata": {},
   "outputs": [],
   "source": []
  },
  {
   "cell_type": "markdown",
   "id": "5d68e818-ce05-4aa3-adef-80d4b197c547",
   "metadata": {},
   "source": [
    "### 3.2 Bounded Semaphore (Fixed Limit):\n",
    "#### What is it?\n",
    "- A bounded semaphore is a semaphore that has a fixed maximum limit on how many threads can access the resource at the same time.\n",
    "- Example: Imagine you have 3 tickets (permits) for 3 people to access a printer. Once 3 people are using the printer, the 4th person has to wait because all tickets are taken.\n",
    "\n",
    "#### How it works:\n",
    "- If you initialize a bounded semaphore with 3 permits, only 3 threads can access the resource at once.\n",
    "- Once the limit is reached, new threads will have to wait until someone finishes and releases a ticket."
   ]
  },
  {
   "cell_type": "code",
   "execution_count": 10,
   "id": "d70020f6-c5a5-42c0-ab14-75a35049e46e",
   "metadata": {},
   "outputs": [
    {
     "name": "stdout",
     "output_type": "stream",
     "text": [
      "Thread-0 is trying to acquire a ticket...Thread-1 is trying to acquire a ticket...\n",
      "Thread-1 is using the resource.\n",
      "Thread-2 is trying to acquire a ticket...\n",
      "Thread-2 is using the resource.\n",
      "\n",
      "Thread-0 is using the resource.\n",
      "Thread-3 is trying to acquire a ticket...\n",
      "Thread-4 is trying to acquire a ticket...\n",
      "Thread-1 is releasing the ticket.Thread-0 is releasing the ticket.\n",
      "Thread-2 is releasing the ticket.\n",
      "Thread-3 is using the resource.\n",
      "Thread-4 is using the resource.\n",
      "\n",
      "Thread-3 is releasing the ticket.\n",
      "Thread-4 is releasing the ticket.\n",
      "All threads have finished.\n"
     ]
    }
   ],
   "source": [
    "from threading import Thread, BoundedSemaphore, current_thread\n",
    "import time\n",
    "\n",
    "# Unbounded semaphore with 3 permits\n",
    "semaphore = BoundedSemaphore(3)\n",
    "\n",
    "def use_resource():\n",
    "    # Correct way to get the thread name\n",
    "    current_thread_name = current_thread().name\n",
    "    print(f\"{current_thread_name} is trying to acquire a ticket...\")\n",
    "    \n",
    "    semaphore.acquire()  # Try to acquire a permit (ticket)\n",
    "    print(f\"{current_thread_name} is using the resource.\")\n",
    "    time.sleep(1)  # Simulate using the resource\n",
    "    print(f\"{current_thread_name} is releasing the ticket.\")\n",
    "    \n",
    "    semaphore.release()  # Release the permit (ticket)\n",
    "\n",
    "# Create 5 threads (more than the permits)\n",
    "threads = [Thread(target=use_resource, name=f\"Thread-{i}\") for i in range(5)]\n",
    "\n",
    "# Start the threads\n",
    "for t in threads:\n",
    "    t.start()\n",
    "\n",
    "# Wait for all threads to finish\n",
    "for t in threads:\n",
    "    t.join()\n",
    "\n",
    "print(\"All threads have finished.\")\n"
   ]
  },
  {
   "cell_type": "markdown",
   "id": "31e93bb1-73d6-49c2-80ad-ca64f5563a9d",
   "metadata": {},
   "source": [
    "### Explanation:\n",
    "- Semaphore starts with a fixed number of tickets (e.g., 3).\n",
    "- Threads acquire tickets: The counter decreases as threads acquire tickets. For example, 3 threads acquire tickets, so the counter goes from 3 → 0.\n",
    "- Once the semaphore reaches 0, no more threads can acquire a ticket. They must wait until a ticket is released.\n",
    "- After a thread finishes using the resource, it releases a ticket. The counter increases by 1 for each release.\n",
    "- If a thread tries to release more tickets than the initial limit (3), the semaphore will not allow it, and the ticket count will remain within the initial limit."
   ]
  },
  {
   "cell_type": "code",
   "execution_count": null,
   "id": "98000e43-4679-4d94-94c0-22536b081b5d",
   "metadata": {},
   "outputs": [],
   "source": []
  },
  {
   "cell_type": "markdown",
   "id": "55455d05-7942-428f-aa2a-81819a1aeea1",
   "metadata": {},
   "source": [
    "## How semaphore eliminate race condition?\n",
    "#### What Semaphore Can Do:\n",
    "- Control access: Semaphore allows multiple threads to access a shared resource concurrently, but it limits the number of threads that can access the resource at any given time.\n",
    "- Concurrency management: By limiting the number of threads, it can prevent the system from being overwhelmed by too many threads trying to access a resource simultaneously.\n",
    "#### What Semaphore Cannot Do:\n",
    "\n",
    "- Prevent race conditions: Semaphore by itself does not guarantee that multiple threads won't modify shared data concurrently, leading to race conditions. Multiple threads can still access and modify shared data simultaneously unless mutual exclusion (via locks) is implemented."
   ]
  },
  {
   "cell_type": "markdown",
   "id": "9f879356-804c-4de7-883c-8d2e44e29f55",
   "metadata": {},
   "source": [
    "### Eliminating Race Conditions with Semaphore + Lock\n",
    "To eliminate race conditions while using semaphores, semaphores control the concurrency (how many threads can access a resource), and locks (like Lock, RLock) ensure mutual exclusion when threads modify the shared resource.\n",
    "\n",
    "- Semaphore: Controls how many threads can access the critical section at a time.\n",
    "- Lock: Ensures that only one thread can modify the shared resource at a time, thus preventing race conditions."
   ]
  },
  {
   "cell_type": "code",
   "execution_count": 11,
   "id": "cfed3340-2087-45e9-8803-a2a2bdc1480a",
   "metadata": {},
   "outputs": [
    {
     "name": "stdout",
     "output_type": "stream",
     "text": [
      "Counter incremented by Thread-1. New counter: 1\n",
      "Counter incremented by Thread-2. New counter: 2\n",
      "Counter incremented by Thread-3. New counter: 3\n",
      "Counter incremented by Thread-4. New counter: 4\n",
      "Counter incremented by Thread-5. New counter: 5\n",
      "Final Counter Value: 5\n"
     ]
    }
   ],
   "source": [
    "import threading\n",
    "import time\n",
    "\n",
    "# Shared resource (counter)\n",
    "counter = 0\n",
    "\n",
    "# Semaphore allowing up to 3 threads to access the shared resource\n",
    "semaphore = threading.Semaphore(3)\n",
    "\n",
    "# Lock to ensure mutual exclusion when modifying the shared resource\n",
    "lock = threading.Lock()\n",
    "\n",
    "def increment():\n",
    "    global counter\n",
    "    semaphore.acquire()  # Limit the number of threads accessing the resource\n",
    "\n",
    "    with lock:  # Ensure only one thread modifies the counter at a time\n",
    "        current_value = counter\n",
    "        time.sleep(0.1)  # Simulate some processing\n",
    "        counter = current_value + 1\n",
    "        print(f\"Counter incremented by {threading.current_thread().name}. New counter: {counter}\")\n",
    "\n",
    "    semaphore.release()  # Allow another thread to access the resource\n",
    "\n",
    "# Create and start multiple threads\n",
    "threads = []\n",
    "for i in range(5):\n",
    "    thread = threading.Thread(target=increment, name=f\"Thread-{i+1}\")\n",
    "    threads.append(thread)\n",
    "    thread.start()\n",
    "\n",
    "# Wait for all threads to finish\n",
    "for thread in threads:\n",
    "    thread.join()\n",
    "\n",
    "print(f\"Final Counter Value: {counter}\")\n"
   ]
  },
  {
   "cell_type": "code",
   "execution_count": null,
   "id": "73330ab7-27d8-4079-a195-f9991fe6d9bb",
   "metadata": {},
   "outputs": [],
   "source": []
  }
 ],
 "metadata": {
  "kernelspec": {
   "display_name": "Python 3 (ipykernel)",
   "language": "python",
   "name": "python3"
  },
  "language_info": {
   "codemirror_mode": {
    "name": "ipython",
    "version": 3
   },
   "file_extension": ".py",
   "mimetype": "text/x-python",
   "name": "python",
   "nbconvert_exporter": "python",
   "pygments_lexer": "ipython3",
   "version": "3.13.0"
  },
  "widgets": {
   "application/vnd.jupyter.widget-state+json": {
    "state": {},
    "version_major": 2,
    "version_minor": 0
   }
  }
 },
 "nbformat": 4,
 "nbformat_minor": 5
}
