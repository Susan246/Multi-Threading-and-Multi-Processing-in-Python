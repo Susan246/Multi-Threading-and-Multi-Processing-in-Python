{
 "cells": [
  {
   "cell_type": "markdown",
   "id": "a205df00-5bae-43bc-afad-43374e9a36bc",
   "metadata": {},
   "source": [
    "# Creation of Threads:\n",
    "In Python, Threads can be created by two ways:\n",
    "1. Using the threading module: This is the simpler and more common method, where you create a Thread object and pass the target function. It's typically preferred for most use cases as it's more concise and straightforward.\n",
    "\n",
    "2. Extending the Thread class: This method is useful if you need to customize the behavior of the thread by overriding the run() method. It's useful when the task requires more logic or attributes, making it a bit more flexible."
   ]
  },
  {
   "cell_type": "markdown",
   "id": "8e279733-4e1a-46d0-a996-e59c5f47c47f",
   "metadata": {},
   "source": [
    "### 1. Using the threading Module:\n",
    "- In Python, you can create threads by importing the built-in threading module. This module provides a way to run functions concurrently using threads.\n",
    "\n",
    "#### Steps to Create a Thread:\n",
    "Step 1: Import the threading module.\n",
    "\n",
    "Step 2: Define the target function to run in the thread.\n",
    "\n",
    "Step 3: Create a thread instance by passing the target function to the Thread constructor.\n",
    "\n",
    "Step 4: Start the thread using thread.start().\n",
    "\n",
    "Step 5: Optionally, wait for the thread to complete using thread.join()."
   ]
  },
  {
   "cell_type": "code",
   "execution_count": 3,
   "id": "f48a2244-0fff-4dd4-a198-8ced0c2fb50b",
   "metadata": {},
   "outputs": [
    {
     "name": "stdout",
     "output_type": "stream",
     "text": [
      "Number: 1\n",
      "Number: 2\n",
      "Number: 3\n",
      "Number: 4\n",
      "Number: 5\n",
      "Thread execution completed.\n"
     ]
    }
   ],
   "source": [
    "import threading\n",
    "import time\n",
    "\n",
    "# Define the function to be executed by the thread\n",
    "def print_numbers():\n",
    "    for i in range(1, 6):\n",
    "        print(f\"Number: {i}\")\n",
    "        time.sleep(1)  # Simulating some delay (e.g., I/O-bound operation)\n",
    "\n",
    "# Create a thread and pass the target function\n",
    "thread1 = threading.Thread(target=print_numbers)\n",
    "\n",
    "# Start the thread\n",
    "thread1.start()\n",
    "\n",
    "# Wait for the thread to finish\n",
    "thread1.join()\n",
    "\n",
    "print(\"Thread execution completed.\")\n"
   ]
  },
  {
   "cell_type": "code",
   "execution_count": null,
   "id": "836c90d7-f92b-4f48-8335-dde739c571a0",
   "metadata": {},
   "outputs": [],
   "source": []
  },
  {
   "cell_type": "markdown",
   "id": "f06f94b0-d8c9-4227-9e3b-fd95cc2a251f",
   "metadata": {},
   "source": [
    "### 2. Extending the Thread Class:\n",
    "- In addition to using the threading module, you can also create threads by extending the Thread class. This approach allows you to customize the behavior of the thread by overriding the run() method, which contains the logic that will be executed when the thread starts.\n",
    "\n",
    "#### Steps to Create a Thread by Extending Thread:\n",
    "Step 1: Import the threading module.\n",
    "\n",
    "\n",
    "Step 2: Define a custom class that inherits from the Thread class.\n",
    "\n",
    "Step 3: Override the run() method with the desired functionality.\n",
    "\n",
    "Step 4: Create an instance of your custom thread class.\n",
    "\n",
    "Step 5: Start the thread using the start() method.\n",
    "\n",
    "Step 6: Optionally, wait for the thread to finish using join().\n"
   ]
  },
  {
   "cell_type": "code",
   "execution_count": 4,
   "id": "428e36a3-dd89-4439-a978-01a058e68371",
   "metadata": {},
   "outputs": [
    {
     "name": "stdout",
     "output_type": "stream",
     "text": [
      "Number: 1\n",
      "Number: 2\n",
      "Number: 3\n",
      "Number: 4\n",
      "Number: 5\n",
      "Thread execution completed.\n"
     ]
    }
   ],
   "source": [
    "import threading\n",
    "import time\n",
    "\n",
    "# Define a custom thread class that extends Thread\n",
    "class MyThread(threading.Thread):\n",
    "    def run(self):\n",
    "        for i in range(1, 6):\n",
    "            print(f\"Number: {i}\")\n",
    "            time.sleep(1)  # Simulating some delay (e.g., I/O-bound operation)\n",
    "\n",
    "# Create an instance of the custom thread class\n",
    "thread1 = MyThread()\n",
    "\n",
    "# Start the thread\n",
    "thread1.start()\n",
    "\n",
    "# Wait for the thread to finish\n",
    "thread1.join()\n",
    "\n",
    "print(\"Thread execution completed.\")\n"
   ]
  },
  {
   "cell_type": "code",
   "execution_count": null,
   "id": "906e4a1f-1a42-4aa9-93d5-5dd96e5cc1cb",
   "metadata": {},
   "outputs": [],
   "source": []
  },
  {
   "cell_type": "markdown",
   "id": "586c15d5-a0a9-421c-881c-7081675992f0",
   "metadata": {},
   "source": [
    "## Types of Arguments in Threading Module:\n",
    "### 1. Positional Arguments (args):\n",
    "- Pass a tuple of positional arguments to the target function.\n",
    "\n",
    "### 2. Keyword Arguments (kwargs):\n",
    "- Pass a dictionary of keyword arguments to the target function.\n",
    "\n"
   ]
  },
  {
   "cell_type": "code",
   "execution_count": 14,
   "id": "668fc7e5-f7e2-4177-99a4-77fbb6266bde",
   "metadata": {},
   "outputs": [
    {
     "name": "stdout",
     "output_type": "stream",
     "text": [
      "Hello, Alice! You are 25 years old and live in Unknown.Hello, Bob! You are 30 years old and live in New York.\n",
      "\n",
      "Hello, Charlie! You are 35 years old and live in San Francisco.\n",
      "All threads have completed.\n"
     ]
    }
   ],
   "source": [
    "import threading\n",
    "\n",
    "# Define the target function\n",
    "def greet_user(name, age, city=\"Unknown\"):\n",
    "    print(f\"Hello, {name}! You are {age} years old and live in {city}.\")\n",
    "\n",
    "# Using positional arguments\n",
    "thread1 = threading.Thread(target=greet_user, args=(\"Alice\", 25))\n",
    "\n",
    "# Using keyword arguments\n",
    "thread2 = threading.Thread(target=greet_user, kwargs={\"name\": \"Bob\", \"age\": 30, \"city\": \"New York\"})\n",
    "\n",
    "# Using both positional and keyword arguments\n",
    "thread3 = threading.Thread(target=greet_user, args=(\"Charlie\", 35), kwargs={\"city\": \"San Francisco\"})\n",
    "\n",
    "# Start the threads\n",
    "thread1.start()\n",
    "thread2.start()\n",
    "thread3.start()\n",
    "\n",
    "# Wait for threads to complete\n",
    "thread1.join()\n",
    "thread2.join()\n",
    "thread3.join()\n",
    "\n",
    "print(\"All threads have completed.\")\n"
   ]
  },
  {
   "cell_type": "code",
   "execution_count": null,
   "id": "ec6b3ed9-4c10-4eb7-a515-3f980a38f0af",
   "metadata": {},
   "outputs": [],
   "source": []
  },
  {
   "cell_type": "markdown",
   "id": "c53a4879-b552-43b3-aa6e-27db43fcbb4a",
   "metadata": {},
   "source": [
    "### Creating Threads for Methods:\n",
    "- When using threads for methods, the primary difference is that the target function is replaced with an instance method of a class. You pass the method as the target and provide arguments as needed, allowing the thread to execute logic specific to that object instance."
   ]
  },
  {
   "cell_type": "code",
   "execution_count": 15,
   "id": "caf508ff-e88a-4774-b9a5-68eb6a9cf084",
   "metadata": {},
   "outputs": [
    {
     "name": "stdout",
     "output_type": "stream",
     "text": [
      "Worker 1 is performing task: Task-A\n",
      "Worker 2 is performing task: Task-B\n",
      "Worker 2 completed task: Task-B\n",
      "Worker 1 completed task: Task-A\n",
      "All threads have completed.\n"
     ]
    }
   ],
   "source": [
    "import threading\n",
    "import time\n",
    "\n",
    "class Worker:\n",
    "    def __init__(self, worker_id):\n",
    "        self.worker_id = worker_id\n",
    "\n",
    "    def perform_task(self, task_name, duration):\n",
    "        print(f\"Worker {self.worker_id} is performing task: {task_name}\")\n",
    "        time.sleep(duration)\n",
    "        print(f\"Worker {self.worker_id} completed task: {task_name}\")\n",
    "\n",
    "# Create Worker objects\n",
    "worker1 = Worker(1)\n",
    "worker2 = Worker(2)\n",
    "\n",
    "# Create threads to call methods\n",
    "thread1 = threading.Thread(target=worker1.perform_task, args=(\"Task-A\", 3))\n",
    "thread2 = threading.Thread(target=worker2.perform_task, kwargs={\"task_name\": \"Task-B\", \"duration\": 2})\n",
    "\n",
    "# Start threads\n",
    "thread1.start()\n",
    "thread2.start()\n",
    "\n",
    "# Wait for threads to complete\n",
    "thread1.join()\n",
    "thread2.join()\n",
    "\n",
    "print(\"All threads have completed.\")\n"
   ]
  },
  {
   "cell_type": "code",
   "execution_count": null,
   "id": "8c60e507-0dbd-481a-ac9c-1ed642acc67c",
   "metadata": {},
   "outputs": [],
   "source": []
  },
  {
   "cell_type": "code",
   "execution_count": null,
   "id": "b6817ea6-0d21-42ec-8235-856772c6e06e",
   "metadata": {},
   "outputs": [],
   "source": []
  },
  {
   "cell_type": "markdown",
   "id": "8e26720b-7a5a-4e34-be85-a09f5cd3541d",
   "metadata": {},
   "source": [
    "## Method __init__() in Extending the Thread Class:"
   ]
  },
  {
   "cell_type": "code",
   "execution_count": 17,
   "id": "0698fdc6-c457-4b51-96d6-f5f17eed8086",
   "metadata": {},
   "outputs": [
    {
     "ename": "RuntimeError",
     "evalue": "thread.__init__() not called",
     "output_type": "error",
     "traceback": [
      "\u001b[1;31m---------------------------------------------------------------------------\u001b[0m",
      "\u001b[1;31mRuntimeError\u001b[0m                              Traceback (most recent call last)",
      "Cell \u001b[1;32mIn[17], line 17\u001b[0m\n\u001b[0;32m     14\u001b[0m thread \u001b[38;5;241m=\u001b[39m MyThread(\u001b[38;5;124m\"\u001b[39m\u001b[38;5;124mSample Data\u001b[39m\u001b[38;5;124m\"\u001b[39m)\n\u001b[0;32m     16\u001b[0m \u001b[38;5;66;03m# Try to start the thread\u001b[39;00m\n\u001b[1;32m---> 17\u001b[0m \u001b[43mthread\u001b[49m\u001b[38;5;241;43m.\u001b[39;49m\u001b[43mstart\u001b[49m\u001b[43m(\u001b[49m\u001b[43m)\u001b[49m  \u001b[38;5;66;03m# This will cause issues\u001b[39;00m\n",
      "File \u001b[1;32m~\\AppData\\Local\\Programs\\Python\\Python313\\Lib\\threading.py:964\u001b[0m, in \u001b[0;36mThread.start\u001b[1;34m(self)\u001b[0m\n\u001b[0;32m    954\u001b[0m \u001b[38;5;250m\u001b[39m\u001b[38;5;124;03m\"\"\"Start the thread's activity.\u001b[39;00m\n\u001b[0;32m    955\u001b[0m \n\u001b[0;32m    956\u001b[0m \u001b[38;5;124;03mIt must be called at most once per thread object. It arranges for the\u001b[39;00m\n\u001b[1;32m   (...)\u001b[0m\n\u001b[0;32m    961\u001b[0m \n\u001b[0;32m    962\u001b[0m \u001b[38;5;124;03m\"\"\"\u001b[39;00m\n\u001b[0;32m    963\u001b[0m \u001b[38;5;28;01mif\u001b[39;00m \u001b[38;5;129;01mnot\u001b[39;00m \u001b[38;5;28mself\u001b[39m\u001b[38;5;241m.\u001b[39m_initialized:\n\u001b[1;32m--> 964\u001b[0m     \u001b[38;5;28;01mraise\u001b[39;00m \u001b[38;5;167;01mRuntimeError\u001b[39;00m(\u001b[38;5;124m\"\u001b[39m\u001b[38;5;124mthread.__init__() not called\u001b[39m\u001b[38;5;124m\"\u001b[39m)\n\u001b[0;32m    966\u001b[0m \u001b[38;5;28;01mif\u001b[39;00m \u001b[38;5;28mself\u001b[39m\u001b[38;5;241m.\u001b[39m_started\u001b[38;5;241m.\u001b[39mis_set():\n\u001b[0;32m    967\u001b[0m     \u001b[38;5;28;01mraise\u001b[39;00m \u001b[38;5;167;01mRuntimeError\u001b[39;00m(\u001b[38;5;124m\"\u001b[39m\u001b[38;5;124mthreads can only be started once\u001b[39m\u001b[38;5;124m\"\u001b[39m)\n",
      "\u001b[1;31mRuntimeError\u001b[0m: thread.__init__() not called"
     ]
    }
   ],
   "source": [
    "import threading\n",
    "import time\n",
    "\n",
    "class MyThread(threading.Thread):\n",
    "    def __init__(self, data):\n",
    "        # Forgot to call super().__init__()\n",
    "        self.data = data\n",
    "\n",
    "    def run(self):\n",
    "        print(f\"Processing data: {self.data}\")\n",
    "        time.sleep(1)\n",
    "\n",
    "# Create a thread instance\n",
    "thread = MyThread(\"Sample Data\")\n",
    "\n",
    "# Try to start the thread\n",
    "thread.start()  # This will cause issues\n"
   ]
  },
  {
   "cell_type": "markdown",
   "id": "3aaaf923-3012-46b7-a383-8d20faa31ff1",
   "metadata": {},
   "source": [
    "### Issue Occurs:\n",
    "- When super().__init__() is not called, the Thread class is not properly initialized. Specifically, the thread-related attributes (like name, daemon, and ident) are not set up, and the internal machinery needed to start the thread is not configured.\n",
    "As a result, when thread.start() is called, it will fail because the thread was not initialized correctly.\n",
    "### Solution: Call super().__init__()\n",
    "- To fix this issue, you need to call super().__init__() inside the __init__ method to ensure the thread is initialized properly. This will set up the necessary thread attributes and allow the thread to start without issues."
   ]
  },
  {
   "cell_type": "code",
   "execution_count": 18,
   "id": "731aed06-34ca-4d4c-ba04-1e90ffba2d69",
   "metadata": {},
   "outputs": [
    {
     "name": "stdout",
     "output_type": "stream",
     "text": [
      "Processing data: Sample Data\n"
     ]
    }
   ],
   "source": [
    "import threading\n",
    "import time\n",
    "\n",
    "class MyThread(threading.Thread):\n",
    "    def __init__(self, data):\n",
    "        super().__init__()  # Correctly call the parent class's __init__ method\n",
    "        self.data = data\n",
    "\n",
    "    def run(self):\n",
    "        print(f\"Processing data: {self.data}\")\n",
    "        time.sleep(1)\n",
    "\n",
    "# Create a thread instance\n",
    "thread = MyThread(\"Sample Data\")\n",
    "\n",
    "# Start the thread\n",
    "thread.start()  # Now it will work correctly\n"
   ]
  },
  {
   "cell_type": "code",
   "execution_count": null,
   "id": "d36c5958-0c23-4722-9547-6e428bd5f8d3",
   "metadata": {},
   "outputs": [],
   "source": []
  }
 ],
 "metadata": {
  "kernelspec": {
   "display_name": "Python 3 (ipykernel)",
   "language": "python",
   "name": "python3"
  },
  "language_info": {
   "codemirror_mode": {
    "name": "ipython",
    "version": 3
   },
   "file_extension": ".py",
   "mimetype": "text/x-python",
   "name": "python",
   "nbconvert_exporter": "python",
   "pygments_lexer": "ipython3",
   "version": "3.13.0"
  },
  "widgets": {
   "application/vnd.jupyter.widget-state+json": {
    "state": {},
    "version_major": 2,
    "version_minor": 0
   }
  }
 },
 "nbformat": 4,
 "nbformat_minor": 5
}
