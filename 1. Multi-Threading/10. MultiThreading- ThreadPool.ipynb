{
 "cells": [
  {
   "cell_type": "markdown",
   "id": "86831613-082f-4bca-87ef-5e9baa5406dc",
   "metadata": {},
   "source": [
    "# Thread Pool:\n",
    "- A thread pool is a collection of worker threads that are used to perform tasks concurrently. The primary goal of a thread pool is to avoid the overhead of creating and destroying threads for each task, by reusing threads for multiple tasks. Python provides the ThreadPoolExecutor class from the concurrent.futures module to manage and use thread pools effectively."
   ]
  },
  {
   "cell_type": "markdown",
   "id": "01573b30-ed07-4aec-9222-f0a2b263b8e1",
   "metadata": {},
   "source": [
    "### Why Use a Thread Pool?\n",
    "- Efficiency: Creating a new thread for every task can be resource-intensive. A thread pool allows reusing threads to handle multiple tasks, reducing overhead.\n",
    "- Simplification: Managing a thread pool abstracts the complexities of thread creation, execution, and destruction, allowing the programmer to focus on the task logic.\n"
   ]
  },
  {
   "cell_type": "markdown",
   "id": "c94bf75c-e7d8-4389-ba69-30bb0985962e",
   "metadata": {},
   "source": [
    "### ThreadPoolExecutor Methods:\n",
    "#### i.submit(func, *args, **kwargs)\n",
    "- The submit() method schedules a callable (function) to be executed asynchronously in the thread pool. It returns a Future object, which allows you to track the execution of the callable, including checking its status and retrieving the result.\n",
    "\n",
    "- Usage: This is useful when you need to run a function asynchronously and don't need to block the main thread while waiting for the result.\n",
    "\n",
    "Parameters:\n",
    "- func: The function to execute.\n",
    "- args: The positional arguments to pass to the function.\n",
    "- kwargs: The keyword arguments to pass to the function.\n",
    "\n",
    "Returns:\n",
    "- A Future object that represents the execution of the callable."
   ]
  },
  {
   "cell_type": "code",
   "execution_count": 3,
   "id": "816ca0e7-af04-49d6-b81b-e7d82d99f493",
   "metadata": {},
   "outputs": [
    {
     "name": "stdout",
     "output_type": "stream",
     "text": [
      "Result of future1: 4\n",
      "Result of future2: 9\n"
     ]
    }
   ],
   "source": [
    "from concurrent.futures import ThreadPoolExecutor\n",
    "\n",
    "def square(x):\n",
    "    return x ** 2\n",
    "\n",
    "with ThreadPoolExecutor(max_workers=3) as executor:\n",
    "    future1 = executor.submit(square, 2)\n",
    "    future2 = executor.submit(square, 3)\n",
    "    print(f\"Result of future1: {future1.result()}\")\n",
    "    print(f\"Result of future2: {future2.result()}\")\n"
   ]
  },
  {
   "cell_type": "markdown",
   "id": "5c8a59c4-95ce-482d-bb33-f3d60c7c4884",
   "metadata": {},
   "source": [
    "### ii. map(func, iterable, timeout=None, chunksize=1)\n",
    " The map() method applies a function (func) to every item of the iterable (iterable) concurrently. The behavior is similar to the built-in map() function but it distributes the work to multiple threads. It returns the results in the same order as the input iterable.\n",
    "\n",
    "- Usage: Use map() when you need to apply a function to an iterable (like a list) and get the results as a list. It blocks until all results are returned.\n",
    "\n",
    "Parameters:\n",
    "- func: The function to apply to each item in the iterable.\n",
    "- iterable: The input iterable (list, tuple, etc.).\n",
    "- timeout: (Optional) The maximum number of seconds to wait for the results.\n",
    "- chunksize: (Optional) The number of items each thread will process at once.\n",
    "\n",
    "Returns: \n",
    "- An iterable of results in the same order as the input iterable."
   ]
  },
  {
   "cell_type": "code",
   "execution_count": 4,
   "id": "5f6840de-0f17-485a-9a61-8ade3d7b8b4d",
   "metadata": {},
   "outputs": [
    {
     "name": "stdout",
     "output_type": "stream",
     "text": [
      "[1, 4, 9, 16, 25]\n"
     ]
    }
   ],
   "source": [
    "from concurrent.futures import ThreadPoolExecutor\n",
    "\n",
    "def square(x):\n",
    "    return x ** 2\n",
    "\n",
    "with ThreadPoolExecutor(max_workers=4) as executor:\n",
    "    results = list(executor.map(square, [1, 2, 3, 4, 5]))\n",
    "    print(results)  # Output: [1, 4, 9, 16, 25]\n"
   ]
  },
  {
   "cell_type": "markdown",
   "id": "3069efd4-58f6-45ad-9390-ff9aff95f1fd",
   "metadata": {},
   "source": [
    "### iii. shutdown(wait=True)\n",
    "- This method is used to clean up the pool. By calling shutdown(), you prevent any more tasks from being added to the pool, and you can optionally wait for the running threads to finish before proceeding.\n",
    "\n",
    "- Usage: Call this method when you are done with the ThreadPoolExecutor to release its resources. If wait is set to True, it will block until all tasks are completed.\n",
    "\n",
    "When wait is:\n",
    "- True: Blocks the main program until all threads finish their tasks.\n",
    "- False: Immediately shuts down the pool but lets running threads continue in the background.\n",
    "\n",
    "Returns:\n",
    "- None"
   ]
  },
  {
   "cell_type": "code",
   "execution_count": 12,
   "id": "c017d59f-d368-487a-b5db-4bee79963218",
   "metadata": {},
   "outputs": [
    {
     "name": "stdout",
     "output_type": "stream",
     "text": [
      "[1, 4, 9, 16, 25]\n"
     ]
    }
   ],
   "source": [
    "from concurrent.futures import ThreadPoolExecutor\n",
    "\n",
    "def square(x):\n",
    "    return x ** 2\n",
    "\n",
    "with ThreadPoolExecutor(max_workers=4) as executor:\n",
    "    results = list(executor.map(square, [1, 2, 3, 4, 5]))\n",
    "    print(results)  # Output: [1, 4, 9, 16, 25]\n",
    "    executor.shutdown(wait=True)  # Wait for all threads to finish\n"
   ]
  },
  {
   "cell_type": "code",
   "execution_count": null,
   "id": "1d4e47d4-edbf-4b03-a0a3-bf9a90ff19b6",
   "metadata": {},
   "outputs": [],
   "source": []
  },
  {
   "cell_type": "code",
   "execution_count": null,
   "id": "a7549789-9a81-4013-89d7-fa7f887747c6",
   "metadata": {},
   "outputs": [],
   "source": []
  },
  {
   "cell_type": "markdown",
   "id": "c608d97a-402e-4872-ae91-3a256ae84df8",
   "metadata": {},
   "source": [
    "### Problem with threading.Thread:\n",
    "- Number of threads: For each task, a new thread is created, which can be inefficient when there are many tasks.\n",
    "- Non-reusable threads: Once a thread completes its task, it cannot be reused. It must be recreated for the next task which is resource and time inefficient."
   ]
  },
  {
   "cell_type": "code",
   "execution_count": 7,
   "id": "e4cb3026-d185-46f8-9762-60607988d6a8",
   "metadata": {},
   "outputs": [
    {
     "name": "stdout",
     "output_type": "stream",
     "text": [
      "Task 0 starting (Thread ID: 13652)\n",
      "Task 1 starting (Thread ID: 11908)\n",
      "Task 2 starting (Thread ID: 22716)\n",
      "Task 3 starting (Thread ID: 3112)\n",
      "Task 4 starting (Thread ID: 18736)\n",
      "Task 5 starting (Thread ID: 8376)\n",
      "Task 6 starting (Thread ID: 24476)\n",
      "Task 7 starting (Thread ID: 1480)\n",
      "Task 8 starting (Thread ID: 22308)\n",
      "Task 9 starting (Thread ID: 9780)\n",
      "Task 0 finished (Thread ID: 13652)\n",
      "Task 1 finished (Thread ID: 11908)\n",
      "Task 2 finished (Thread ID: 22716)\n",
      "Task 3 finished (Thread ID: 3112)\n",
      "Task 4 finished (Thread ID: 18736)\n",
      "Task 5 finished (Thread ID: 8376)\n",
      "Task 6 finished (Thread ID: 24476)\n",
      "Task 7 finished (Thread ID: 1480)\n",
      "Task 8 finished (Thread ID: 22308)\n",
      "Task 9 finished (Thread ID: 9780)\n",
      "All tasks completed with threading.Thread.\n"
     ]
    }
   ],
   "source": [
    "import threading\n",
    "import time\n",
    "import os\n",
    "\n",
    "# Function to simulate task\n",
    "def task(x):\n",
    "    print(f\"Task {x} starting (Thread ID: {threading.get_ident()})\")\n",
    "    time.sleep(2)  # Simulating a time-consuming task\n",
    "    print(f\"Task {x} finished (Thread ID: {threading.get_ident()})\")\n",
    "\n",
    "# Create threads for each task\n",
    "threads = []\n",
    "for i in range(10):\n",
    "    thread = threading.Thread(target=task, args=(i,))\n",
    "    threads.append(thread)\n",
    "    thread.start()  # Start the thread\n",
    "\n",
    "# Wait for all threads to complete\n",
    "for thread in threads:\n",
    "    thread.join()\n",
    "\n",
    "print(\"All tasks completed with threading.Thread.\")\n"
   ]
  },
  {
   "cell_type": "code",
   "execution_count": null,
   "id": "ebc40e7c-2b07-4ef9-b75b-f8efdb36d88a",
   "metadata": {},
   "outputs": [],
   "source": []
  },
  {
   "cell_type": "markdown",
   "id": "0396a58a-1c5f-4707-90b6-b92bdf61dedb",
   "metadata": {},
   "source": [
    "### Solution with ThreadPoolExecutor:\n",
    "- Thread reuse: Threads are reused from the pool, reducing the overhead.\n",
    "- Efficient thread allocation: The pool controls the maximum number of threads running simultaneously."
   ]
  },
  {
   "cell_type": "code",
   "execution_count": 8,
   "id": "2de5f4e4-dfdb-48a8-aba0-d226a7b5c653",
   "metadata": {},
   "outputs": [
    {
     "name": "stdout",
     "output_type": "stream",
     "text": [
      "Task 0 starting (Thread ID: 3692)\n",
      "Task 1 starting (Thread ID: 9408)\n",
      "Task 2 starting (Thread ID: 3708)\n",
      "Task 0 finished (Thread ID: 3692)Task 1 finished (Thread ID: 9408)\n",
      "Task 3 starting (Thread ID: 9408)\n",
      "Task 2 finished (Thread ID: 3708)\n",
      "Task 4 starting (Thread ID: 3708)\n",
      "\n",
      "Task 5 starting (Thread ID: 3692)\n",
      "Task 4 finished (Thread ID: 3708)Task 3 finished (Thread ID: 9408)\n",
      "Task 6 starting (Thread ID: 9408)\n",
      "Task 5 finished (Thread ID: 3692)\n",
      "Task 7 starting (Thread ID: 3692)\n",
      "\n",
      "Task 8 starting (Thread ID: 3708)\n",
      "Task 6 finished (Thread ID: 9408)Task 8 finished (Thread ID: 3708)\n",
      "Task 9 starting (Thread ID: 3708)\n",
      "Task 7 finished (Thread ID: 3692)\n",
      "\n",
      "Task 9 finished (Thread ID: 3708)\n",
      "All tasks completed with ThreadPoolExecutor.\n"
     ]
    }
   ],
   "source": [
    "from concurrent.futures import ThreadPoolExecutor\n",
    "import time\n",
    "import threading\n",
    "\n",
    "# Function to simulate task\n",
    "def task(x):\n",
    "    print(f\"Task {x} starting (Thread ID: {threading.get_ident()})\")\n",
    "    time.sleep(2)  # Simulating a time-consuming task\n",
    "    print(f\"Task {x} finished (Thread ID: {threading.get_ident()})\")\n",
    "\n",
    "# Create a thread pool with a maximum of 3 threads\n",
    "with ThreadPoolExecutor(max_workers=3) as executor:\n",
    "    # Submit tasks to the pool\n",
    "    for i in range(10):\n",
    "        executor.submit(task, i)\n",
    "\n",
    "print(\"All tasks completed with ThreadPoolExecutor.\")\n"
   ]
  },
  {
   "cell_type": "code",
   "execution_count": null,
   "id": "712f1c30-3ba2-44b4-9a87-e24a30677dbf",
   "metadata": {},
   "outputs": [],
   "source": []
  }
 ],
 "metadata": {
  "kernelspec": {
   "display_name": "Python 3 (ipykernel)",
   "language": "python",
   "name": "python3"
  },
  "language_info": {
   "codemirror_mode": {
    "name": "ipython",
    "version": 3
   },
   "file_extension": ".py",
   "mimetype": "text/x-python",
   "name": "python",
   "nbconvert_exporter": "python",
   "pygments_lexer": "ipython3",
   "version": "3.13.0"
  },
  "widgets": {
   "application/vnd.jupyter.widget-state+json": {
    "state": {},
    "version_major": 2,
    "version_minor": 0
   }
  }
 },
 "nbformat": 4,
 "nbformat_minor": 5
}
