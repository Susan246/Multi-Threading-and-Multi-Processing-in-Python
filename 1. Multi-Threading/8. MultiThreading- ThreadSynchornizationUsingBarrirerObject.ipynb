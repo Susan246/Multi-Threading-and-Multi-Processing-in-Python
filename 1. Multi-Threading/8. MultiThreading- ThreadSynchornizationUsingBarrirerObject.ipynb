{
 "cells": [
  {
   "cell_type": "markdown",
   "id": "9f2c6376-e521-48cb-8ce2-d7ce3614f07e",
   "metadata": {},
   "source": [
    "# Barrier Objects:\n",
    "- A Barrier is a synchronization primitive in Python used to synchronize multiple threads at a certain point in their execution. All threads involved in the barrier must call the wait() method to indicate that they have reached the synchronization point. Once all threads have called wait(), they are all released to continue execution."
   ]
  },
  {
   "cell_type": "markdown",
   "id": "2efd97cf-5c6f-47fb-8f39-6b24fd6b7105",
   "metadata": {},
   "source": [
    "### Methods and attributes of threading.Barrier:\n",
    "#### i. wait(timeout):\n",
    "- Called by threads to wait at the barrier.\n",
    "- Blocks the thread until the required number of threads have called wait().\n",
    "- If all threads have arrived, they can proceed.\n",
    "\n",
    "#### ii. abort():\n",
    "- Called to cancel the barrier if the threads need to be stopped prematurely.\n",
    "- Resets the barrier and raises an exception (BrokenBarrierError) for any threads that call wait() after the barrier has been aborted.\n",
    "\n",
    "#### iii. n_waiting:\n",
    "- Returns the number of threads that are currently waiting at the barrier.\n",
    "\n",
    "#### iv. parties:\n",
    "- Returns the total number of threads that need to reach the barrier before it's released."
   ]
  },
  {
   "cell_type": "code",
   "execution_count": null,
   "id": "f24765a0-ca2b-4871-a7d2-2265347c7781",
   "metadata": {},
   "outputs": [],
   "source": []
  },
  {
   "cell_type": "markdown",
   "id": "677a86a3-b7cc-4006-986e-54b593df4754",
   "metadata": {},
   "source": [
    "## Scenario:\n",
    "- We have four players playing a game. Each player plays 3 rounds of the game. After completing their rounds, they should wait for all players to finish before they can receive their winning amount. The issue is that without synchronization, players might receive their winnings at different times, potentially causing inconsistent results."
   ]
  },
  {
   "cell_type": "markdown",
   "id": "00e71a97-9d94-431b-8ac5-6f4e06feecaf",
   "metadata": {},
   "source": [
    "### 1. Solution Without Barrier:\n",
    "- In this approach, the players will execute independently, without waiting for each other. This could lead to players receiving their winnings before the others have completed their tasks."
   ]
  },
  {
   "cell_type": "code",
   "execution_count": 3,
   "id": "cc011eac-e410-430b-bb80-14cf14ad8dde",
   "metadata": {},
   "outputs": [
    {
     "name": "stdout",
     "output_type": "stream",
     "text": [
      "susan started playing.pratik started playing.\n",
      "\n",
      "suman started playing.\n",
      "nijam started playing.\n",
      "pratik is playing round 1suman is playing round 1\n",
      "nijam is playing round 1\n",
      "susan is playing round 1\n",
      "\n",
      "suman is playing round 2pratik is playing round 2\n",
      "susan is playing round 2\n",
      "nijam is playing round 2\n",
      "\n",
      "pratik is playing round 3susan is playing round 3\n",
      "sending winning amount to susan\n",
      "\n",
      "sending winning amount to pratik\n",
      "suman is playing round 3\n",
      "sending winning amount to suman\n",
      "nijam is playing round 3\n",
      "sending winning amount to nijam\n",
      "All players have received their winning amount.\n"
     ]
    }
   ],
   "source": [
    "import threading\n",
    "import time\n",
    "\n",
    "def player(name):\n",
    "    print(f\"{name} started playing.\")\n",
    "    \n",
    "    # Simulate the playing process (a task each player does)\n",
    "    for i in range(3):\n",
    "        time.sleep(3)\n",
    "        print(f\"{name} is playing round {i + 1}\")\n",
    "    \n",
    "    # After finishing playing, the player immediately sends the winning amount\n",
    "    print(f\"sending winning amount to {name}\")\n",
    "\n",
    "# List of players\n",
    "players_name = ['susan', 'pratik', 'suman', 'nijam']\n",
    "Threads = []\n",
    "\n",
    "# Create and start threads\n",
    "for name in players_name:\n",
    "    thread = threading.Thread(target=player, args=(name,))\n",
    "    Threads.append(thread)\n",
    "    thread.start()\n",
    "\n",
    "# Wait for all threads to finish\n",
    "for thread in Threads:\n",
    "    thread.join()\n",
    "\n",
    "print(\"All players have received their winning amount.\")\n"
   ]
  },
  {
   "cell_type": "markdown",
   "id": "f6dbe8f9-6f39-46dc-806d-ba7b544cffb3",
   "metadata": {},
   "source": [
    "### Issues Without Barrier:\n",
    "- Inconsistent flow: Some players may finish early and get their winnings while others are still playing.\n",
    "- No synchronization: There's no enforced wait time for all players to finish before the next phase.\n",
    "- Race conditions: The timing of each player's thread execution could lead to unpredictable results."
   ]
  },
  {
   "cell_type": "code",
   "execution_count": null,
   "id": "5f75439e-3cca-4b4d-a988-44e95a82d7a5",
   "metadata": {},
   "outputs": [],
   "source": []
  },
  {
   "cell_type": "markdown",
   "id": "3e35eed7-9e6b-4ac1-b518-8f1184bcf13e",
   "metadata": {},
   "source": [
    "### 2. Solution With Barrier:\n",
    "- In this approach, we'll use a Barrier to synchronize the players. This ensures that all players must finish their rounds before they can proceed to the \"winning amount\" phase. The Barrier will block each player thread until all threads reach it, and only then will the threads proceed."
   ]
  },
  {
   "cell_type": "code",
   "execution_count": null,
   "id": "e0afdfc9-e215-4be8-aea8-26e50fa4abf9",
   "metadata": {},
   "outputs": [
    {
     "name": "stdout",
     "output_type": "stream",
     "text": [
      "susan started playing.\n",
      "pratik started playing.\n",
      "suman started playing.\n",
      "nijam started playing.\n",
      "susan is playing round 1\n",
      "pratik is playing round 1\n",
      "suman is playing round 1\n",
      "nijam is playing round 1\n",
      "susan is playing round 2\n",
      "suman is playing round 2\n",
      "pratik is playing round 2\n",
      "nijam is playing round 2\n"
     ]
    }
   ],
   "source": [
    "import threading\n",
    "import time\n",
    "\n",
    "# Create a Barrier for 4 players\n",
    "barrier = threading.Barrier(4)\n",
    "\n",
    "def player(name):\n",
    "    print(f\"{name} started playing.\")\n",
    "    \n",
    "    # Simulate the playing process (a task each player does)\n",
    "    for i in range(3):\n",
    "        time.sleep(3)\n",
    "        print(f\"{name} is playing round {i + 1}\")\n",
    "    \n",
    "    # Synchronize the players: make them wait until all have finished playing\n",
    "    print(f\"{name} finished playing and is waiting for others.\")\n",
    "    barrier.wait()  # All threads will wait at this point\n",
    "\n",
    "    # After all players are done, they proceed to the next task\n",
    "    print(f\"sending winning amount to {name}\")\n",
    "\n",
    "# List of players\n",
    "players_name = ['susan', 'pratik', 'suman', 'nijam']\n",
    "Threads = []\n",
    "\n",
    "# Create and start threads\n",
    "for name in players_name:\n",
    "    thread = threading.Thread(target=player, args=(name,))\n",
    "    Threads.append(thread)\n",
    "    thread.start()\n",
    "\n",
    "# Wait for all threads to finish\n",
    "for thread in Threads:\n",
    "    thread.join()\n",
    "\n",
    "print(\"All winning players have received their winning amount.\")\n"
   ]
  },
  {
   "cell_type": "code",
   "execution_count": null,
   "id": "5471ab04-998f-454b-b083-19d3849b0ed6",
   "metadata": {},
   "outputs": [],
   "source": []
  },
  {
   "cell_type": "markdown",
   "id": "fc498ac6-4daf-4f8b-a103-c54c72c16855",
   "metadata": {},
   "source": [
    "### Advantages of Barrier Object:\n",
    "- Thread Synchronization: Ensures all threads reach a certain point before proceeding.\n",
    "- Prevents Race Conditions: Eliminates conflicts by coordinating thread execution.\n",
    "- Coordinated Execution: Aligns threads to perform tasks in a specific order.\n",
    "- Prevents Deadlocks: Avoids situations where threads are stuck waiting on each other.\n",
    "### Use Cases for Barrier Object:\n",
    "- Parallel Data Processing: Synchronizing multiple threads that perform portions of a task and need to wait for each other to proceed with the next phase.\n",
    "- Multi-phase Computations: In algorithms that require all threads to complete one phase before moving on to the next (e.g., simulation models).\n",
    "- Batch Processing: Ensuring that threads perform their work in synchronization before moving on to the next step.\n",
    "- Synchronization of Workers: In scenarios where multiple workers need to synchronize at specific points (e.g., map-reduce frameworks)."
   ]
  },
  {
   "cell_type": "code",
   "execution_count": null,
   "id": "ed706f05-00eb-4e35-b4a4-6af18e8f1d81",
   "metadata": {},
   "outputs": [],
   "source": []
  }
 ],
 "metadata": {
  "kernelspec": {
   "display_name": "Python 3 (ipykernel)",
   "language": "python",
   "name": "python3"
  },
  "language_info": {
   "codemirror_mode": {
    "name": "ipython",
    "version": 3
   },
   "file_extension": ".py",
   "mimetype": "text/x-python",
   "name": "python",
   "nbconvert_exporter": "python",
   "pygments_lexer": "ipython3",
   "version": "3.13.0"
  },
  "widgets": {
   "application/vnd.jupyter.widget-state+json": {
    "state": {},
    "version_major": 2,
    "version_minor": 0
   }
  }
 },
 "nbformat": 4,
 "nbformat_minor": 5
}
