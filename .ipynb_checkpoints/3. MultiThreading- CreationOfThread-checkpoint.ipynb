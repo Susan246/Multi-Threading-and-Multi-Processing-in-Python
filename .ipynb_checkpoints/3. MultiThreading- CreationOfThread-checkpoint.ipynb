{
 "cells": [
  {
   "cell_type": "markdown",
   "id": "a205df00-5bae-43bc-afad-43374e9a36bc",
   "metadata": {},
   "source": [
    "# Creation of Threads:\n",
    "In Python, Threads can be created by two ways:\n",
    "1. Using the threading module: This is the simpler and more common method, where you create a Thread object and pass the target function. It's typically preferred for most use cases as it's more concise and straightforward.\n",
    "\n",
    "2. Extending the Thread class: This method is useful if you need to customize the behavior of the thread by overriding the run() method. It's useful when the task requires more logic or attributes, making it a bit more flexible."
   ]
  },
  {
   "cell_type": "markdown",
   "id": "8e279733-4e1a-46d0-a996-e59c5f47c47f",
   "metadata": {},
   "source": [
    "### 1. Using the threading Module:\n",
    "- In Python, you can create threads by importing the built-in threading module. This module provides a way to run functions concurrently using threads.\n",
    "\n",
    "#### Steps to Create a Thread:\n",
    "Step 1: Import the threading module.\n",
    "\n",
    "Step 2: Define the target function to run in the thread.\n",
    "\n",
    "Step 3: Create a thread instance by passing the target function to the Thread constructor.\n",
    "\n",
    "Step 4: Start the thread using thread.start().\n",
    "\n",
    "Step 5: Optionally, wait for the thread to complete using thread.join()."
   ]
  },
  {
   "cell_type": "code",
   "execution_count": 1,
   "id": "f48a2244-0fff-4dd4-a198-8ced0c2fb50b",
   "metadata": {},
   "outputs": [
    {
     "name": "stdout",
     "output_type": "stream",
     "text": [
      "Number: 1\n",
      "Number: 2\n",
      "Number: 3\n",
      "Number: 4\n",
      "Number: 5\n",
      "Thread execution completed.\n"
     ]
    }
   ],
   "source": [
    "import threading\n",
    "import time\n",
    "\n",
    "# Define the function to be executed by the thread\n",
    "def print_numbers():\n",
    "    for i in range(1, 6):\n",
    "        print(f\"Number: {i}\")\n",
    "        time.sleep(1)  # Simulating some delay (e.g., I/O-bound operation)\n",
    "\n",
    "# Create a thread and pass the target function\n",
    "thread1 = threading.Thread(target=print_numbers)\n",
    "\n",
    "# Start the thread\n",
    "thread1.start()\n",
    "\n",
    "# Wait for the thread to finish\n",
    "thread1.join()\n",
    "\n",
    "print(\"Thread execution completed.\")\n"
   ]
  },
  {
   "cell_type": "markdown",
   "id": "cf13bd29-d672-4a3a-8779-495e658974b4",
   "metadata": {},
   "source": [
    "#### When to Use:\n",
    "- I/O-bound tasks: For operations that involve waiting (e.g., reading from disk, network requests), where threads can continue other tasks during waiting times.\n",
    "- Light concurrent tasks: When you need lightweight parallelism but don’t require the complexity of multiprocessing."
   ]
  },
  {
   "cell_type": "code",
   "execution_count": null,
   "id": "836c90d7-f92b-4f48-8335-dde739c571a0",
   "metadata": {},
   "outputs": [],
   "source": []
  },
  {
   "cell_type": "markdown",
   "id": "f06f94b0-d8c9-4227-9e3b-fd95cc2a251f",
   "metadata": {},
   "source": [
    "### 2. Extending the Thread Class:\n",
    "- In addition to using the threading module, you can also create threads by extending the Thread class. This approach allows you to customize the behavior of the thread by overriding the run() method, which contains the logic that will be executed when the thread starts.\n",
    "\n",
    "#### Steps to Create a Thread by Extending Thread:\n",
    "Step 1: Import the threading module.\n",
    "\n",
    "\n",
    "Step 2: Define a custom class that inherits from the Thread class.\n",
    "\n",
    "Step 3: Override the run() method with the desired functionality.\n",
    "\n",
    "Step 4: Create an instance of your custom thread class.\n",
    "\n",
    "Step 5: Start the thread using the start() method.\n",
    "\n",
    "Step 6: Optionally, wait for the thread to finish using join().\n"
   ]
  },
  {
   "cell_type": "code",
   "execution_count": 2,
   "id": "428e36a3-dd89-4439-a978-01a058e68371",
   "metadata": {},
   "outputs": [
    {
     "name": "stdout",
     "output_type": "stream",
     "text": [
      "Number: 1\n",
      "Number: 2\n",
      "Number: 3\n",
      "Number: 4\n",
      "Number: 5\n",
      "Thread execution completed.\n"
     ]
    }
   ],
   "source": [
    "import threading\n",
    "import time\n",
    "\n",
    "# Define a custom thread class that extends Thread\n",
    "class MyThread(threading.Thread):\n",
    "    def run(self):\n",
    "        for i in range(1, 6):\n",
    "            print(f\"Number: {i}\")\n",
    "            time.sleep(1)  # Simulating some delay (e.g., I/O-bound operation)\n",
    "\n",
    "# Create an instance of the custom thread class\n",
    "thread1 = MyThread()\n",
    "\n",
    "# Start the thread\n",
    "thread1.start()\n",
    "\n",
    "# Wait for the thread to finish\n",
    "thread1.join()\n",
    "\n",
    "print(\"Thread execution completed.\")\n"
   ]
  },
  {
   "cell_type": "markdown",
   "id": "a56d346c-19eb-4f3a-8cb6-4ada529eedde",
   "metadata": {},
   "source": [
    "#### When to Use:\n",
    "- Complex Thread Behavior: When you need more control over the thread's behavior, especially if it involves encapsulating logic in a separate class.\n",
    "- Custom Thread Logic: When the logic you want to run in the thread is complex, and you prefer to encapsulate it within a class rather than a simple function."
   ]
  },
  {
   "cell_type": "code",
   "execution_count": null,
   "id": "5c9262a8-bf9c-4102-9dc5-b9e65a6efce0",
   "metadata": {},
   "outputs": [],
   "source": []
  },
  {
   "cell_type": "code",
   "execution_count": null,
   "id": "3956ce54-55a6-4d76-8a2c-92418276e9f5",
   "metadata": {},
   "outputs": [],
   "source": []
  },
  {
   "cell_type": "markdown",
   "id": "89839c1d-a2ac-4f35-be6f-96b0f61e9294",
   "metadata": {},
   "source": [
    "## 1. Scenario: Use of Extending Thread Class\n",
    "Imagine a company that processes multiple user data in parallel. Each user’s data requires multiple steps to process, such as:\n",
    "\n",
    "- Data Cleanup (removing invalid entries)\n",
    "- Data Transformation (converting the data to a different format)\n",
    "- Data Aggregation (summarizing or grouping the data)"
   ]
  },
  {
   "cell_type": "markdown",
   "id": "41671322-4c91-4618-a5e0-ffc77d8bfcdd",
   "metadata": {},
   "source": [
    "## 1.1 Progress Tracking:\n",
    "### Using Threading Module:"
   ]
  },
  {
   "cell_type": "code",
   "execution_count": 5,
   "id": "ce6dadde-f001-4762-bbc3-642f17fb2998",
   "metadata": {},
   "outputs": [
    {
     "name": "stdout",
     "output_type": "stream",
     "text": [
      "Processing data for user 1...\n",
      "Processing data for user 2...\n",
      "Processing data for user 3...\n",
      "Data cleanup completed for user 1\n",
      "Data cleanup completed for user 2\n",
      "Data cleanup completed for user 3\n",
      "Data transformation completed for user 1\n",
      "Data transformation completed for user 2\n",
      "Data transformation completed for user 3\n",
      "Data aggregation completed for user 1\n",
      "Data aggregation completed for user 3\n",
      "Data aggregation completed for user 2\n",
      "All tasks completed!\n"
     ]
    }
   ],
   "source": [
    "import threading\n",
    "import time\n",
    "\n",
    "# Function to simulate data processing for a user\n",
    "def process_data(user_id):\n",
    "    print(f\"Processing data for user {user_id}...\")\n",
    "    time.sleep(2)  # Simulate data cleanup\n",
    "    print(f\"Data cleanup completed for user {user_id}\")\n",
    "    time.sleep(2)  # Simulate data transformation\n",
    "    print(f\"Data transformation completed for user {user_id}\")\n",
    "    time.sleep(2)  # Simulate data aggregation\n",
    "    print(f\"Data aggregation completed for user {user_id}\")\n",
    "\n",
    "# Create threads to process data for multiple users\n",
    "users = [1, 2, 3]\n",
    "\n",
    "threads = []\n",
    "for user in users:\n",
    "    thread = threading.Thread(target=process_data, args=(user,))\n",
    "    threads.append(thread)\n",
    "    thread.start()\n",
    "\n",
    "# Wait for all threads to complete\n",
    "for thread in threads:\n",
    "    thread.join()\n",
    "\n",
    "print(\"All tasks completed!\")\n"
   ]
  },
  {
   "cell_type": "markdown",
   "id": "ce1450c5-7c3f-4c09-98e8-3c31ee89b1a2",
   "metadata": {},
   "source": [
    "### Explanation:\n",
    "- Each thread runs the process_data function for each user. However, as the task progresses (cleanup, transformation, aggregation), there’s no feedback on the progress.\n",
    "The output only shows the completion of each step, but there is no indication of how far along the process is.\n",
    "\n",
    "### Issue:\n",
    "- If we want to monitor how much of the task is completed, we would have to manually modify the function and add progress logic. This can quickly become tedious, especially for larger applications or when the number of stages increases."
   ]
  },
  {
   "cell_type": "markdown",
   "id": "d2a6aaff-cf1a-4301-8f65-0d712e1a403b",
   "metadata": {},
   "source": [
    "### Extending the Thread Class:"
   ]
  },
  {
   "cell_type": "code",
   "execution_count": 6,
   "id": "c8213692-cfbd-4f3a-a80e-8b176eaaa128",
   "metadata": {},
   "outputs": [
    {
     "name": "stdout",
     "output_type": "stream",
     "text": [
      "User 1 - Data Cleanup: 20%\n",
      "User 2 - Data Cleanup: 20%\n",
      "User 3 - Data Cleanup: 20%\n",
      "User 1 - Data Transformation: 50%\n",
      "User 2 - Data Transformation: 50%\n",
      "User 3 - Data Transformation: 50%\n",
      "User 1 - Data Aggregation: 80%User 2 - Data Aggregation: 80%\n",
      "User 3 - Data Aggregation: 80%\n",
      "\n",
      "User 2 - Task Completed: 100%\n",
      "User 3 - Task Completed: 100%\n",
      "User 1 - Task Completed: 100%\n",
      "All tasks completed!\n"
     ]
    }
   ],
   "source": [
    "import threading\n",
    "import time\n",
    "\n",
    "# Custom Thread class to track progress\n",
    "class DataProcessingThread(threading.Thread):\n",
    "    def __init__(self, user_id):\n",
    "        super().__init__()\n",
    "        self.user_id = user_id\n",
    "        self.progress = 0  # Track progress as a percentage (0 to 100)\n",
    "    \n",
    "    def run(self):\n",
    "        # Simulate data cleanup\n",
    "        self.progress = 20\n",
    "        print(f\"User {self.user_id} - Data Cleanup: {self.progress}%\")\n",
    "        time.sleep(2)\n",
    "        \n",
    "        # Simulate data transformation\n",
    "        self.progress = 50\n",
    "        print(f\"User {self.user_id} - Data Transformation: {self.progress}%\")\n",
    "        time.sleep(2)\n",
    "        \n",
    "        # Simulate data aggregation\n",
    "        self.progress = 80\n",
    "        print(f\"User {self.user_id} - Data Aggregation: {self.progress}%\")\n",
    "        time.sleep(2)\n",
    "        \n",
    "        # Task completion\n",
    "        self.progress = 100\n",
    "        print(f\"User {self.user_id} - Task Completed: {self.progress}%\")\n",
    "\n",
    "# Create threads to process data for multiple users\n",
    "users = [1, 2, 3]\n",
    "\n",
    "threads = []\n",
    "for user in users:\n",
    "    thread = DataProcessingThread(user_id=user)\n",
    "    threads.append(thread)\n",
    "    thread.start()\n",
    "\n",
    "# Wait for all threads to complete\n",
    "for thread in threads:\n",
    "    thread.join()\n",
    "\n",
    "print(\"All tasks completed!\")\n"
   ]
  },
  {
   "cell_type": "markdown",
   "id": "978351fe-3f56-473a-a52d-f2eede65edec",
   "metadata": {},
   "source": [
    "### Explanation:\n",
    "\n",
    "- We define a custom thread class DataProcessingThread by inheriting from threading.Thread.\n",
    "In the __init__() method, we initialize the user_id and progress attributes.\n",
    "The run() method contains the logic for each step of the data processing task (cleanup, transformation, aggregation). The progress attribute is updated at each stage, and the current progress is printed.\n",
    "### Progress Tracking:\n",
    "\n",
    "- The progress attribute tracks the completion status of the task (e.g., 20%, 50%, 80%, 100%).\n",
    "At each stage of the task, we print the current progress, so we can track how far along each task is.\n",
    "### Benefits:\n",
    "\n",
    "- Progress Visibility: You can now see how far each task has progressed.\n",
    "- Customizability: You can easily add more stages or modify the progress update logic for each task.\n",
    "- Reusability: The custom thread class can be reused for other tasks with similar progress tracking."
   ]
  },
  {
   "cell_type": "code",
   "execution_count": null,
   "id": "351030fb-f3f7-4420-9e78-42c9c23783c4",
   "metadata": {},
   "outputs": [],
   "source": []
  },
  {
   "cell_type": "markdown",
   "id": "7b63fc2b-5d44-438b-b532-4eb4c545f144",
   "metadata": {},
   "source": [
    "## 1.2 Error Handling:"
   ]
  },
  {
   "cell_type": "markdown",
   "id": "a98c8cfc-2af1-4c4e-8406-c3828a5ec924",
   "metadata": {},
   "source": [
    "### Using Threading Module:"
   ]
  },
  {
   "cell_type": "code",
   "execution_count": 7,
   "id": "59f2f44b-240d-413f-96e6-11a90b121573",
   "metadata": {},
   "outputs": [
    {
     "name": "stdout",
     "output_type": "stream",
     "text": [
      "Processing data for user 1...\n",
      "Processing data for user 2...\n",
      "Processing data for user 3...\n",
      "Data cleanup completed for user 1\n",
      "Error occurred for user 2: Invalid data for user 2\n",
      "Data cleanup completed for user 3\n",
      "Data transformation completed for user 1\n",
      "Data transformation completed for user 3\n",
      "Data aggregation completed for user 1\n",
      "Data aggregation completed for user 3\n",
      "All tasks completed!\n"
     ]
    }
   ],
   "source": [
    "import threading\n",
    "import time\n",
    "\n",
    "# Function to simulate data processing for a user\n",
    "def process_data(user_id):\n",
    "    try:\n",
    "        print(f\"Processing data for user {user_id}...\")\n",
    "        time.sleep(2)  # Simulate data cleanup\n",
    "        if user_id == 2:  # Simulating an error for user 2\n",
    "            raise ValueError(f\"Invalid data for user {user_id}\")\n",
    "        print(f\"Data cleanup completed for user {user_id}\")\n",
    "        time.sleep(2)  # Simulate data transformation\n",
    "        print(f\"Data transformation completed for user {user_id}\")\n",
    "        time.sleep(2)  # Simulate data aggregation\n",
    "        print(f\"Data aggregation completed for user {user_id}\")\n",
    "    except Exception as e:\n",
    "        print(f\"Error occurred for user {user_id}: {e}\")\n",
    "\n",
    "# Create threads to process data for multiple users\n",
    "users = [1, 2, 3]\n",
    "\n",
    "threads = []\n",
    "for user in users:\n",
    "    thread = threading.Thread(target=process_data, args=(user,))\n",
    "    threads.append(thread)\n",
    "    thread.start()\n",
    "\n",
    "# Wait for all threads to complete\n",
    "for thread in threads:\n",
    "    thread.join()\n",
    "\n",
    "print(\"All tasks completed!\")\n"
   ]
  },
  {
   "cell_type": "markdown",
   "id": "284c6709-02c5-4b30-9112-0acea73af95e",
   "metadata": {},
   "source": [
    "### Explanation:\n",
    "\n",
    "- We’ve wrapped the entire processing logic inside a try-except block to catch any exceptions.\n",
    "- However, the error handling is not specific to each thread, and we cannot easily propagate the error back to the main thread for proper logging or further processing.\n",
    "- When an error occurs in one thread, the entire function terminates, but it doesn't have a clean, centralized way of reporting the error. For example, if user 2 encounters an error, we still proceed with the remaining users.\n",
    "### Issues:\n",
    "\n",
    "- Limited Reporting: We can print the error message, but the handling is scattered and difficult to extend.\n",
    "- Not Specific to Each Task: If different tasks have different kinds of errors (e.g., one task may fail due to missing data while another fails due to a format error), it becomes cumbersome to handle these errors individually.\n"
   ]
  },
  {
   "cell_type": "markdown",
   "id": "653514e6-62a4-4f20-8f7d-443ec6630816",
   "metadata": {},
   "source": [
    "### Extending the Thread Class:"
   ]
  },
  {
   "cell_type": "code",
   "execution_count": 8,
   "id": "ef0e3dcc-09a7-4439-bb2e-35dfe9745a8f",
   "metadata": {},
   "outputs": [
    {
     "name": "stdout",
     "output_type": "stream",
     "text": [
      "Processing data for user 1...\n",
      "Processing data for user 2...\n",
      "Processing data for user 3...\n",
      "Data cleanup completed for user 1\n",
      "Error occurred for user 2: Invalid data for user 2\n",
      "Data cleanup completed for user 3\n",
      "Data transformation completed for user 1\n",
      "Data transformation completed for user 3\n",
      "Data aggregation completed for user 1\n",
      "Error details for user 2: Invalid data for user 2\n",
      "Data aggregation completed for user 3\n",
      "All tasks completed!\n"
     ]
    }
   ],
   "source": [
    "import threading\n",
    "import time\n",
    "\n",
    "# Custom Thread class to process data for users and handle errors\n",
    "class DataProcessingThread(threading.Thread):\n",
    "    def __init__(self, user_id):\n",
    "        super().__init__()\n",
    "        self.user_id = user_id\n",
    "        self.error = None  # To store any error that occurs during the task\n",
    "    \n",
    "    def run(self):\n",
    "        try:\n",
    "            print(f\"Processing data for user {self.user_id}...\")\n",
    "            time.sleep(2)  # Simulate data cleanup\n",
    "            if self.user_id == 2:  # Simulate an error for user 2\n",
    "                raise ValueError(f\"Invalid data for user {self.user_id}\")\n",
    "            print(f\"Data cleanup completed for user {self.user_id}\")\n",
    "            time.sleep(2)  # Simulate data transformation\n",
    "            print(f\"Data transformation completed for user {self.user_id}\")\n",
    "            time.sleep(2)  # Simulate data aggregation\n",
    "            print(f\"Data aggregation completed for user {self.user_id}\")\n",
    "        except Exception as e:\n",
    "            self.error = e  # Store the error in the thread object\n",
    "            print(f\"Error occurred for user {self.user_id}: {e}\")\n",
    "\n",
    "# Create threads to process data for multiple users\n",
    "users = [1, 2, 3]\n",
    "\n",
    "threads = []\n",
    "for user in users:\n",
    "    thread = DataProcessingThread(user_id=user)\n",
    "    threads.append(thread)\n",
    "    thread.start()\n",
    "\n",
    "# Wait for all threads to complete and check for errors\n",
    "for thread in threads:\n",
    "    thread.join()\n",
    "    if thread.error:\n",
    "        print(f\"Error details for user {thread.user_id}: {thread.error}\")\n",
    "\n",
    "print(\"All tasks completed!\")\n"
   ]
  },
  {
   "cell_type": "markdown",
   "id": "4a756897-143f-4bc7-bd7e-5f5dd4839494",
   "metadata": {},
   "source": [
    "### Explanation:\n",
    "\n",
    "- The DataProcessingThread class extends threading.Thread and overrides the run() method to handle the data processing logic.\n",
    "- We catch exceptions inside the run() method. If an exception occurs, it’s stored in the self.error attribute and printed out, allowing us to handle errors more specifically for each user’s task.\n",
    "### Proper Error Handling:\n",
    "\n",
    "- Each thread can now independently catch and store its own error. If an error occurs, it is handled within the thread and reported immediately.\n",
    "- The main thread can check the error attribute of each thread after they join and print a more detailed report of the error.\n",
    "### Benefits:\n",
    "\n",
    "- Centralized Error Handling: Each thread can handle its errors independently, without affecting the other threads. It provides detailed information about the error for each task.\n",
    "- Easy Reporting: The main thread can gather error details for each task, making it easier to log and handle errors across multiple threads.\n"
   ]
  },
  {
   "cell_type": "code",
   "execution_count": null,
   "id": "c455610e-4141-4e8a-8c8b-6857be32c57a",
   "metadata": {},
   "outputs": [],
   "source": []
  },
  {
   "cell_type": "markdown",
   "id": "d5688f12-9036-4c4b-90fa-701317e050e5",
   "metadata": {},
   "source": [
    "## 1.3 Code Duplication"
   ]
  },
  {
   "cell_type": "markdown",
   "id": "002bd73c-d59e-49b0-98fb-20cbc614cd55",
   "metadata": {},
   "source": [
    "### Using Threading Module:"
   ]
  },
  {
   "cell_type": "code",
   "execution_count": 9,
   "id": "89a7cdcc-5ca5-4bd4-9910-b33dbe777658",
   "metadata": {},
   "outputs": [
    {
     "name": "stdout",
     "output_type": "stream",
     "text": [
      "Cleaning up data for user 1...\n",
      "Transforming data for user 1...\n",
      "Aggregating data for user 1...\n",
      "Cleaning up data for user 2...\n",
      "Transforming data for user 2...\n",
      "Aggregating data for user 2...\n",
      "Cleaning up data for user 3...\n",
      "Transforming data for user 3...\n",
      "Aggregating data for user 3...\n",
      "Data transformation completed for user 1\n",
      "Data aggregation completed for user 1\n",
      "Data transformation completed for user 2\n",
      "Data cleanup completed for user 2\n",
      "Data aggregation completed for user 2\n",
      "Data cleanup completed for user 3\n",
      "Data aggregation completed for user 3\n",
      "Data transformation completed for user 3\n",
      "Data cleanup completed for user 1\n",
      "All tasks completed!\n"
     ]
    }
   ],
   "source": [
    "import threading\n",
    "import time\n",
    "\n",
    "# Function to simulate data cleanup for a user\n",
    "def cleanup(user_id):\n",
    "    print(f\"Cleaning up data for user {user_id}...\")\n",
    "    time.sleep(2)\n",
    "    print(f\"Data cleanup completed for user {user_id}\")\n",
    "\n",
    "# Function to simulate data transformation for a user\n",
    "def transform(user_id):\n",
    "    print(f\"Transforming data for user {user_id}...\")\n",
    "    time.sleep(2)\n",
    "    print(f\"Data transformation completed for user {user_id}\")\n",
    "\n",
    "# Function to simulate data aggregation for a user\n",
    "def aggregate(user_id):\n",
    "    print(f\"Aggregating data for user {user_id}...\")\n",
    "    time.sleep(2)\n",
    "    print(f\"Data aggregation completed for user {user_id}\")\n",
    "\n",
    "# Create threads to process data for multiple users\n",
    "users = [1, 2, 3]\n",
    "\n",
    "threads = []\n",
    "for user in users:\n",
    "    # Thread for data cleanup\n",
    "    thread_cleanup = threading.Thread(target=cleanup, args=(user,))\n",
    "    threads.append(thread_cleanup)\n",
    "    thread_cleanup.start()\n",
    "\n",
    "    # Thread for data transformation\n",
    "    thread_transform = threading.Thread(target=transform, args=(user,))\n",
    "    threads.append(thread_transform)\n",
    "    thread_transform.start()\n",
    "\n",
    "    # Thread for data aggregation\n",
    "    thread_aggregate = threading.Thread(target=aggregate, args=(user,))\n",
    "    threads.append(thread_aggregate)\n",
    "    thread_aggregate.start()\n",
    "\n",
    "# Wait for all threads to complete\n",
    "for thread in threads:\n",
    "    thread.join()\n",
    "\n",
    "print(\"All tasks completed!\")\n"
   ]
  },
  {
   "cell_type": "markdown",
   "id": "70a5ec46-b249-4bf6-883d-1e3efe464189",
   "metadata": {},
   "source": [
    "### Explanation:\n",
    "- In the normal function approach, you have separate functions for cleanup, transformation, and aggregation. For each user, you create a new thread for each of these tasks. This leads to code duplication because you are repeating the same logic (creating a thread for each task) multiple times.\n",
    "\n",
    "### Issues:\n",
    "- Redundant Code: Every time you want to process a new user or a new task, you must duplicate the thread creation logic. If you need to change how threads are created or modify the logic for handling tasks, you must do so in multiple places.\n",
    "- Increased Complexity: As the number of users or tasks grows, you end up writing repetitive code, which makes the program harder to maintain."
   ]
  },
  {
   "cell_type": "markdown",
   "id": "2e9a8264-195b-4d19-a223-38d31fbc1e20",
   "metadata": {},
   "source": [
    "### Extending the Thread Class:"
   ]
  },
  {
   "cell_type": "code",
   "execution_count": 10,
   "id": "7b76cd3b-cae5-4e4a-8e57-5475da7dd090",
   "metadata": {},
   "outputs": [
    {
     "name": "stdout",
     "output_type": "stream",
     "text": [
      "Cleaning up data for user 1...\n",
      "Transforming data for user 1...\n",
      "Aggregating data for user 1...\n",
      "Cleaning up data for user 2...\n",
      "Transforming data for user 2...\n",
      "Aggregating data for user 2...\n",
      "Cleaning up data for user 3...\n",
      "Transforming data for user 3...\n",
      "Aggregating data for user 3...\n",
      "Data cleanup completed for user 1\n",
      "Data transformation completed for user 1\n",
      "Data aggregation completed for user 1\n",
      "Data cleanup completed for user 2\n",
      "Data transformation completed for user 2\n",
      "Data aggregation completed for user 2\n",
      "Data cleanup completed for user 3\n",
      "Data transformation completed for user 3\n",
      "Data aggregation completed for user 3\n",
      "All tasks completed!\n"
     ]
    }
   ],
   "source": [
    "import threading\n",
    "import time\n",
    "\n",
    "# Custom Thread class to process different tasks for each user\n",
    "class DataProcessingThread(threading.Thread):\n",
    "    def __init__(self, user_id, task_type):\n",
    "        super().__init__()\n",
    "        self.user_id = user_id\n",
    "        self.task_type = task_type  # Task type (cleanup, transform, or aggregate)\n",
    "    \n",
    "    def run(self):\n",
    "        if self.task_type == 'cleanup':\n",
    "            print(f\"Cleaning up data for user {self.user_id}...\")\n",
    "            time.sleep(2)\n",
    "            print(f\"Data cleanup completed for user {self.user_id}\")\n",
    "        elif self.task_type == 'transform':\n",
    "            print(f\"Transforming data for user {self.user_id}...\")\n",
    "            time.sleep(2)\n",
    "            print(f\"Data transformation completed for user {self.user_id}\")\n",
    "        elif self.task_type == 'aggregate':\n",
    "            print(f\"Aggregating data for user {self.user_id}...\")\n",
    "            time.sleep(2)\n",
    "            print(f\"Data aggregation completed for user {self.user_id}\")\n",
    "\n",
    "# Create threads to process data for multiple users and tasks\n",
    "users = [1, 2, 3]\n",
    "tasks = ['cleanup', 'transform', 'aggregate']\n",
    "\n",
    "threads = []\n",
    "for user in users:\n",
    "    for task in tasks:\n",
    "        # Create a thread for each task and user\n",
    "        thread = DataProcessingThread(user_id=user, task_type=task)\n",
    "        threads.append(thread)\n",
    "        thread.start()\n",
    "\n",
    "# Wait for all threads to complete\n",
    "for thread in threads:\n",
    "    thread.join()\n",
    "\n",
    "print(\"All tasks completed!\")\n"
   ]
  },
  {
   "cell_type": "markdown",
   "id": "47e67954-9a99-4ab2-9a6b-e285a9c6b24a",
   "metadata": {},
   "source": [
    "### Explanation:\n",
    "- By creating the DataProcessingThread class, we encapsulate all logic related to task execution in one place. Now, we only need to pass the user_id and task_type to the thread, which reduces redundancy in code.\n",
    "\n",
    "- No Duplication: Each task (cleanup, transform, aggregate) now shares the same thread creation logic.\n",
    "- Easier to Extend: If a new task is introduced (e.g., validation), we just add it to the run method in the DataProcessingThread class.\n"
   ]
  },
  {
   "cell_type": "code",
   "execution_count": null,
   "id": "90cb13e7-b65e-497e-8fb2-0f5f049fc412",
   "metadata": {},
   "outputs": [],
   "source": []
  },
  {
   "cell_type": "markdown",
   "id": "6eb769c6-a414-4ae3-b9a4-f950c00369d5",
   "metadata": {},
   "source": [
    "## 1.4 Extending/Reuse:\n",
    "### Using Threading Module:"
   ]
  },
  {
   "cell_type": "code",
   "execution_count": 11,
   "id": "8347dc23-c5f9-4235-b778-8a4c9a6aafbe",
   "metadata": {},
   "outputs": [
    {
     "name": "stdout",
     "output_type": "stream",
     "text": [
      "Cleaning up data for user 1...\n",
      "Transforming data for user 1...\n",
      "Aggregating data for user 1...\n",
      "Validating data for user 1...\n",
      "Cleaning up data for user 2...\n",
      "Transforming data for user 2...\n",
      "Aggregating data for user 2...\n",
      "Validating data for user 2...\n",
      "Cleaning up data for user 3...\n",
      "Transforming data for user 3...\n",
      "Aggregating data for user 3...\n",
      "Validating data for user 3...\n",
      "Data cleanup completed for user 1Data transformation completed for user 1\n",
      "\n",
      "Data aggregation completed for user 1\n",
      "Data validation completed for user 1\n",
      "Data cleanup completed for user 2\n",
      "Data transformation completed for user 2\n",
      "Data aggregation completed for user 2\n",
      "Data cleanup completed for user 3\n",
      "Data validation completed for user 2\n",
      "Data transformation completed for user 3\n",
      "Data aggregation completed for user 3\n",
      "Data validation completed for user 3\n",
      "All tasks completed!\n"
     ]
    }
   ],
   "source": [
    "import threading\n",
    "import time\n",
    "\n",
    "# Function to simulate data cleanup for a user\n",
    "def cleanup(user_id):\n",
    "    print(f\"Cleaning up data for user {user_id}...\")\n",
    "    time.sleep(2)\n",
    "    print(f\"Data cleanup completed for user {user_id}\")\n",
    "\n",
    "# Function to simulate data transformation for a user\n",
    "def transform(user_id):\n",
    "    print(f\"Transforming data for user {user_id}...\")\n",
    "    time.sleep(2)\n",
    "    print(f\"Data transformation completed for user {user_id}\")\n",
    "\n",
    "# Function to simulate data aggregation for a user\n",
    "def aggregate(user_id):\n",
    "    print(f\"Aggregating data for user {user_id}...\")\n",
    "    time.sleep(2)\n",
    "    print(f\"Data aggregation completed for user {user_id}\")\n",
    "\n",
    "# New function for data validation\n",
    "def validate(user_id):\n",
    "    print(f\"Validating data for user {user_id}...\")\n",
    "    time.sleep(2)\n",
    "    print(f\"Data validation completed for user {user_id}\")\n",
    "\n",
    "# Create threads to process data for multiple users\n",
    "users = [1, 2, 3]\n",
    "\n",
    "threads = []\n",
    "for user in users:\n",
    "    # Thread for data cleanup\n",
    "    thread_cleanup = threading.Thread(target=cleanup, args=(user,))\n",
    "    threads.append(thread_cleanup)\n",
    "    thread_cleanup.start()\n",
    "\n",
    "    # Thread for data transformation\n",
    "    thread_transform = threading.Thread(target=transform, args=(user,))\n",
    "    threads.append(thread_transform)\n",
    "    thread_transform.start()\n",
    "\n",
    "    # Thread for data aggregation\n",
    "    thread_aggregate = threading.Thread(target=aggregate, args=(user,))\n",
    "    threads.append(thread_aggregate)\n",
    "    thread_aggregate.start()\n",
    "\n",
    "    # New thread for data validation (required changes)\n",
    "    thread_validate = threading.Thread(target=validate, args=(user,))\n",
    "    threads.append(thread_validate)\n",
    "    thread_validate.start()\n",
    "\n",
    "# Wait for all threads to complete\n",
    "for thread in threads:\n",
    "    thread.join()\n",
    "\n",
    "print(\"All tasks completed!\")\n"
   ]
  },
  {
   "cell_type": "markdown",
   "id": "fae08b41-957f-4cc0-8b92-6dad45fc6fe4",
   "metadata": {},
   "source": [
    "### Explanation:\n",
    "When introducing the new validation task, we need to:\n",
    "\n",
    "- Add a new function for validation.\n",
    "- Create a new thread in the main code for the new task.\n",
    "This increases complexity because we have to modify multiple places in the code for each new task. This tight coupling makes it harder to reuse or extend the code.\n",
    "\n",
    "### Issues:\n",
    "- Difficult to Scale: As you add more tasks, the logic becomes more convoluted. If the logic for task creation changes, you need to modify it in several places.\n",
    "- Low Reusability: Since all tasks are manually created and assigned to threads in the main function, it’s not easy to reuse the code for different scenarios or extend it without duplicating effort."
   ]
  },
  {
   "cell_type": "markdown",
   "id": "e3b10e99-f30f-46ec-94f4-0effea49509f",
   "metadata": {},
   "source": [
    "### Extending the Thread Class:"
   ]
  },
  {
   "cell_type": "code",
   "execution_count": 13,
   "id": "ff816c6c-1806-4d6d-896b-0bf2369a330f",
   "metadata": {},
   "outputs": [
    {
     "name": "stdout",
     "output_type": "stream",
     "text": [
      "Cleaning up data for user 1...\n",
      "Transforming data for user 1...\n",
      "Aggregating data for user 1...\n",
      "Validating data for user 1...\n",
      "Cleaning up data for user 2...\n",
      "Transforming data for user 2...\n",
      "Aggregating data for user 2...\n",
      "Validating data for user 2...\n",
      "Cleaning up data for user 3...\n",
      "Transforming data for user 3...\n",
      "Aggregating data for user 3...\n",
      "Validating data for user 3...\n",
      "Data cleanup completed for user 1\n",
      "Data transformation completed for user 1\n",
      "Data aggregation completed for user 1\n",
      "Data validation completed for user 1\n",
      "Data cleanup completed for user 2\n",
      "Data aggregation completed for user 2\n",
      "Data transformation completed for user 2\n",
      "Data validation completed for user 2\n",
      "Data transformation completed for user 3\n",
      "Data cleanup completed for user 3\n",
      "Data aggregation completed for user 3\n",
      "Data validation completed for user 3\n",
      "All tasks completed!\n"
     ]
    }
   ],
   "source": [
    "import threading\n",
    "import time\n",
    "\n",
    "# Custom Thread class to process different tasks for each user\n",
    "class DataProcessingThread(threading.Thread):\n",
    "    def __init__(self, user_id, task_type):\n",
    "        super().__init__()\n",
    "        self.user_id = user_id\n",
    "        self.task_type = task_type  # Task type (cleanup, transform, aggregate, validate)\n",
    "    \n",
    "    # Define the behavior of the thread when started\n",
    "    def run(self):\n",
    "        if self.task_type == 'cleanup':\n",
    "            self.cleanup()\n",
    "        elif self.task_type == 'transform':\n",
    "            self.transform()\n",
    "        elif self.task_type == 'aggregate':\n",
    "            self.aggregate()\n",
    "        elif self.task_type == 'validate':\n",
    "            self.validate()\n",
    "        else:\n",
    "            print(f\"Unknown task type: {self.task_type} for user {self.user_id}\")\n",
    "\n",
    "    def cleanup(self):\n",
    "        print(f\"Cleaning up data for user {self.user_id}...\")\n",
    "        time.sleep(2)\n",
    "        print(f\"Data cleanup completed for user {self.user_id}\")\n",
    "\n",
    "    def transform(self):\n",
    "        print(f\"Transforming data for user {self.user_id}...\")\n",
    "        time.sleep(2)\n",
    "        print(f\"Data transformation completed for user {self.user_id}\")\n",
    "\n",
    "    def aggregate(self):\n",
    "        print(f\"Aggregating data for user {self.user_id}...\")\n",
    "        time.sleep(2)\n",
    "        print(f\"Data aggregation completed for user {self.user_id}\")\n",
    "\n",
    "    def validate(self):\n",
    "        print(f\"Validating data for user {self.user_id}...\")\n",
    "        time.sleep(2)\n",
    "        print(f\"Data validation completed for user {self.user_id}\")\n",
    "\n",
    "# List of users to process\n",
    "users = [1, 2, 3]\n",
    "tasks = ['cleanup', 'transform', 'aggregate', 'validate']\n",
    "\n",
    "# Creating and starting threads for each user and each task\n",
    "threads = []\n",
    "for user in users:\n",
    "    for task in tasks:\n",
    "        thread = DataProcessingThread(user_id=user, task_type=task)\n",
    "        threads.append(thread)\n",
    "        thread.start()\n",
    "\n",
    "# Wait for all threads to complete\n",
    "for thread in threads:\n",
    "    thread.join()\n",
    "\n",
    "print(\"All tasks completed!\")\n"
   ]
  },
  {
   "cell_type": "markdown",
   "id": "f33c4c51-92bf-485d-9723-7d658b48ab09",
   "metadata": {},
   "source": [
    "### Explanation:\n",
    "- When using a normal threading approach without a class, the task logic is tightly coupled with the main thread execution, making it harder to extend or reuse. If new tasks are introduced, the functions need to be rewritten or duplicated, resulting in redundant and unmaintainable code.\n",
    "\n",
    "- By extending the Thread class, we encapsulate task-specific logic within the class, making it reusable and extensible. Adding new tasks only requires modifying or adding methods within the class, without impacting the main thread logic.\n",
    "\n",
    "### Benefits of Extending the Thread Class:\n",
    "- Code Organization: Task logic is encapsulated within the class, improving code readability and maintainability.\n",
    "\n",
    "- Reusability: The same class can be reused for multiple tasks with minimal changes.\n",
    "\n",
    "- Ease of Extension: New tasks can be added by extending the class or introducing additional methods.\n",
    "\n"
   ]
  },
  {
   "cell_type": "code",
   "execution_count": null,
   "id": "e3c6c273-af54-485e-83b3-3c95818f27b3",
   "metadata": {},
   "outputs": [],
   "source": []
  },
  {
   "cell_type": "code",
   "execution_count": null,
   "id": "906e4a1f-1a42-4aa9-93d5-5dd96e5cc1cb",
   "metadata": {},
   "outputs": [],
   "source": []
  },
  {
   "cell_type": "markdown",
   "id": "586c15d5-a0a9-421c-881c-7081675992f0",
   "metadata": {},
   "source": [
    "## Types of Arguments in Threading Module:\n",
    "### 1. Positional Arguments (args):\n",
    "- Pass a tuple of positional arguments to the target function.\n",
    "\n",
    "### 2. Keyword Arguments (kwargs):\n",
    "- Pass a dictionary of keyword arguments to the target function.\n",
    "\n"
   ]
  },
  {
   "cell_type": "code",
   "execution_count": 14,
   "id": "668fc7e5-f7e2-4177-99a4-77fbb6266bde",
   "metadata": {},
   "outputs": [
    {
     "name": "stdout",
     "output_type": "stream",
     "text": [
      "Hello, Alice! You are 25 years old and live in Unknown.Hello, Bob! You are 30 years old and live in New York.\n",
      "\n",
      "Hello, Charlie! You are 35 years old and live in San Francisco.\n",
      "All threads have completed.\n"
     ]
    }
   ],
   "source": [
    "import threading\n",
    "\n",
    "# Define the target function\n",
    "def greet_user(name, age, city=\"Unknown\"):\n",
    "    print(f\"Hello, {name}! You are {age} years old and live in {city}.\")\n",
    "\n",
    "# Using positional arguments\n",
    "thread1 = threading.Thread(target=greet_user, args=(\"Alice\", 25))\n",
    "\n",
    "# Using keyword arguments\n",
    "thread2 = threading.Thread(target=greet_user, kwargs={\"name\": \"Bob\", \"age\": 30, \"city\": \"New York\"})\n",
    "\n",
    "# Using both positional and keyword arguments\n",
    "thread3 = threading.Thread(target=greet_user, args=(\"Charlie\", 35), kwargs={\"city\": \"San Francisco\"})\n",
    "\n",
    "# Start the threads\n",
    "thread1.start()\n",
    "thread2.start()\n",
    "thread3.start()\n",
    "\n",
    "# Wait for threads to complete\n",
    "thread1.join()\n",
    "thread2.join()\n",
    "thread3.join()\n",
    "\n",
    "print(\"All threads have completed.\")\n"
   ]
  },
  {
   "cell_type": "code",
   "execution_count": null,
   "id": "ec6b3ed9-4c10-4eb7-a515-3f980a38f0af",
   "metadata": {},
   "outputs": [],
   "source": []
  },
  {
   "cell_type": "markdown",
   "id": "c53a4879-b552-43b3-aa6e-27db43fcbb4a",
   "metadata": {},
   "source": [
    "### Creating Threads for Methods:\n",
    "- When using threads for methods, the primary difference is that the target function is replaced with an instance method of a class. You pass the method as the target and provide arguments as needed, allowing the thread to execute logic specific to that object instance."
   ]
  },
  {
   "cell_type": "code",
   "execution_count": 15,
   "id": "caf508ff-e88a-4774-b9a5-68eb6a9cf084",
   "metadata": {},
   "outputs": [
    {
     "name": "stdout",
     "output_type": "stream",
     "text": [
      "Worker 1 is performing task: Task-A\n",
      "Worker 2 is performing task: Task-B\n",
      "Worker 2 completed task: Task-B\n",
      "Worker 1 completed task: Task-A\n",
      "All threads have completed.\n"
     ]
    }
   ],
   "source": [
    "import threading\n",
    "import time\n",
    "\n",
    "class Worker:\n",
    "    def __init__(self, worker_id):\n",
    "        self.worker_id = worker_id\n",
    "\n",
    "    def perform_task(self, task_name, duration):\n",
    "        print(f\"Worker {self.worker_id} is performing task: {task_name}\")\n",
    "        time.sleep(duration)\n",
    "        print(f\"Worker {self.worker_id} completed task: {task_name}\")\n",
    "\n",
    "# Create Worker objects\n",
    "worker1 = Worker(1)\n",
    "worker2 = Worker(2)\n",
    "\n",
    "# Create threads to call methods\n",
    "thread1 = threading.Thread(target=worker1.perform_task, args=(\"Task-A\", 3))\n",
    "thread2 = threading.Thread(target=worker2.perform_task, kwargs={\"task_name\": \"Task-B\", \"duration\": 2})\n",
    "\n",
    "# Start threads\n",
    "thread1.start()\n",
    "thread2.start()\n",
    "\n",
    "# Wait for threads to complete\n",
    "thread1.join()\n",
    "thread2.join()\n",
    "\n",
    "print(\"All threads have completed.\")\n"
   ]
  },
  {
   "cell_type": "code",
   "execution_count": null,
   "id": "8c60e507-0dbd-481a-ac9c-1ed642acc67c",
   "metadata": {},
   "outputs": [],
   "source": []
  },
  {
   "cell_type": "code",
   "execution_count": null,
   "id": "b6817ea6-0d21-42ec-8235-856772c6e06e",
   "metadata": {},
   "outputs": [],
   "source": []
  },
  {
   "cell_type": "markdown",
   "id": "8e26720b-7a5a-4e34-be85-a09f5cd3541d",
   "metadata": {},
   "source": [
    "## Method __init__() in Extending the Thread Class:"
   ]
  },
  {
   "cell_type": "code",
   "execution_count": 17,
   "id": "0698fdc6-c457-4b51-96d6-f5f17eed8086",
   "metadata": {},
   "outputs": [
    {
     "ename": "RuntimeError",
     "evalue": "thread.__init__() not called",
     "output_type": "error",
     "traceback": [
      "\u001b[1;31m---------------------------------------------------------------------------\u001b[0m",
      "\u001b[1;31mRuntimeError\u001b[0m                              Traceback (most recent call last)",
      "Cell \u001b[1;32mIn[17], line 17\u001b[0m\n\u001b[0;32m     14\u001b[0m thread \u001b[38;5;241m=\u001b[39m MyThread(\u001b[38;5;124m\"\u001b[39m\u001b[38;5;124mSample Data\u001b[39m\u001b[38;5;124m\"\u001b[39m)\n\u001b[0;32m     16\u001b[0m \u001b[38;5;66;03m# Try to start the thread\u001b[39;00m\n\u001b[1;32m---> 17\u001b[0m \u001b[43mthread\u001b[49m\u001b[38;5;241;43m.\u001b[39;49m\u001b[43mstart\u001b[49m\u001b[43m(\u001b[49m\u001b[43m)\u001b[49m  \u001b[38;5;66;03m# This will cause issues\u001b[39;00m\n",
      "File \u001b[1;32m~\\AppData\\Local\\Programs\\Python\\Python313\\Lib\\threading.py:964\u001b[0m, in \u001b[0;36mThread.start\u001b[1;34m(self)\u001b[0m\n\u001b[0;32m    954\u001b[0m \u001b[38;5;250m\u001b[39m\u001b[38;5;124;03m\"\"\"Start the thread's activity.\u001b[39;00m\n\u001b[0;32m    955\u001b[0m \n\u001b[0;32m    956\u001b[0m \u001b[38;5;124;03mIt must be called at most once per thread object. It arranges for the\u001b[39;00m\n\u001b[1;32m   (...)\u001b[0m\n\u001b[0;32m    961\u001b[0m \n\u001b[0;32m    962\u001b[0m \u001b[38;5;124;03m\"\"\"\u001b[39;00m\n\u001b[0;32m    963\u001b[0m \u001b[38;5;28;01mif\u001b[39;00m \u001b[38;5;129;01mnot\u001b[39;00m \u001b[38;5;28mself\u001b[39m\u001b[38;5;241m.\u001b[39m_initialized:\n\u001b[1;32m--> 964\u001b[0m     \u001b[38;5;28;01mraise\u001b[39;00m \u001b[38;5;167;01mRuntimeError\u001b[39;00m(\u001b[38;5;124m\"\u001b[39m\u001b[38;5;124mthread.__init__() not called\u001b[39m\u001b[38;5;124m\"\u001b[39m)\n\u001b[0;32m    966\u001b[0m \u001b[38;5;28;01mif\u001b[39;00m \u001b[38;5;28mself\u001b[39m\u001b[38;5;241m.\u001b[39m_started\u001b[38;5;241m.\u001b[39mis_set():\n\u001b[0;32m    967\u001b[0m     \u001b[38;5;28;01mraise\u001b[39;00m \u001b[38;5;167;01mRuntimeError\u001b[39;00m(\u001b[38;5;124m\"\u001b[39m\u001b[38;5;124mthreads can only be started once\u001b[39m\u001b[38;5;124m\"\u001b[39m)\n",
      "\u001b[1;31mRuntimeError\u001b[0m: thread.__init__() not called"
     ]
    }
   ],
   "source": [
    "import threading\n",
    "import time\n",
    "\n",
    "class MyThread(threading.Thread):\n",
    "    def __init__(self, data):\n",
    "        # Forgot to call super().__init__()\n",
    "        self.data = data\n",
    "\n",
    "    def run(self):\n",
    "        print(f\"Processing data: {self.data}\")\n",
    "        time.sleep(1)\n",
    "\n",
    "# Create a thread instance\n",
    "thread = MyThread(\"Sample Data\")\n",
    "\n",
    "# Try to start the thread\n",
    "thread.start()  # This will cause issues\n"
   ]
  },
  {
   "cell_type": "markdown",
   "id": "3aaaf923-3012-46b7-a383-8d20faa31ff1",
   "metadata": {},
   "source": [
    "### Issue Occurs:\n",
    "- When super().__init__() is not called, the Thread class is not properly initialized. Specifically, the thread-related attributes (like name, daemon, and ident) are not set up, and the internal machinery needed to start the thread is not configured.\n",
    "As a result, when thread.start() is called, it will fail because the thread was not initialized correctly.\n",
    "### Solution: Call super().__init__()\n",
    "- To fix this issue, you need to call super().__init__() inside the __init__ method to ensure the thread is initialized properly. This will set up the necessary thread attributes and allow the thread to start without issues."
   ]
  },
  {
   "cell_type": "code",
   "execution_count": 18,
   "id": "731aed06-34ca-4d4c-ba04-1e90ffba2d69",
   "metadata": {},
   "outputs": [
    {
     "name": "stdout",
     "output_type": "stream",
     "text": [
      "Processing data: Sample Data\n"
     ]
    }
   ],
   "source": [
    "import threading\n",
    "import time\n",
    "\n",
    "class MyThread(threading.Thread):\n",
    "    def __init__(self, data):\n",
    "        super().__init__()  # Correctly call the parent class's __init__ method\n",
    "        self.data = data\n",
    "\n",
    "    def run(self):\n",
    "        print(f\"Processing data: {self.data}\")\n",
    "        time.sleep(1)\n",
    "\n",
    "# Create a thread instance\n",
    "thread = MyThread(\"Sample Data\")\n",
    "\n",
    "# Start the thread\n",
    "thread.start()  # Now it will work correctly\n"
   ]
  },
  {
   "cell_type": "code",
   "execution_count": null,
   "id": "d36c5958-0c23-4722-9547-6e428bd5f8d3",
   "metadata": {},
   "outputs": [],
   "source": []
  }
 ],
 "metadata": {
  "kernelspec": {
   "display_name": "Python 3 (ipykernel)",
   "language": "python",
   "name": "python3"
  },
  "language_info": {
   "codemirror_mode": {
    "name": "ipython",
    "version": 3
   },
   "file_extension": ".py",
   "mimetype": "text/x-python",
   "name": "python",
   "nbconvert_exporter": "python",
   "pygments_lexer": "ipython3",
   "version": "3.13.0"
  },
  "widgets": {
   "application/vnd.jupyter.widget-state+json": {
    "state": {},
    "version_major": 2,
    "version_minor": 0
   }
  }
 },
 "nbformat": 4,
 "nbformat_minor": 5
}
