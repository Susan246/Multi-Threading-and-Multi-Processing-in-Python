{
 "cells": [
  {
   "cell_type": "markdown",
   "id": "c30e7127-3fad-489d-a1e0-3b0f9bf9f1ed",
   "metadata": {},
   "source": [
    "# MultiProcessing:"
   ]
  },
  {
   "cell_type": "markdown",
   "id": "06806d1a-322c-4068-a15f-783096ddd744",
   "metadata": {},
   "source": [
    "### Process:\n",
    "- A process refers to a running instance of a program. In Python, every program is a process, and it has one default thread called the main thread that executes the program instructions. Each process is an instance of the Python interpreter executing Python bytecode."
   ]
  },
  {
   "cell_type": "markdown",
   "id": "c95e7ed5-1ab4-4090-a9ad-bc34fc4a1b27",
   "metadata": {},
   "source": [
    "### Thread vs Process:\n",
    "\n",
    "#### i. Process:\n",
    "- A process is an independent program in execution with its own memory space.\n",
    "- Multiple processes do not share memory.\n",
    "- Processes are more heavyweight compared to threads.\n",
    "- Processes communicate using inter-process communication (IPC) mechanisms.\n",
    "\n",
    "#### ii. Thread:\n",
    "- A thread is a smaller unit of a process, sharing the same memory space.\n",
    "- Multiple threads within a process share resources like memory and file handles.\n",
    "- Threads are lightweight and faster to create and manage compared to processes.\n",
    "- Threads communicate easily within the same process without needing IPC."
   ]
  },
  {
   "cell_type": "code",
   "execution_count": null,
   "id": "10242d5f-125c-43e1-aa4c-f91820bbe21c",
   "metadata": {},
   "outputs": [],
   "source": []
  },
  {
   "cell_type": "markdown",
   "id": "3a66afc0-10f1-4780-b44b-31b136e47e4a",
   "metadata": {},
   "source": [
    "## 1. Scenario:\n",
    "- Imagine a scenario where you need to perform a computationally heavy task, such as calculating the sum of squares of a large list of numbers. Without parallelization, this task runs in a single thread, and it can take a long time if the data is large."
   ]
  },
  {
   "cell_type": "markdown",
   "id": "3c88deb1-2e60-437a-88fe-18798c268a41",
   "metadata": {},
   "source": [
    "### 1.1 Solution without MultiProcessing:"
   ]
  },
  {
   "cell_type": "code",
   "execution_count": 3,
   "id": "5d401310-e9e8-4625-8262-f2446b7a2678",
   "metadata": {},
   "outputs": [
    {
     "name": "stdout",
     "output_type": "stream",
     "text": [
      "Total sum of squares: 333333328333333350000000\n",
      "Execution Time (Single Threaded): 5.0102 seconds\n"
     ]
    }
   ],
   "source": [
    "import time\n",
    "\n",
    "def calculate_sum_of_squares(start, end):\n",
    "    total = 0\n",
    "    for i in range(start, end):\n",
    "        total += i * i\n",
    "    return total\n",
    "\n",
    "def main():\n",
    "    start_time = time.time()\n",
    "\n",
    "    # Simulate a heavy computational task\n",
    "    total = calculate_sum_of_squares(1, 100000000)\n",
    "\n",
    "    end_time = time.time()\n",
    "    print(f\"Total sum of squares: {total}\")\n",
    "    print(f\"Execution Time (Single Threaded): {end_time - start_time:.4f} seconds\")\n",
    "\n",
    "# Run the main function\n",
    "main()\n"
   ]
  },
  {
   "cell_type": "markdown",
   "id": "c445b816-5cc5-40cb-a5d0-994231a39b78",
   "metadata": {},
   "source": [
    "### Performance Issue (Without Multiprocessing):\n",
    "- The calculate_sum_of_squares function runs sequentially for each number in the range.\n",
    "- This can take a significant amount of time, especially with large datasets."
   ]
  },
  {
   "cell_type": "code",
   "execution_count": null,
   "id": "c9537fa2-6328-499a-b1a8-345810a6b7f3",
   "metadata": {},
   "outputs": [],
   "source": []
  },
  {
   "cell_type": "markdown",
   "id": "8b8dde21-220a-49b6-b066-0e78d196574d",
   "metadata": {},
   "source": [
    "### 1.2 Solution with MultiProcessing:\n",
    "- Now, let’s parallelize the task using the multiprocessing module. We will split the task into smaller chunks and distribute the work across multiple processes to improve performance."
   ]
  },
  {
   "cell_type": "code",
   "execution_count": null,
   "id": "d1e0b29c-0a6e-4631-9bc6-03dfe7805c89",
   "metadata": {},
   "outputs": [],
   "source": [
    "# in my case this code doesn't work as expected so I run it in vscode; name -> MultiProcessingDemo\n",
    "\n",
    "import time\n",
    "import multiprocessing\n",
    "\n",
    "def calculate_sum_of_squares(start, end):\n",
    "    total = 0\n",
    "    for i in range(start, end):\n",
    "        total += i * i\n",
    "    return total\n",
    "\n",
    "def main():\n",
    "    start_time = time.time()\n",
    "\n",
    "    # Split the task into 4 chunks and use multiprocessing\n",
    "    chunks = [(1, 25000000), (25000000, 50000000), (50000000, 75000000), (75000000, 100000000)]\n",
    "    pool = multiprocessing.Pool(processes=4)\n",
    "\n",
    "    # Use starmap to parallelize the calculation\n",
    "    results = pool.starmap(calculate_sum_of_squares, chunks)\n",
    "\n",
    "    # Sum the results from each process\n",
    "    total = sum(results)\n",
    "\n",
    "    end_time = time.time()\n",
    "    print(f\"Total sum of squares: {total}\")\n",
    "    print(f\"Execution Time (Multiprocessing): {end_time - start_time:.4f} seconds\")\n",
    "\n",
    "if __name__ == \"__main__\":\n",
    "    # Run the main function\n",
    "    main()\n"
   ]
  },
  {
   "cell_type": "markdown",
   "id": "fd294f65-d6b9-4ea7-bcb8-fece085f3c85",
   "metadata": {},
   "source": [
    "### How Multiprocessing Solves the Performance Issue:\n",
    "- Parallelization: The task is split into 4 smaller chunks, and each chunk is processed by a separate process in parallel.\n",
    "- Process Pool: The multiprocessing.Pool creates a pool of 4 worker processes, and starmap is used to distribute the chunks across these processes.\n",
    "- Faster Execution: Since the calculations are done concurrently, the total execution time is reduced significantly compared to running the task in a single thread."
   ]
  },
  {
   "cell_type": "markdown",
   "id": "82df45df-0586-4483-89e5-457fe71098a7",
   "metadata": {},
   "source": [
    "### Advantage of MultiProcessing:\n",
    "- Parallel Execution: Runs tasks concurrently across multiple CPU cores.\n",
    "- Bypasses GIL: Works around the Global Interpreter Lock (GIL) for CPU-bound tasks.\n",
    "- Improved Performance: Speeds up execution for tasks that require heavy computation.\n",
    "- Isolation: Each process has its own memory space, avoiding issues like memory corruption.\n",
    "- Fault Tolerance: Failures in one process do not affect others.\n",
    "- Scalability: Easily scales to take advantage of multiple processors or cores."
   ]
  },
  {
   "cell_type": "code",
   "execution_count": null,
   "id": "e7b7cf29-7004-4c75-88d7-d8c4978ac31f",
   "metadata": {},
   "outputs": [],
   "source": []
  },
  {
   "cell_type": "markdown",
   "id": "7c639bfb-d377-42b5-b904-8d6b09345dc5",
   "metadata": {},
   "source": [
    "## MultiThreading vs MultiProcessing:"
   ]
  },
  {
   "cell_type": "markdown",
   "id": "21b00e5e-53f2-474e-9784-d14d31c1ad97",
   "metadata": {},
   "source": [
    "### i. MultiThreading:\n",
    "- Concurrency: Runs multiple threads within a single process.\n",
    "- Shared Memory: Threads share the same memory space, which makes communication between them easier.\n",
    "- GIL Limitation: Python's Global Interpreter Lock (GIL) prevents true parallelism for CPU-bound tasks, meaning only one thread executes Python bytecode at a time.\n",
    "- Best for I/O-bound tasks: Ideal for tasks like network requests, file operations, or database queries.\n",
    "- Lightweight: Threads consume less memory compared to processes."
   ]
  },
  {
   "cell_type": "code",
   "execution_count": 1,
   "id": "6bc4e682-8097-4af5-849c-bd5c8d40a8ca",
   "metadata": {},
   "outputs": [
    {
     "name": "stdout",
     "output_type": "stream",
     "text": [
      "All threads completed in 3.72 seconds.\n"
     ]
    }
   ],
   "source": [
    "import threading\n",
    "import time\n",
    "\n",
    "def task(num):\n",
    "    for i in range(10000000):\n",
    "        # Simulate an I/O-bound task\n",
    "        # time.sleep(0.01)\n",
    "        i+=1\n",
    "\n",
    "if __name__ == '__main__':\n",
    "    # Start measuring time\n",
    "    start_time = time.time()\n",
    "\n",
    "    # Create 12 threads\n",
    "    threads = []\n",
    "    for i in range(12):\n",
    "        t = threading.Thread(target=task, args=(i,))\n",
    "        threads.append(t)\n",
    "        t.start()\n",
    "\n",
    "    # Wait for all threads to finish\n",
    "    for t in threads:\n",
    "        t.join()\n",
    "\n",
    "    # End measuring time\n",
    "    end_time = time.time()\n",
    "\n",
    "    print(f\"All threads completed in {end_time - start_time:.2f} seconds.\")\n"
   ]
  },
  {
   "cell_type": "code",
   "execution_count": null,
   "id": "60c5acd4-bed3-44bc-bce5-13da0f65aa9d",
   "metadata": {},
   "outputs": [],
   "source": []
  },
  {
   "cell_type": "markdown",
   "id": "591027e5-de1a-4fef-8093-070cff709af7",
   "metadata": {},
   "source": [
    "### ii. MultiProcessing:\n",
    "- Parallelism: Runs multiple processes in separate memory spaces, each with its own Python interpreter and GIL.\n",
    "- No GIL Limitation: Allows true parallelism, ideal for CPU-bound tasks like calculations.\n",
    "- Higher Memory Overhead: Each process has its own memory space, which can lead to higher memory consumption.\n",
    "- Best for CPU-bound tasks: Ideal for tasks that require heavy computation, like mathematical operations.\n",
    "- Isolation: Processes are more isolated, making it easier to avoid issues like shared memory corruption."
   ]
  },
  {
   "cell_type": "code",
   "execution_count": null,
   "id": "f8b74163-aa8c-435a-9244-46298bba00e7",
   "metadata": {},
   "outputs": [],
   "source": [
    "# in my case this code doesn't work as expected so I run it in vscode; name -> MultiProcessingOverThreading\n",
    "\n",
    "import multiprocessing\n",
    "import time\n",
    "\n",
    "def task(num):\n",
    "    for i in range(10000000):\n",
    "        # Simulate an I/O-bound task\n",
    "        # time.sleep(0.01)\n",
    "        i+=1\n",
    "\n",
    "if __name__ == '__main__':\n",
    "    # Start measuring time\n",
    "    start_time = time.time()\n",
    "\n",
    "    # Create 12 processes\n",
    "    processes = []\n",
    "    for i in range(12):\n",
    "\n",
    "        p = multiprocessing.Process(target=task, args=(i,))\n",
    "        processes.append(p)\n",
    "        p.start()\n",
    "\n",
    "    # Wait for all processes to finish\n",
    "    for p in processes:\n",
    "        p.join()\n",
    "\n",
    "    # End measuring time\n",
    "    end_time = time.time()\n",
    "\n",
    "    print(f\"All processes completed in {end_time - start_time:.2f} seconds.\")\n"
   ]
  },
  {
   "cell_type": "code",
   "execution_count": null,
   "id": "dba84ca6-d630-4a52-89d6-55e11ee588ab",
   "metadata": {},
   "outputs": [],
   "source": []
  },
  {
   "cell_type": "markdown",
   "id": "402d5d1d-696b-4f81-a338-912a162c4894",
   "metadata": {},
   "source": [
    "### Effect of GIL on MultiProcessing:\n",
    "The Global Interpreter Lock (GIL) has no effect on processes in Python.\n",
    "\n",
    "#### i. Independent Interpreter Instances:\n",
    "\n",
    "- Each process runs its own instance of the Python interpreter, so each process has its own GIL.\n",
    "- This means the GIL of one process does not interfere with the GIL of another.\n",
    "#### ii. True Parallelism:\n",
    "\n",
    "- In multiprocessing, multiple processes can run on different CPU cores simultaneously, achieving true parallelism.\n",
    "- This makes multiprocessing ideal for CPU-bound tasks where the GIL would otherwise limit performance in multithreading.\n",
    "#### iii. Resource Isolation:\n",
    "\n",
    "- Processes have separate memory spaces and resources, further isolating the effects of the GIL to individual processes."
   ]
  },
  {
   "cell_type": "code",
   "execution_count": null,
   "id": "dd52a65f-0959-41a0-ba90-a4d1afeddf13",
   "metadata": {},
   "outputs": [],
   "source": []
  }
 ],
 "metadata": {
  "kernelspec": {
   "display_name": "Python 3 (ipykernel)",
   "language": "python",
   "name": "python3"
  },
  "language_info": {
   "codemirror_mode": {
    "name": "ipython",
    "version": 3
   },
   "file_extension": ".py",
   "mimetype": "text/x-python",
   "name": "python",
   "nbconvert_exporter": "python",
   "pygments_lexer": "ipython3",
   "version": "3.13.0"
  },
  "widgets": {
   "application/vnd.jupyter.widget-state+json": {
    "state": {},
    "version_major": 2,
    "version_minor": 0
   }
  }
 },
 "nbformat": 4,
 "nbformat_minor": 5
}
