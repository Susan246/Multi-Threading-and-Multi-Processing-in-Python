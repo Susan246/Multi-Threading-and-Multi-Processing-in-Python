{
 "cells": [
  {
   "cell_type": "markdown",
   "id": "ffb5e217-026f-4d19-9039-bde135302594",
   "metadata": {},
   "source": [
    "# Process Synchronization Using Process Communication (signal):\n",
    "- In Python, process communication is essential when working with the multiprocessing module. Processes run in separate memory spaces, so they cannot directly share data like threads. To communicate between processes and synchronize their execution, Python provides several inter-process communication (IPC) mechanisms. These include Event, Condition, Queue, Pipe, and Manager, which allow processes to exchange data and signals effectively."
   ]
  },
  {
   "cell_type": "markdown",
   "id": "35993faa-7ed6-4624-97ce-59fef3329904",
   "metadata": {},
   "source": [
    "## 1. Process Communication using Event Object (signal):\n",
    "- In Python's multiprocessing module, the Event object is used for inter-process communication (IPC) to signal one or more processes when a particular event has occurred. It allows processes to coordinate and synchronize their execution based on a condition being met.\n",
    "- The Event object has two states: set and unset. Processes can wait for the event to be set, and once it is set, the waiting processes are unblocked and can continue their execution. This is useful when you need to control the order or timing of process execution.\n",
    "### multiprocessing.Event() Methods:\n",
    "#### i. event.is_set():\n",
    "- This method checks if the event has been set. It returns True if the event is set, and False if it is not. This is useful to check whether the condition you're waiting for has been fulfilled.\n",
    "#### ii. event.set():\n",
    "- The set() method signals the event, setting it to the \"set\" state. When the event is set, all processes that are waiting on this event will be unblocked and allowed to proceed. It is commonly used to notify processes that they can continue their work after a certain condition or task has been completed.\n",
    "#### iii. event.clear():\n",
    "- The clear() method resets the event to the \"unset\" state. Once the event is cleared, processes that call wait() on this event will remain blocked until the event is set again. This allows you to control when processes are allowed to proceed, making it useful for managing conditions that are dependent on certain actions being completed.\n",
    "#### iv. event.wait(timeout=None):\n",
    "- The wait() method blocks the calling process until the event is set. If the event is already set, the process will continue immediately. You can also provide an optional timeout value, in which case the process will wait for the event to be set for a specified duration. If the event is not set before the timeout, the process will continue execution, allowing you to avoid indefinite blocking."
   ]
  },
  {
   "cell_type": "markdown",
   "id": "0b2b6a7b-a46c-49ff-b73c-7d1b11b946b6",
   "metadata": {},
   "source": [
    "### Workflow for Process Communication using Event in multiprocessing:\n",
    "- Process Initialization: A multiprocessing.Event object is created, and its state is initially unset (i.e., the event is not set). This Event object is shared between processes.\n",
    "\n",
    "- Waiting Processes: One or more processes can call event.wait(). If the event is unset, these processes will block, i.e., they will wait until the event is set. The processes remain in a blocked state, waiting for the signal (event) to proceed.\n",
    "\n",
    "- Event Set: Another process (or the main process) can call event.set() to set the event. When this happens, all waiting processes will be unblocked and continue their execution. The event.set() method triggers all waiting processes to proceed, releasing them from their blocked state.\n",
    "\n",
    "- Event Clear: After the event is set, it stays in the set state until explicitly cleared. If the event is cleared using event.clear(), the event is reset to the unset state, and any subsequent processes calling event.wait() will block again until the event is set again.\n",
    "\n",
    "- Timeout Handling: A process can also use event.wait(timeout) where it waits for the event to be set but only for a specified duration (timeout). If the event is not set within the timeout period, the process will proceed after the timeout ends, avoiding indefinite blocking."
   ]
  },
  {
   "cell_type": "code",
   "execution_count": 1,
   "id": "f47e75b5-89cc-4fde-9367-e27248303b01",
   "metadata": {},
   "outputs": [
    {
     "name": "stdout",
     "output_type": "stream",
     "text": [
      "Both processes have finished their tasks.\n"
     ]
    }
   ],
   "source": [
    "import multiprocessing\n",
    "import time\n",
    "\n",
    "# Producer process (sets the event)\n",
    "def producer(event):\n",
    "    print(\"Producer: Doing some work...\")\n",
    "    time.sleep(3)  # Simulating some work\n",
    "    print(\"Producer: Work done, setting the event.\")\n",
    "    event.set()  # Set the event, notifying the consumer\n",
    "\n",
    "# Consumer process (waits for the event)\n",
    "def consumer(event):\n",
    "    print(\"Consumer: Waiting for the event to be set...\")\n",
    "    event.wait()  # Wait until the event is set\n",
    "    print(\"Consumer: starting the work now!\")\n",
    "\n",
    "if __name__ == '__main__':\n",
    "    # Create an Event object that will be shared between processes\n",
    "    event = multiprocessing.Event()\n",
    "\n",
    "    # Create and start the processes\n",
    "    producer_process = multiprocessing.Process(target=producer, args=(event,))\n",
    "    consumer_process = multiprocessing.Process(target=consumer, args=(event,))\n",
    "\n",
    "    producer_process.start()\n",
    "    consumer_process.start()\n",
    "\n",
    "    # Wait for both processes to complete\n",
    "    producer_process.join()\n",
    "    consumer_process.join()\n",
    "\n",
    "    print(\"Both processes have finished their tasks.\")\n"
   ]
  },
  {
   "cell_type": "markdown",
   "id": "f5d788a2-bded-4063-920e-a3374bf97c09",
   "metadata": {},
   "source": [
    "### How It Works:\n",
    "- The consumer process is blocked initially, waiting for the event to be set.\n",
    "- The producer process simulates work and then sets the event, which wakes up the consumer process to continue its work.\n",
    "\n",
    "### Advantages of Event Object in Multiprocessing:\n",
    "- Simple Synchronization: Allows processes to wait for a specific event to occur, synchronizing the flow of execution.\n",
    "- Efficient Communication: Processes are blocked only when necessary, improving resource usage and preventing unnecessary waiting.\n",
    "- Process Control: Useful for coordinating tasks between multiple processes, ensuring they wait for specific conditions to be met.\n",
    "- Automatic Notification: Once the event is set, all waiting processes are released and continue execution.\n",
    "\n",
    "### Limitations of Event Object in Multiprocessing:\n",
    "- Manual Reset: Events need to be manually cleared (event.clear()) for reuse in a subsequent cycle of waiting and signaling.\n",
    "- Limited Coordination: The Event object may not be ideal for complex coordination between multiple processes, especially when multiple processes need different signals.\n",
    "- No Prioritization: When the event is set, all waiting processes are released simultaneously, without prioritization of which process should proceed first.\n",
    "- Deadlock Risk: Processes can block indefinitely if the event is never set, potentially causing a deadlock situation.\n",
    "\n",
    "#### Use Cases for Event Object in Multiprocessing:\n",
    "- Producer-Consumer Pattern: The consumer process waits for data to be produced by the producer process before it proceeds to process the data.\n",
    "- Process Synchronization: A process waits for a signal from another process before proceeding with its work.\n",
    "- Process Coordination: Ensures processes start after certain conditions are met, like waiting for the completion of a prior task.\n",
    "- Task Completion Notification: A process waits for another process to complete a task before starting its own task, ensuring proper sequence and data availability.\n"
   ]
  },
  {
   "cell_type": "code",
   "execution_count": null,
   "id": "623bc9fa-1f05-41cd-9576-91a83e87de30",
   "metadata": {},
   "outputs": [],
   "source": []
  },
  {
   "cell_type": "code",
   "execution_count": null,
   "id": "d39e5727-2dd1-4595-a707-6029ae0f693f",
   "metadata": {},
   "outputs": [],
   "source": []
  },
  {
   "cell_type": "markdown",
   "id": "120afe2b-4933-43c9-8eac-301dd30db6be",
   "metadata": {},
   "source": [
    "## 2. Process Communication Using Condition Object (signal):\n",
    "- In the context of multiprocessing, a Condition object serves as a powerful synchronization primitive, enabling inter-process communication and coordination. It allows processes to wait for a specific condition to be met before resuming execution, making it ideal for scenarios where processes need to communicate about shared states.\n",
    "### multiprocessing.Condition Objects and Methods:\n",
    "#### i. acquire(*args):\n",
    "- Acquires the underlying lock associated with the condition.\n",
    "- Ensures only one process can access the critical section.\n",
    "- condition.acquire().\n",
    "##### ii. release():\n",
    "- Releases the lock, allowing other processes to acquire it.\n",
    "- Ensures shared resources are not indefinitely blocked.\n",
    "- condition.release().\n",
    "#### iii. wait(timeout=None):\n",
    "- Causes the calling process to wait until another process calls notify() or notify_all() on the condition.\n",
    "- Releases the lock while waiting, allowing other processes to proceed.\n",
    "- condition.wait().\n",
    "#### iv. notify(n=1):\n",
    "- Wakes up one or more waiting processes.\n",
    "- If no processes are waiting, this method has no effect.\n",
    "- condition.notify().\n",
    "#### v. notify_all():\n",
    "- Wakes up all waiting processes, allowing them to re-acquire the lock and proceed.\n",
    "- condition.notify_all().\n",
    "\n",
    "### Workflow:\n",
    "- Lock Acquisition:\n",
    "A process acquires the lock associated with the condition object by calling acquire().\n",
    "- Waiting for Condition:\n",
    "If a process needs to wait for a specific condition to be met (e.g., data availability), it calls wait().\n",
    "This releases the lock and places the process in a waiting state.\n",
    "- Condition Signaling:\n",
    "Another process modifies the shared resource and calls notify() (to wake one waiting process) or notify_all() (to wake all waiting processes) to signal the change.\n",
    "- Resuming Execution:\n",
    "The woken processes re-acquire the lock and proceed with their execution."
   ]
  },
  {
   "cell_type": "code",
   "execution_count": 2,
   "id": "4f18446b-4e09-4c3f-875e-556b543c795a",
   "metadata": {},
   "outputs": [],
   "source": [
    "import time\n",
    "from multiprocessing import Process, Condition\n",
    "\n",
    "class Appointment:\n",
    "    def __init__(self):\n",
    "        self.condition = Condition()\n",
    "\n",
    "    def patient(self, patient_name):\n",
    "        with self.condition:  # Acquire the condition lock\n",
    "            print(f\"Patient {patient_name} is waiting for an appointment.\")\n",
    "            self.condition.wait()  # Wait for the doctor's notification\n",
    "            print(f\"Patient {patient_name} got the appointment and is leaving.\")\n",
    "\n",
    "    def doctor(self):\n",
    "        with self.condition:  # Acquire the condition lock\n",
    "            print(\"Doctor is checking the schedule for appointments.\")\n",
    "            time.sleep(3)  # Simulate time taken to check schedule\n",
    "            print(\"Doctor has finalized the appointments.\")\n",
    "            self.condition.notify_all()  # Notify all waiting patients\n",
    "\n",
    "if __name__ == \"__main__\":\n",
    "    # Create an appointment object\n",
    "    appointment = Appointment()\n",
    "\n",
    "    # Create processes for two patients\n",
    "    patient1 = Process(target=appointment.patient, args=(\"John\",))\n",
    "    patient2 = Process(target=appointment.patient, args=(\"Mary\",))\n",
    "\n",
    "    # Create the doctor process\n",
    "    doctor = Process(target=appointment.doctor)\n",
    "\n",
    "    # Start the processes\n",
    "    patient1.start()\n",
    "    patient2.start()\n",
    "    doctor.start()\n",
    "\n",
    "    # Wait for all processes to complete\n",
    "    patient1.join()\n",
    "    patient2.join()\n",
    "    doctor.join()\n"
   ]
  },
  {
   "cell_type": "markdown",
   "id": "a6b185c5-522d-4076-827e-a22d948c7f32",
   "metadata": {},
   "source": [
    "### Internal Working of Conditions (for Processes):\n",
    "#### i. Acquiring and Releasing the Lock:\n",
    "- When condition.acquire() is called, the process acquires the lock associated with the condition.\n",
    "- When condition.release() is called, the lock is released, allowing other processes to acquire it.\n",
    "#### ii. Waiting:\n",
    "- When a process calls condition.wait(), it releases the lock and enters a waiting state.\n",
    "- The process remains in the waiting state until notified by another process using notify() or notify_all().\n",
    "#### iii. Notify and Competing for the Lock:\n",
    "- When condition.notify_all() is called, all waiting processes are notified but must re-acquire the lock before proceeding.\n",
    "- Only one process at a time can acquire the lock and proceed, while others remain waiting for the lock.\n",
    "\n",
    "### Advantages of Condition Over Event in Multiprocessing:\n",
    "- Implicit Locking:\n",
    "The Condition object automatically manages locking and unlocking, simplifying process synchronization when dealing with shared resources.\n",
    "- Support for Complex Patterns:\n",
    "The Condition object can handle advanced synchronization requirements, such as coordinating multiple processes or managing multi-step tasks.\n",
    "\n",
    "### Limitations of Condition in Multiprocessing:\n",
    "- Resource Overhead:\n",
    "Managing locks and conditions in a multiprocessing setup consumes more resources compared to simpler primitives like Event.\n",
    "- Increased Complexity:\n",
    "For large-scale multiprocessing scenarios with numerous processes, debugging and maintaining synchronization logic can be challenging.\n",
    "\n",
    "### Use Cases of Condition in Multiprocessing:\n",
    "- Producer-Consumer Model:\n",
    "Producers add items to a shared buffer, and consumers wait for items to become available, all synchronized using Condition.\n",
    "- Task Scheduling:\n",
    "A scheduler process signals worker processes when tasks are ready to be executed, ensuring orderly task execution.\n",
    "- Shared Resource Coordination:\n",
    "Processes waiting for access to limited resources (e.g., database connections, network sockets) can be synchronized using Condition.\n",
    "\n",
    "- Multi-Step Workflow:\n",
    "Ensures that dependent processes proceed only after a prerequisite condition is met."
   ]
  },
  {
   "cell_type": "code",
   "execution_count": null,
   "id": "8deed231-8725-4fdd-b665-1ca50c990389",
   "metadata": {},
   "outputs": [],
   "source": []
  }
 ],
 "metadata": {
  "kernelspec": {
   "display_name": "Python 3 (ipykernel)",
   "language": "python",
   "name": "python3"
  },
  "language_info": {
   "codemirror_mode": {
    "name": "ipython",
    "version": 3
   },
   "file_extension": ".py",
   "mimetype": "text/x-python",
   "name": "python",
   "nbconvert_exporter": "python",
   "pygments_lexer": "ipython3",
   "version": "3.13.0"
  },
  "widgets": {
   "application/vnd.jupyter.widget-state+json": {
    "state": {},
    "version_major": 2,
    "version_minor": 0
   }
  }
 },
 "nbformat": 4,
 "nbformat_minor": 5
}
