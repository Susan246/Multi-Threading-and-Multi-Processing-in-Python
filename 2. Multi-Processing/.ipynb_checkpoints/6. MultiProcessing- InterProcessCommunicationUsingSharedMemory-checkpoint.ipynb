{
 "cells": [
  {
   "cell_type": "markdown",
   "id": "ddb41877-7544-4778-95b5-dfad11e5a419",
   "metadata": {
    "id": "ddb41877-7544-4778-95b5-dfad11e5a419"
   },
   "source": [
    "## Types of Process:\n",
    "### 1. Independent Processes:\n",
    "- Operate independently.\n",
    "- Do not share resources or communicate.\n",
    "- Each has its own memory space.\n",
    "- Example: Standalone applications.\n",
    "\n",
    "### 2. Cooperative Processes:\n",
    "- Interact and share resources.\n",
    "- Communicate via IPC (e.g., shared memory, message queues).\n",
    "- Can synchronize using locks or semaphores.\n",
    "- Example: Web server processes handling different tasks."
   ]
  },
  {
   "cell_type": "markdown",
   "id": "83bff349-3845-432d-b2dc-1da25e36b1be",
   "metadata": {
    "id": "83bff349-3845-432d-b2dc-1da25e36b1be"
   },
   "source": [
    "### Need fo Cooperative Processes:\n",
    "- Resource Sharing: Efficiently shares resources like memory, files, or devices.\n",
    "- Task Division: Splits tasks into smaller sub-tasks for parallel execution.\n",
    "- Parallel Processing: Allows simultaneous task execution on multiple cores.\n",
    "- Synchronization: Ensures processes work in harmony, avoiding conflicts.\n",
    "- Increased Efficiency: Improves inter-process communication and system utilization."
   ]
  },
  {
   "cell_type": "markdown",
   "id": "488dbb46-7ffb-4df1-9eea-7892d2211efc",
   "metadata": {
    "id": "488dbb46-7ffb-4df1-9eea-7892d2211efc"
   },
   "source": [
    "### IPC methods:\n",
    "2.1 Shared Memory\n",
    "\n",
    "2.2 Message Passing"
   ]
  },
  {
   "cell_type": "markdown",
   "id": "8c6b9772-f023-49f7-af19-e14dd333189b",
   "metadata": {
    "id": "8c6b9772-f023-49f7-af19-e14dd333189b"
   },
   "source": [
    "### 2.1 Shared Memory:\n",
    "- In multiprocessing, shared memory allows multiple processes to access the same memory location. This can be extremely useful for inter-process communication (IPC), as it eliminates the need to serialize and copy data between processes, improving performance and reducing overhead."
   ]
  },
  {
   "cell_type": "markdown",
   "id": "1da564cd-29f1-4269-b6e7-232e1dd53228",
   "metadata": {
    "id": "1da564cd-29f1-4269-b6e7-232e1dd53228"
   },
   "source": [
    "### Why we use Shared Memory for IPC?\n",
    "- Fast Communication: Direct access to shared memory reduces overhead compared to message passing.\n",
    "- Low Latency: Enables quick data exchange between processes without involving OS or network.\n",
    "- Efficient Resource Use: Allows multiple processes to access common data without copying.\n",
    "- Large Data Sharing: Suitable for sharing large datasets between processes without duplication."
   ]
  },
  {
   "cell_type": "code",
   "execution_count": null,
   "id": "8ec1f7b4-d07d-4b4e-aa49-f222133d35eb",
   "metadata": {
    "id": "8ec1f7b4-d07d-4b4e-aa49-f222133d35eb"
   },
   "outputs": [],
   "source": []
  },
  {
   "cell_type": "markdown",
   "id": "0d89c33a-d63e-4616-81f2-37890f225700",
   "metadata": {
    "id": "0d89c33a-d63e-4616-81f2-37890f225700"
   },
   "source": [
    "### Problem without Shared Memory:"
   ]
  },
  {
   "cell_type": "code",
   "execution_count": 2,
   "id": "83adafb7-e5f3-469e-b5fd-f0b44c84fa82",
   "metadata": {
    "colab": {
     "base_uri": "https://localhost:8080/"
    },
    "executionInfo": {
     "elapsed": 1472,
     "status": "ok",
     "timestamp": 1733738330173,
     "user": {
      "displayName": "Susan Lama",
      "userId": "05555811732649241279"
     },
     "user_tz": -345
    },
    "id": "83adafb7-e5f3-469e-b5fd-f0b44c84fa82",
    "outputId": "1f5e2751-fee4-46be-cf49-4e8315b3278a"
   },
   "outputs": [
    {
     "name": "stdout",
     "output_type": "stream",
     "text": [
      "Final value of counter: 0\n"
     ]
    }
   ],
   "source": [
    "from multiprocessing import Process, Queue\n",
    "import time\n",
    "\n",
    "def worker(counter):\n",
    "    time.sleep(1)  # Simulating work\n",
    "    counter += 1  # Incrementing the counter\n",
    "    print(f\"counter: {counter}\")\n",
    "\n",
    "if __name__ == '__main__':\n",
    "    counter = 0\n",
    "    processes = []\n",
    "\n",
    "    for _ in range(5):\n",
    "        p = Process(target=worker, args=(counter,))\n",
    "        processes.append(p)\n",
    "        p.start()\n",
    "\n",
    "    for p in processes:\n",
    "        p.join()\n",
    "\n",
    "    print(f\"Final value of counter: {counter}\")"
   ]
  },
  {
   "cell_type": "markdown",
   "id": "b6091051-0f06-4aeb-9f2b-ee23e8d4b96b",
   "metadata": {
    "id": "b6091051-0f06-4aeb-9f2b-ee23e8d4b96b"
   },
   "source": [
    "### Problems:\n",
    "- Inconsistency: The counter is not shared. Each worker gets a copy of the counter, makes changes locally, and then sends the result back via the Queue. This could result in different workers working with outdated versions of the counter.\n"
   ]
  },
  {
   "cell_type": "code",
   "execution_count": null,
   "id": "f5dd7377-99b9-4ff7-96ec-a347e9a1c14a",
   "metadata": {
    "id": "f5dd7377-99b9-4ff7-96ec-a347e9a1c14a"
   },
   "outputs": [],
   "source": []
  },
  {
   "cell_type": "code",
   "execution_count": null,
   "id": "ada8e058-2ad8-4f28-a845-8b0f38a2b7ad",
   "metadata": {
    "id": "ada8e058-2ad8-4f28-a845-8b0f38a2b7ad"
   },
   "outputs": [],
   "source": []
  },
  {
   "cell_type": "markdown",
   "id": "c14cba24-1b32-48be-8df5-8d4dc0e1045b",
   "metadata": {
    "id": "c14cba24-1b32-48be-8df5-8d4dc0e1045b"
   },
   "source": [
    "## Types of Data Structure in Shared Memory:"
   ]
  },
  {
   "cell_type": "markdown",
   "id": "46685156-4ea0-4c59-86b1-669eca3e0e62",
   "metadata": {
    "id": "46685156-4ea0-4c59-86b1-669eca3e0e62"
   },
   "source": [
    "### i. Value:\n",
    "####  multiprocessing.Value(typecode_or_type, value, lock=True)\n",
    "- The Value type allows a single data element to be shared between multiple processes. It can store a variety of data types like integers, floats, and booleans.\n",
    "\n",
    "Arguments:\n",
    "- typecode_or_type: Type code or ctypes type (e.g., 'i' for integers, 'f' for floats).\n",
    "- value: The initial value of the shared data.\n",
    "- lock (default: True): If True, ensures that access to the shared value is synchronized with a lock (thread-safe).\n",
    "\n",
    "\n",
    "Usage:\n",
    "- Typically used for sharing a single value (e.g., a counter or sum) among processes.\n"
   ]
  },
  {
   "cell_type": "code",
   "execution_count": 6,
   "id": "f5bae833-2a51-409c-ba48-27d0a770c621",
   "metadata": {
    "colab": {
     "base_uri": "https://localhost:8080/"
    },
    "executionInfo": {
     "elapsed": 825,
     "status": "ok",
     "timestamp": 1733738363729,
     "user": {
      "displayName": "Susan Lama",
      "userId": "05555811732649241279"
     },
     "user_tz": -345
    },
    "id": "f5bae833-2a51-409c-ba48-27d0a770c621",
    "outputId": "b696d8cc-1956-40f3-b368-361a39ece137"
   },
   "outputs": [
    {
     "name": "stdout",
     "output_type": "stream",
     "text": [
      "PID 2381: counter: 1\n",
      "PID 2384: counter: 4\n",
      "PID 2382: counter: 2\n",
      "PID 2385: counter: 5\n",
      "PID 2383: counter: 3\n",
      "Final counter value: 5\n"
     ]
    }
   ],
   "source": [
    "from multiprocessing import Process, Value\n",
    "import time\n",
    "import os  # Import os module\n",
    "\n",
    "def worker(counter):\n",
    "    time.sleep(0.5)  # Simulate work\n",
    "    counter.value += 1  # Implicitly thread-safe due to internal locking\n",
    "    print(f\"PID {os.getpid()}: counter: {counter.value}\")\n",
    "\n",
    "if __name__ == '__main__':\n",
    "    counter = Value('i', 0)  # Create a shared integer\n",
    "    processes = []\n",
    "\n",
    "    for _ in range(5):\n",
    "        p = Process(target=worker, args=(counter,))\n",
    "        processes.append(p)\n",
    "        p.start()\n",
    "\n",
    "    for p in processes:\n",
    "        p.join()\n",
    "\n",
    "    print(f\"Final counter value: {counter.value}\")\n"
   ]
  },
  {
   "cell_type": "markdown",
   "id": "8a927575-8cf2-4429-bf15-82b18c162a5a",
   "metadata": {
    "id": "8a927575-8cf2-4429-bf15-82b18c162a5a"
   },
   "source": [
    "### Limitation of Value:\n",
    "- Single Value: Can store only one value at a time."
   ]
  },
  {
   "cell_type": "code",
   "execution_count": null,
   "id": "eb55b595-2d53-4325-9fa9-87c1b31c2506",
   "metadata": {
    "id": "eb55b595-2d53-4325-9fa9-87c1b31c2506"
   },
   "outputs": [],
   "source": []
  },
  {
   "cell_type": "markdown",
   "id": "040d546e-ffc3-41d1-b424-c2df60d64813",
   "metadata": {
    "id": "040d546e-ffc3-41d1-b424-c2df60d64813"
   },
   "source": [
    "### ii. Array:"
   ]
  },
  {
   "cell_type": "markdown",
   "id": "749de21e-9143-4904-8e7a-a3445e81cdce",
   "metadata": {
    "id": "749de21e-9143-4904-8e7a-a3445e81cdce"
   },
   "source": [
    "#### multiprocessing.Array(typecode_or_type, size_or_initializer, lock=True)\n",
    "\n",
    "- The Array type is used to share multiple data elements between processes. It can store a sequence of data (e.g., integers or floats) in a shared memory region.\n",
    "\n",
    "Arguments:\n",
    "- typecode_or_type: Type code or ctypes type (e.g., 'i' for integers, 'f' for floats).\n",
    "- size_or_initializer: The size of the array (number of elements) or an initializer value (e.g., a list or tuple of values).\n",
    "- lock (default: True): If True, ensures that access to the array is synchronized with a lock (thread-safe).\n",
    "\n",
    "\n",
    "Usage:\n",
    "- Used when you need to share a collection of values (e.g., an array of integers or floats) among processes."
   ]
  },
  {
   "cell_type": "code",
   "execution_count": null,
   "id": "1080098c-48a2-4d88-819c-664ff8df82cf",
   "metadata": {
    "colab": {
     "base_uri": "https://localhost:8080/"
    },
    "executionInfo": {
     "elapsed": 1668,
     "status": "ok",
     "timestamp": 1733733005895,
     "user": {
      "displayName": "Susan Lama",
      "userId": "05555811732649241279"
     },
     "user_tz": -345
    },
    "id": "1080098c-48a2-4d88-819c-664ff8df82cf",
    "outputId": "b620731a-16da-4a6c-ae74-3cfd15c582df"
   },
   "outputs": [
    {
     "name": "stdout",
     "output_type": "stream",
     "text": [
      "PID 4353: arr[0] = 1\n",
      "PID 4354: arr[1] = 2\n",
      "PID 4355: arr[2] = 3\n",
      "PID 4356: arr[3] = 4\n",
      "PID 4357: arr[4] = 5\n",
      "Updated array: [1, 2, 3, 4, 5]\n"
     ]
    }
   ],
   "source": [
    "from multiprocessing import Process, Array\n",
    "import time\n",
    "import os\n",
    "\n",
    "def worker(arr, index):\n",
    "    time.sleep(1)  # Simulate work\n",
    "    arr[index] += 1  # Increment a specific value in the array\n",
    "    print(f\"PID {os.getpid()}: arr[{index}] = {arr[index]}\")  # Print the PID and the updated value\n",
    "\n",
    "if __name__ == '__main__':\n",
    "    arr = Array('i', [0, 1, 2, 3, 4])  # Shared array of integers, initialized with [0, 1, 2, 3, 4]\n",
    "    processes = []\n",
    "\n",
    "    for i in range(5):\n",
    "        p = Process(target=worker, args=(arr, i))\n",
    "        processes.append(p)\n",
    "        p.start()\n",
    "\n",
    "    for p in processes:\n",
    "        p.join()\n",
    "\n",
    "    print(\"Updated array:\", list(arr))  # Print the final state of the shared array\n"
   ]
  },
  {
   "cell_type": "markdown",
   "id": "c336b359-796d-4584-bc78-0a9b3591d653",
   "metadata": {
    "id": "c336b359-796d-4584-bc78-0a9b3591d653"
   },
   "source": [
    "### Advantages of Array over Value:\n",
    "- Multiple Values: Unlike Value, Array can hold multiple elements, making it suitable for sharing collections of data (e.g., arrays of integers).\n",
    "- Efficient Sharing: Array allows better sharing of structured data between processes.\n",
    "\n",
    "### Limitations of Array:\n",
    "- Fixed Size: The size of the array is fixed when created and cannot be resized during execution.\n",
    "- Fixed Data Type: Like Value, the type of the array (e.g., ctypes.c_int, ctypes.c_float) must be specified when creating the array and cannot be changed later."
   ]
  },
  {
   "cell_type": "code",
   "execution_count": null,
   "id": "5b293988-d2ad-4b47-8b28-9e6d6922d433",
   "metadata": {
    "id": "5b293988-d2ad-4b47-8b28-9e6d6922d433"
   },
   "outputs": [],
   "source": []
  },
  {
   "cell_type": "markdown",
   "id": "db78484e-5885-42d2-ba2b-9a208370a16b",
   "metadata": {},
   "source": [
    "### Limitations of Shared Memory in IPC:\n",
    "- Limited to Single Machine: Shared memory is local to the machine and cannot be directly used for communication between processes on different machines.\n",
    "\n",
    "- Scaling Across Systems: For large distributed systems or cloud environments, shared memory cannot be used as a communication mechanism between processes on different nodes."
   ]
  }
 ],
 "metadata": {
  "accelerator": "TPU",
  "colab": {
   "gpuType": "V28",
   "provenance": []
  },
  "kernelspec": {
   "display_name": "Python 3 (ipykernel)",
   "language": "python",
   "name": "python3"
  },
  "language_info": {
   "codemirror_mode": {
    "name": "ipython",
    "version": 3
   },
   "file_extension": ".py",
   "mimetype": "text/x-python",
   "name": "python",
   "nbconvert_exporter": "python",
   "pygments_lexer": "ipython3",
   "version": "3.13.0"
  },
  "widgets": {
   "application/vnd.jupyter.widget-state+json": {
    "state": {},
    "version_major": 2,
    "version_minor": 0
   }
  }
 },
 "nbformat": 4,
 "nbformat_minor": 5
}
