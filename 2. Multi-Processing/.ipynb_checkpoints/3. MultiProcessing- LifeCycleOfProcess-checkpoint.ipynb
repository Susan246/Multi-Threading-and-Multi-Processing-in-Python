{
 "cells": [
  {
   "cell_type": "markdown",
   "id": "2c0aa5cd-fe21-4ab2-ac14-e16091f40fcd",
   "metadata": {},
   "source": [
    "# Life Cycle of Process:"
   ]
  },
  {
   "cell_type": "markdown",
   "id": "55aa718f-0ccd-4ce8-812e-8276241b0404",
   "metadata": {},
   "source": [
    "### 1. New State\n",
    "### 2. Runnable State\n",
    "### 3. Running State\n",
    "### 4. Blocked/Waiting State\n",
    "### 5. Termination State"
   ]
  },
  {
   "cell_type": "code",
   "execution_count": null,
   "id": "a60a085f-a659-4483-aa2f-19807d7294bc",
   "metadata": {},
   "outputs": [],
   "source": []
  },
  {
   "cell_type": "markdown",
   "id": "77970991-cf29-480d-b8cd-4c176b26ea90",
   "metadata": {},
   "source": [
    "## 1. Process Creation (New State) in Python:\n",
    "When you create a process object using multiprocessing.Process, Python performs several steps internally to set up the process. This process can be broken down into two main phases: Object Creation and Object Initialization.\n",
    "\n",
    "### 1.1 Object Creation (__new__ method):\n",
    "- Before the __init__() method is called, Python uses the __new__() method to allocate memory for the new process object.\n",
    "- The __new__() method is inherited by the multiprocessing.Process class unless explicitly overridden.\n",
    "#### At this stage:\n",
    "- The process object exists in memory, but its attributes (like target, args, etc.) are not yet initialized.\n",
    "- The object is a blank slate, ready for initialization.\n",
    "### 1.2 Object Initialization (__init__ method):\n",
    "- After the object is created, the __init__() method is called to initialize the process object’s attributes.\n",
    "#### Key attributes that are set during this step:\n",
    "- target: The function that the process will execute (if provided).\n",
    "- args: Positional arguments to pass to the target function (default: ()).\n",
    "- kwargs: Keyword arguments to pass to the target function (default: {}).\n",
    "- name: The process’s name (default: Process-N, where N is a unique number).\n",
    "- daemon: Whether the process is a daemon process (inherits from the parent process unless explicitly specified).\n",
    "- pid: The Process ID is not set during initialization, but it will be created once the process starts.\n"
   ]
  },
  {
   "cell_type": "code",
   "execution_count": 10,
   "id": "645704ae-dc9e-487d-81b4-2e1edcb88786",
   "metadata": {},
   "outputs": [
    {
     "name": "stdout",
     "output_type": "stream",
     "text": [
      "Step 1: Allocating memory for the process object...\n",
      "Step 2: Initializing the process object...\n",
      "Process object created: <CustomProcess name='CustomProcess-4' parent=17096 initial>\n",
      "Process PID before start: None\n",
      "Is process alive after join: False\n"
     ]
    }
   ],
   "source": [
    "import multiprocessing\n",
    "import time\n",
    "\n",
    "def my_task():\n",
    "    print(\"Task is running\")\n",
    "\n",
    "# Custom Process class to track creation and initialization\n",
    "class CustomProcess(multiprocessing.Process):\n",
    "    def __new__(cls, *args, **kwargs):\n",
    "        print(\"Step 1: Allocating memory for the process object...\")\n",
    "        instance = super().__new__(cls)  # Call parent __new__ to allocate memory\n",
    "        return instance\n",
    "    \n",
    "    def __init__(self, *args, **kwargs):\n",
    "        print(\"Step 2: Initializing the process object...\")\n",
    "        super().__init__(*args, **kwargs)  # Call parent __init__ to set up attributes\n",
    "\n",
    "# Create a process object\n",
    "process = CustomProcess(target=my_task)\n",
    "\n",
    "print(\"Process object created:\", process)\n",
    "print(\"Process PID before start:\", process.pid)\n",
    "print(\"Is process alive after join:\", process.is_alive())\n"
   ]
  },
  {
   "cell_type": "code",
   "execution_count": null,
   "id": "4486a3b6-bbc3-40ad-9bba-cccd85ef8111",
   "metadata": {},
   "outputs": [],
   "source": []
  },
  {
   "cell_type": "markdown",
   "id": "71f99177-eb28-4b9e-be20-2fafa63372a1",
   "metadata": {},
   "source": [
    "## 2. Process State: Runnable and Running State:"
   ]
  },
  {
   "cell_type": "markdown",
   "id": "8dfbc78f-a9af-4611-8e44-4cf177b1beef",
   "metadata": {},
   "source": [
    "### 2.1 Runnable State:\n",
    "- Runnable State refers to when a process is ready to run, and the operating system's process scheduler can pick it up for execution. At this stage, the process has been started using start(), but it is not yet actively executing. The process may not immediately run because the OS may allocate CPU time to other processes first.\n",
    "\n",
    "### Life Cycle of Runnable State:\n",
    "#### i. Process Start:\n",
    "\n",
    "- The process enters the Runnable state once the start() method is invoked.\n",
    "- It is now eligible to run, but the OS scheduler may not immediately allocate CPU time to it.\n",
    "#### ii. Waiting for CPU Time:\n",
    "\n",
    "- In the Runnable state, the process waits for the operating system to allocate CPU time to it.\n",
    "-0 Other processes might be running depending on their priority, CPU availability, and the OS's scheduler decisions.\n",
    "#### iii. OS Scheduling:\n",
    "\n",
    "- The process remains in the Runnable state while it is waiting for the OS scheduler to pick it up and allocate CPU time.\n",
    "- The OS scheduler decides which process to run based on factors like priority, process state, and CPU time allocation.\n",
    "#### iv. Transition to Running State:\n",
    "\n",
    "- Once the OS scheduler allocates CPU time to the process, it transitions to the Running state, where it begins executing its target function (i.e., the function provided to the target argument when creating the process).\n",
    "- At this point, the process moves from the Runnable state to the Running state and begins execution on the CPU.\n",
    "\n",
    "### 2.2 Running State:\n",
    "- Running State refers to the state where the process is actively executing its code (i.e., the function passed to target). This happens once the OS scheduler has allocated CPU time to the process.\n",
    "- In the Running state, the process is executing the instructions within the target function (in the run() method or the function provided directly to the target argument).\n",
    "\n",
    "### Life Cycle of Running State:\n",
    "#### i. Execution:\n",
    "\n",
    "- When the process is in the Running state, it is executing its code, consuming CPU resources.\n",
    "- The process continues to execute until it completes its task or is interrupted by the OS scheduler.\n",
    "#### ii. Transition to Terminated State:\n",
    "\n",
    "- Once the process has completed execution, it moves to the Terminated state.\n",
    "- The exit status of the process is updated, and the process terminates, releasing any resources it was using.\n"
   ]
  },
  {
   "cell_type": "code",
   "execution_count": 11,
   "id": "b70f8ca4-552a-4fa4-8dca-8af4356cf5d3",
   "metadata": {},
   "outputs": [
    {
     "name": "stdout",
     "output_type": "stream",
     "text": [
      "Is process alive before join: True\n",
      "Is process alive after join: False\n"
     ]
    }
   ],
   "source": [
    "from multiprocessing import Process\n",
    "import time\n",
    "import os\n",
    "\n",
    "def my_task():\n",
    "    print(f\"Process {os.getpid()} is running...\")\n",
    "    time.sleep(45)  # Simulate work for 45 seconds\n",
    "    print(f\"Process {os.getpid()} finished.\")\n",
    "\n",
    "if __name__ == '__main__':\n",
    "    # Create three processes\n",
    "    processes = []\n",
    "    for _ in range(3):\n",
    "        process = Process(target=my_task)\n",
    "        processes.append(process)\n",
    "        process.start()\n",
    "\n",
    "    # Print the PIDs of the processes\n",
    "    for process in processes:\n",
    "        print(f\"Process {process.pid} started.\")\n",
    "\n",
    "    # Wait for all processes to complete\n",
    "    for process in processes:\n",
    "        process.join()\n",
    "\n",
    "    # All processes should have finished now\n",
    "    print(\"All processes are finished.\")\n"
   ]
  },
  {
   "cell_type": "code",
   "execution_count": null,
   "id": "86d9dab5-6d29-4ae0-ac10-b7da2470965f",
   "metadata": {},
   "outputs": [],
   "source": []
  },
  {
   "cell_type": "markdown",
   "id": "9b63db9a-3155-4aa5-9e1e-25422e2ffdca",
   "metadata": {},
   "source": [
    "## 3. Blocked/Waiting State:\n",
    "### 3.1 Blocked State:\n",
    "- A process enters the Blocked state when it is waiting for a resource to become available or some condition to be satisfied. This often happens when a process needs a resource (such as a lock or I/O resource) that is currently unavailable.\n",
    "\n",
    "#### When Does a Process Enter Blocked State?\n",
    "- Blocked State: A process enters the Blocked state when it tries to acquire a resource (like a lock) that is held by another process or is waiting for some resource (e.g., I/O operation)."
   ]
  },
  {
   "cell_type": "code",
   "execution_count": 15,
   "id": "abe00b7e-c095-42fa-83ee-66cc0fc1d5bd",
   "metadata": {},
   "outputs": [
    {
     "name": "stdout",
     "output_type": "stream",
     "text": [
      "Both processes are finished.\n"
     ]
    }
   ],
   "source": [
    "# In my case MultiProcessing code is not work fine in jupyter notebook so to see the actual execution run it to another ide.\n",
    "\n",
    "from multiprocessing import Process, Lock\n",
    "import time\n",
    "\n",
    "def process1_task(lock):\n",
    "    print(\"Process 1 trying to acquire lock...\")\n",
    "    with lock:  # Trying to acquire lock, will block if already acquired by another process\n",
    "        print(\"Process 1 acquired lock.\")\n",
    "        time.sleep(2)\n",
    "    print(\"Process 1 released lock.\")\n",
    "\n",
    "def process2_task(lock):\n",
    "    print(\"Process 2 acquiring lock...\")\n",
    "    with lock:  # Acquiring lock\n",
    "        print(\"Process 2 has the lock, holding it for 2 seconds.\")\n",
    "        time.sleep(2)\n",
    "    print(\"Process 2 released lock.\")\n",
    "\n",
    "if __name__ == \"__main__\":\n",
    "    lock = Lock()\n",
    "\n",
    "    process1 = Process(target=process1_task, args=(lock,))\n",
    "    process2 = Process(target=process2_task, args=(lock,))\n",
    "\n",
    "    process2.start()  # process2 starts and acquires the lock\n",
    "    time.sleep(0.5)   # Ensure process2 acquires the lock before process1 starts\n",
    "    process1.start()  # process1 tries to acquire the lock and gets blocked\n",
    "\n",
    "    process1.join()\n",
    "    process2.join()\n",
    "\n",
    "    print(\"Both processes are finished.\")\n"
   ]
  },
  {
   "cell_type": "markdown",
   "id": "9cf222de-b90b-4c56-a56d-7834072287f9",
   "metadata": {},
   "source": [
    "### 3.2 Waiting State:\n",
    "- A process enters the Waiting state when it is explicitly paused and waits for a certain condition, event, or another process to complete. The most common situations for entering the Waiting state are calling join(), sleep(), or wait().\n",
    "\n",
    "#### When Does a Process Enter Waiting State?\n",
    "- Waiting State: A process enters the Waiting state when it explicitly pauses its execution, waiting for an event or for another process to finish."
   ]
  },
  {
   "cell_type": "code",
   "execution_count": 13,
   "id": "b14d7dc6-d252-49b9-9e61-db00fc2f0f44",
   "metadata": {},
   "outputs": [
    {
     "name": "stdout",
     "output_type": "stream",
     "text": [
      "Both processes are finished.\n"
     ]
    }
   ],
   "source": [
    "from multiprocessing import Process\n",
    "import time\n",
    "\n",
    "def process1_task():\n",
    "    print(\"Process 1 started.\")\n",
    "    time.sleep(3)\n",
    "    print(\"Process 1 finished.\")\n",
    "\n",
    "def process2_task():\n",
    "    print(\"Process 2 started.\")\n",
    "    time.sleep(1)\n",
    "    print(\"Process 2 finished.\")\n",
    "\n",
    "if __name__ == \"__main__\":\n",
    "    process1 = Process(target=process1_task)\n",
    "    process2 = Process(target=process2_task)\n",
    "\n",
    "    process1.start()\n",
    "    process2.start()\n",
    "\n",
    "    process1.join()  # process1 enters the Waiting state until process2 finishes\n",
    "    process2.join()  # process2 finishes and process1 resumes execution\n",
    "\n",
    "    print(\"Both processes are finished.\")\n"
   ]
  },
  {
   "cell_type": "code",
   "execution_count": null,
   "id": "9740873a-fb47-4eb8-98f3-627aa7530afa",
   "metadata": {},
   "outputs": [],
   "source": []
  },
  {
   "cell_type": "markdown",
   "id": "8b99439a-571f-4129-be35-5d4a520092f8",
   "metadata": {},
   "source": [
    "## Termination State:\n",
    "- The process finishes execution, either successfully or with an error, and exits.\n",
    "- The process is no longer running and cannot be resumed.\n",
    "\n",
    "#### What Happens During Termination?\n",
    "- Exit Code: A process sets an exit code (0 for success, non-zero for failure).\n",
    "- Cleanup: Resources allocated to the process are released."
   ]
  },
  {
   "cell_type": "code",
   "execution_count": 14,
   "id": "4839a8df-e434-476d-9a37-ccdf5c05a1b3",
   "metadata": {},
   "outputs": [
    {
     "name": "stdout",
     "output_type": "stream",
     "text": [
      "Process 1 exit code: 1\n",
      "Process 2 exit code: 1\n"
     ]
    }
   ],
   "source": [
    "from multiprocessing import Process\n",
    "import time\n",
    "\n",
    "def normal_process_task():\n",
    "    time.sleep(2)\n",
    "    return 0  # Normal exit\n",
    "\n",
    "def error_process_task():\n",
    "    time.sleep(1)\n",
    "    raise Exception(\"Error occurred\")\n",
    "\n",
    "if __name__ == \"__main__\":\n",
    "    process1 = Process(target=normal_process_task)\n",
    "    process2 = Process(target=error_process_task)\n",
    "\n",
    "    process1.start()\n",
    "    process2.start()\n",
    "\n",
    "    process1.join()\n",
    "    process2.join()\n",
    "\n",
    "    print(\"Process 1 exit code:\", process1.exitcode)  # 0 (success)\n",
    "    print(\"Process 2 exit code:\", process2.exitcode)  # Non-zero (error)\n"
   ]
  },
  {
   "cell_type": "code",
   "execution_count": null,
   "id": "2ef6cd99-5832-4ed4-9572-ea5843525e6a",
   "metadata": {},
   "outputs": [],
   "source": []
  }
 ],
 "metadata": {
  "kernelspec": {
   "display_name": "Python 3 (ipykernel)",
   "language": "python",
   "name": "python3"
  },
  "language_info": {
   "codemirror_mode": {
    "name": "ipython",
    "version": 3
   },
   "file_extension": ".py",
   "mimetype": "text/x-python",
   "name": "python",
   "nbconvert_exporter": "python",
   "pygments_lexer": "ipython3",
   "version": "3.13.0"
  },
  "widgets": {
   "application/vnd.jupyter.widget-state+json": {
    "state": {},
    "version_major": 2,
    "version_minor": 0
   }
  }
 },
 "nbformat": 4,
 "nbformat_minor": 5
}
