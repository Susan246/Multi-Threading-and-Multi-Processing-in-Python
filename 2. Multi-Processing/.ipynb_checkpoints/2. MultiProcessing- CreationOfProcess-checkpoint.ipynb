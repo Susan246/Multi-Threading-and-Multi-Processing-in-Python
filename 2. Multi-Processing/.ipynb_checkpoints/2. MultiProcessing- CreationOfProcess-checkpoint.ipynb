{
 "cells": [
  {
   "cell_type": "markdown",
   "id": "4d153a6f-4fc3-4fa3-a059-c08c9d83e3d4",
   "metadata": {},
   "source": [
    "# Creation of Process:"
   ]
  },
  {
   "cell_type": "markdown",
   "id": "34fa34de-79a7-48de-8e79-77c24d97a1d6",
   "metadata": {},
   "source": [
    "In Python, processes can be created in two main ways using the multiprocessing module:\n",
    "1. Using the multiprocessing.Process class:\n",
    "- This is the simpler and more common method, where you create a Process object and pass the target function.\n",
    "- It is typically preferred for most use cases due to its straightforward implementation.\n",
    "\n",
    "2. Extending the multiprocessing.Process class:\n",
    "- This method allows customization of process behavior by overriding the run() method.\n",
    "- It is useful when the task requires more logic or attributes, providing more flexibility.\n",
    "\n"
   ]
  },
  {
   "cell_type": "markdown",
   "id": "33cb20de-28fc-4120-b000-d9410b72be01",
   "metadata": {},
   "source": [
    "### 1. Using the multiprocessing.Process Class:\n",
    "Steps to Create a Process:\n",
    "- Import the multiprocessing module.\n",
    "- Define the target function to run in the process.\n",
    "- Create a process instance by passing the target function to the Process constructor.\n",
    "- Start the process using process.start().\n",
    "- Optionally, wait for the process to complete using process.join()."
   ]
  },
  {
   "cell_type": "code",
   "execution_count": 10,
   "id": "4f06b1f9-a5bf-42f1-9423-174b7f18ee81",
   "metadata": {},
   "outputs": [
    {
     "name": "stdout",
     "output_type": "stream",
     "text": [
      "Main process is finishing...\n"
     ]
    }
   ],
   "source": [
    "from multiprocessing import Process\n",
    "\n",
    "# Define the target function with arguments\n",
    "def worker_task(name, count):\n",
    "    for i in range(count):\n",
    "        print(f\"Worker process {name} is running iteration {i + 1}...\")\n",
    "\n",
    "# Create a Process object with arguments\n",
    "process = Process(target=worker_task, args=(\"Task1\", 5))\n",
    "\n",
    "# Start the process\n",
    "process.start()\n",
    "\n",
    "# Wait for the process to finish\n",
    "process.join()\n",
    "\n",
    "print(\"Main process is finishing...\")\n"
   ]
  },
  {
   "cell_type": "code",
   "execution_count": null,
   "id": "a16a84b1-9d38-44f9-88c3-4d6b8ec987c1",
   "metadata": {},
   "outputs": [],
   "source": []
  },
  {
   "cell_type": "markdown",
   "id": "ecd82f74-b8c6-486d-91a2-04e59f85183e",
   "metadata": {},
   "source": [
    "### 2. Extending the multiprocessing.Process Class:\n",
    "Steps to Create a Process:\n",
    "- Import the multiprocessing module.\n",
    "- Subclass the multiprocessing.Process class.\n",
    "- Override the run() method to define the behavior of the process.\n",
    "- Create an instance of the subclass and start the process using start().\n",
    "- Optionally, wait for the process to complete using join()."
   ]
  },
  {
   "cell_type": "code",
   "execution_count": 2,
   "id": "673d8c61-45a4-4334-9c88-a161053a24c1",
   "metadata": {},
   "outputs": [
    {
     "name": "stdout",
     "output_type": "stream",
     "text": [
      "Main process is finishing...\n"
     ]
    }
   ],
   "source": [
    "from multiprocessing import Process\n",
    "\n",
    "# Define a custom process class\n",
    "class WorkerProcess(Process):\n",
    "    def run(self):\n",
    "        print(\"Custom worker process is running...\")\n",
    "\n",
    "# Create an instance of the WorkerProcess\n",
    "process = WorkerProcess()\n",
    "\n",
    "# Start the process\n",
    "process.start()\n",
    "\n",
    "# Wait for the process to finish\n",
    "process.join()\n",
    "\n",
    "print(\"Main process is finishing...\")\n"
   ]
  },
  {
   "cell_type": "code",
   "execution_count": null,
   "id": "baa3e47d-918c-47c0-a205-5cbcc07b863b",
   "metadata": {},
   "outputs": [],
   "source": []
  },
  {
   "cell_type": "markdown",
   "id": "df4c93e3-1169-4a02-a2dc-8871b91432a3",
   "metadata": {},
   "source": [
    "## Method __init__() in Extending Process Class:"
   ]
  },
  {
   "cell_type": "code",
   "execution_count": 3,
   "id": "030c7771-8ba3-4f34-935c-867b0b9ee935",
   "metadata": {},
   "outputs": [
    {
     "ename": "AttributeError",
     "evalue": "'MyProcess' object has no attribute '_closed'",
     "output_type": "error",
     "traceback": [
      "\u001b[1;31m---------------------------------------------------------------------------\u001b[0m",
      "\u001b[1;31mAttributeError\u001b[0m                            Traceback (most recent call last)",
      "Cell \u001b[1;32mIn[3], line 13\u001b[0m\n\u001b[0;32m     11\u001b[0m \u001b[38;5;66;03m# Attempt to create and start a process\u001b[39;00m\n\u001b[0;32m     12\u001b[0m process \u001b[38;5;241m=\u001b[39m MyProcess(name\u001b[38;5;241m=\u001b[39m\u001b[38;5;124m\"\u001b[39m\u001b[38;5;124mTestProcess\u001b[39m\u001b[38;5;124m\"\u001b[39m)\n\u001b[1;32m---> 13\u001b[0m \u001b[43mprocess\u001b[49m\u001b[38;5;241;43m.\u001b[39;49m\u001b[43mstart\u001b[49m\u001b[43m(\u001b[49m\u001b[43m)\u001b[49m\n\u001b[0;32m     14\u001b[0m process\u001b[38;5;241m.\u001b[39mjoin()\n",
      "File \u001b[1;32m~\\AppData\\Local\\Programs\\Python\\Python313\\Lib\\multiprocessing\\process.py:114\u001b[0m, in \u001b[0;36mBaseProcess.start\u001b[1;34m(self)\u001b[0m\n\u001b[0;32m    110\u001b[0m \u001b[38;5;28;01mdef\u001b[39;00m \u001b[38;5;21mstart\u001b[39m(\u001b[38;5;28mself\u001b[39m):\n\u001b[0;32m    111\u001b[0m \u001b[38;5;250m    \u001b[39m\u001b[38;5;124;03m'''\u001b[39;00m\n\u001b[0;32m    112\u001b[0m \u001b[38;5;124;03m    Start child process\u001b[39;00m\n\u001b[0;32m    113\u001b[0m \u001b[38;5;124;03m    '''\u001b[39;00m\n\u001b[1;32m--> 114\u001b[0m     \u001b[38;5;28;43mself\u001b[39;49m\u001b[38;5;241;43m.\u001b[39;49m\u001b[43m_check_closed\u001b[49m\u001b[43m(\u001b[49m\u001b[43m)\u001b[49m\n\u001b[0;32m    115\u001b[0m     \u001b[38;5;28;01massert\u001b[39;00m \u001b[38;5;28mself\u001b[39m\u001b[38;5;241m.\u001b[39m_popen \u001b[38;5;129;01mis\u001b[39;00m \u001b[38;5;28;01mNone\u001b[39;00m, \u001b[38;5;124m'\u001b[39m\u001b[38;5;124mcannot start a process twice\u001b[39m\u001b[38;5;124m'\u001b[39m\n\u001b[0;32m    116\u001b[0m     \u001b[38;5;28;01massert\u001b[39;00m \u001b[38;5;28mself\u001b[39m\u001b[38;5;241m.\u001b[39m_parent_pid \u001b[38;5;241m==\u001b[39m os\u001b[38;5;241m.\u001b[39mgetpid(), \\\n\u001b[0;32m    117\u001b[0m            \u001b[38;5;124m'\u001b[39m\u001b[38;5;124mcan only start a process object created by current process\u001b[39m\u001b[38;5;124m'\u001b[39m\n",
      "File \u001b[1;32m~\\AppData\\Local\\Programs\\Python\\Python313\\Lib\\multiprocessing\\process.py:100\u001b[0m, in \u001b[0;36mBaseProcess._check_closed\u001b[1;34m(self)\u001b[0m\n\u001b[0;32m     99\u001b[0m \u001b[38;5;28;01mdef\u001b[39;00m \u001b[38;5;21m_check_closed\u001b[39m(\u001b[38;5;28mself\u001b[39m):\n\u001b[1;32m--> 100\u001b[0m     \u001b[38;5;28;01mif\u001b[39;00m \u001b[38;5;28;43mself\u001b[39;49m\u001b[38;5;241;43m.\u001b[39;49m\u001b[43m_closed\u001b[49m:\n\u001b[0;32m    101\u001b[0m         \u001b[38;5;28;01mraise\u001b[39;00m \u001b[38;5;167;01mValueError\u001b[39;00m(\u001b[38;5;124m\"\u001b[39m\u001b[38;5;124mprocess object is closed\u001b[39m\u001b[38;5;124m\"\u001b[39m)\n",
      "\u001b[1;31mAttributeError\u001b[0m: 'MyProcess' object has no attribute '_closed'"
     ]
    }
   ],
   "source": [
    "from multiprocessing import Process\n",
    "\n",
    "# Subclassing Process without calling __init__()\n",
    "class MyProcess(Process):\n",
    "    def __init__(self, name):\n",
    "        self.name = name  # Missing parent class initialization\n",
    "\n",
    "    def run(self):\n",
    "        print(f\"Process {self.name} is running.\")\n",
    "\n",
    "# Attempt to create and start a process\n",
    "process = MyProcess(name=\"TestProcess\")\n",
    "process.start()\n",
    "process.join()\n"
   ]
  },
  {
   "cell_type": "markdown",
   "id": "31044355-c14b-4049-911d-801a86102afa",
   "metadata": {},
   "source": [
    "### Issue Occurs in Multiprocessing:\n",
    "- When super().__init__() is not called in a subclass of multiprocessing.Process, the Process class is not properly initialized.\n",
    "- Specifically, the process-related attributes (like _popen, pid, and authkey) are not set up, and the internal machinery needed to spawn and manage the process is not configured.\n",
    "- As a result, when process.start() is called, it will fail because the process was not initialized correctly.\n",
    "### Solution: Call super().__init__()\n",
    "- To fix this issue, you need to call super().__init__() inside the __init__ method of the subclass.\n",
    "- This ensures that the Process class is properly initialized, setting up the necessary attributes and machinery to start and manage the process."
   ]
  },
  {
   "cell_type": "code",
   "execution_count": 8,
   "id": "bc3f8656-1e7b-41eb-acd5-c006750bdbe4",
   "metadata": {},
   "outputs": [],
   "source": [
    "from multiprocessing import Process\n",
    "\n",
    "# Subclassing Process and calling __init__()\n",
    "class MyProcess(Process):\n",
    "    def __init__(self, name):\n",
    "        super().__init__()  # Properly initialize the parent class\n",
    "        self.name = name\n",
    "\n",
    "    def run(self):\n",
    "        print(f\"Process {self.name} is running.\")\n",
    "\n",
    "if __name__ == \"__main__\":  # Necessary for multiprocessing in notebooks\n",
    "    # Create and start the process\n",
    "    process = MyProcess(name=\"TestProcess\")\n",
    "    process.start()\n",
    "    process.join()\n"
   ]
  },
  {
   "cell_type": "code",
   "execution_count": null,
   "id": "eec313ed-ca15-4085-8af0-dcbdb0a09b5a",
   "metadata": {},
   "outputs": [],
   "source": []
  }
 ],
 "metadata": {
  "kernelspec": {
   "display_name": "Python 3 (ipykernel)",
   "language": "python",
   "name": "python3"
  },
  "language_info": {
   "codemirror_mode": {
    "name": "ipython",
    "version": 3
   },
   "file_extension": ".py",
   "mimetype": "text/x-python",
   "name": "python",
   "nbconvert_exporter": "python",
   "pygments_lexer": "ipython3",
   "version": "3.13.0"
  },
  "widgets": {
   "application/vnd.jupyter.widget-state+json": {
    "state": {},
    "version_major": 2,
    "version_minor": 0
   }
  }
 },
 "nbformat": 4,
 "nbformat_minor": 5
}
