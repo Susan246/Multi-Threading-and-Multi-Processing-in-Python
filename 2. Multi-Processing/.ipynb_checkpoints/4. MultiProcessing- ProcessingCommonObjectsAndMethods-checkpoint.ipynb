{
 "cells": [
  {
   "cell_type": "markdown",
   "id": "4f3548c2-2ead-4894-93ce-6bea28e13db7",
   "metadata": {},
   "source": [
    "## 1. multiprocessing.Process() Objects and Methods:\n",
    "#### 1.1 start()\n",
    "- Starts the process by invoking the run() method in a separate memory space.\n",
    "\n",
    "#### 1.2 run()\n",
    "- Contains the code to be executed by the process. By default, it calls the target function.\n",
    "\n",
    "#### 1.3 join(timeout=None)\n",
    "- Blocks the calling thread until the process completes or the optional timeout expires.\n",
    "\n",
    "#### 1.4 is_alive()\n",
    "- Returns True if the process is currently running.\n",
    "\n",
    "#### 1.5 terminate()\n",
    "- Immediately terminates the process without cleanup.\n",
    "\n",
    "#### 1.6 kill()\n",
    "- Forcefully kills the process (available from Python 3.7).\n",
    "\n",
    "#### 1.7 exitcode\n",
    "- Returns the exit status of the process (e.g., 0 for success, None if not yet finished).\n",
    "\n",
    "#### 1.8 daemon\n",
    "- Boolean attribute that specifies whether the process runs as a daemon.\n",
    "\n",
    "#### 1.9 pid\n",
    "- The Process ID (PID) assigned by the operating system once the process starts.\n",
    "\n",
    "#### 1.10 name\n",
    "- The name of the process, useful for debugging or logging."
   ]
  },
  {
   "cell_type": "code",
   "execution_count": 1,
   "id": "1f3e93d6-e7b0-45f6-bf70-d2af66a23cde",
   "metadata": {},
   "outputs": [
    {
     "name": "stdout",
     "output_type": "stream",
     "text": [
      "Starting process: MyProcess\n",
      "Is process alive? True\n",
      "Process Name: MyProcess\n",
      "Process ID (PID): 23004\n",
      "Process Exit Code: 1\n",
      "Is process alive after completion? False\n"
     ]
    }
   ],
   "source": [
    "from multiprocessing import Process\n",
    "import os\n",
    "import time\n",
    "\n",
    "# Target function for the process\n",
    "def worker_task(name):\n",
    "    print(f\"Process {name} started with PID: {os.getpid()}\")\n",
    "    time.sleep(2)\n",
    "    print(f\"Process {name} finished.\")\n",
    "\n",
    "# Create a process\n",
    "process = Process(target=worker_task, args=(\"TestProcess\",), name=\"MyProcess\")\n",
    "\n",
    "# 1. Start the process\n",
    "print(f\"Starting process: {process.name}\")\n",
    "process.start()\n",
    "\n",
    "# 2. Check if the process is alive\n",
    "print(f\"Is process alive? {process.is_alive()}\")\n",
    "\n",
    "# 3. Get process attributes\n",
    "print(f\"Process Name: {process.name}\")\n",
    "print(f\"Process ID (PID): {process.pid}\")  # PID will be None until process starts\n",
    "\n",
    "# 4. Wait for process to complete\n",
    "process.join()\n",
    "\n",
    "# 5. Check exit status\n",
    "print(f\"Process Exit Code: {process.exitcode}\")\n",
    "print(f\"Is process alive after completion? {process.is_alive()}\")\n"
   ]
  },
  {
   "cell_type": "code",
   "execution_count": null,
   "id": "70962b77-9fd6-4609-a797-0d6502c7ea8b",
   "metadata": {},
   "outputs": [],
   "source": []
  },
  {
   "cell_type": "markdown",
   "id": "eb289fdc-5fb5-492e-b3b2-34aae2ae035e",
   "metadata": {},
   "source": [
    "### Why Do We Call start() Instead of run() in Multiprocessing?\n",
    "#### i. Using start() Method"
   ]
  },
  {
   "cell_type": "code",
   "execution_count": 1,
   "id": "12dc0191-cdcf-4897-952e-ac0ac058107f",
   "metadata": {},
   "outputs": [
    {
     "name": "stdout",
     "output_type": "stream",
     "text": [
      "Main process: 5600, iteration: 0\n",
      "Main process: 5600, iteration: 1\n",
      "Main process: 5600, iteration: 2\n"
     ]
    }
   ],
   "source": [
    "from multiprocessing import Process\n",
    "import os\n",
    "import time\n",
    "\n",
    "def task():\n",
    "    for i in range(5):\n",
    "        print(f\"Task running in process: {os.getpid()}, iteration: {i}\")\n",
    "        time.sleep(1)\n",
    "\n",
    "if __name__ == \"__main__\":\n",
    "    # Create a process and start it\n",
    "    process = Process(target=task)\n",
    "    process.start()\n",
    "    process.join()\n",
    "\n",
    "    # Main process continues its own execution\n",
    "    for i in range(3):\n",
    "        print(f\"Main process: {os.getpid()}, iteration: {i}\")\n",
    "        time.sleep(1)\n"
   ]
  },
  {
   "cell_type": "markdown",
   "id": "200b99f4-c9fe-4866-bd0f-d7fe34f39620",
   "metadata": {},
   "source": [
    "### What Happens Internally?\n",
    "a. Process Creation\n",
    "- process = Process(target=task) creates a new Process object and stores:\n",
    "- The task function in its _target attribute.\n",
    "- A unique process identifier (PID) is assigned upon creation (but not started yet).\n",
    "\n",
    "b. Calling start()\n",
    "\n",
    "process.start():\n",
    "- Spawns a new child process.\n",
    "- Allocates resources like memory and CPU for the child process.\n",
    "- The operating system assigns a new PID for the child process.\n",
    "- The process transitions to the RUNNABLE state and is ready to run.\n",
    "\n",
    "c. Scheduler Picks the Process\n",
    "- The operating system's process scheduler picks the child process for execution.\n",
    "- The parent and child processes now execute concurrently.\n",
    "\n",
    "d. Calling run() Automatically\n",
    "- Internally, the start() method calls the run() method of the child process.\n",
    "- The run() method executes the task() function in the child process's memory space.\n",
    "\n",
    "e. Parallel Execution\n",
    "- The task() function runs in the child process (separate memory space).\n",
    "- Meanwhile, the main process continues executing its code independently.\n"
   ]
  },
  {
   "cell_type": "code",
   "execution_count": null,
   "id": "d927b959-f0d8-413b-9a51-bb58e14f742b",
   "metadata": {},
   "outputs": [],
   "source": []
  },
  {
   "cell_type": "markdown",
   "id": "caf3ba31-f366-49b5-9150-852cd74f79f6",
   "metadata": {},
   "source": [
    "#### ii. Using run() Method"
   ]
  },
  {
   "cell_type": "code",
   "execution_count": 2,
   "id": "a2f6ebd5-b878-474b-aba5-53d955e101ca",
   "metadata": {},
   "outputs": [
    {
     "name": "stdout",
     "output_type": "stream",
     "text": [
      "Task running in process: 5600, iteration: 0\n",
      "Task running in process: 5600, iteration: 1\n",
      "Task running in process: 5600, iteration: 2\n",
      "Task running in process: 5600, iteration: 3\n",
      "Task running in process: 5600, iteration: 4\n",
      "Main process: 5600, iteration: 0\n",
      "Main process: 5600, iteration: 1\n",
      "Main process: 5600, iteration: 2\n"
     ]
    }
   ],
   "source": [
    "from multiprocessing import Process\n",
    "import os\n",
    "import time\n",
    "\n",
    "def task():\n",
    "    for i in range(5):\n",
    "        print(f\"Task running in process: {os.getpid()}, iteration: {i}\")\n",
    "        time.sleep(1)\n",
    "\n",
    "if __name__ == \"__main__\":\n",
    "    # Create a process and call run() directly\n",
    "    process = Process(target=task)\n",
    "    process.run()  # Directly calling run()\n",
    "\n",
    "    # Main process execution\n",
    "    for i in range(3):\n",
    "        print(f\"Main process: {os.getpid()}, iteration: {i}\")\n",
    "        time.sleep(1)\n"
   ]
  },
  {
   "cell_type": "markdown",
   "id": "480e257e-9105-4a4a-91e9-dbc8ed56afe0",
   "metadata": {},
   "source": [
    "### What Happens Internally?\n",
    "a. Process Creation\n",
    "- Similar to the start() example, process = Process(target=task) creates a Process object and stores the task function in _target.\n",
    "\n",
    "b. Calling run()\n",
    "- process.run() does not spawn a new process.\n",
    "- Instead, the run() method executes the task() function in the main process's memory space.\n",
    "- No new process is created, and no separate PID is assigned.\n",
    "\n",
    "c. Blocking Execution\n",
    "- Since the task() function runs in the main process, it blocks the main process.\n",
    "- The main process cannot continue executing its own code (e.g., its loop) until task() finishes.\n",
    "\n",
    "d. No Process Isolation\n",
    "- The run() method shares the same memory space as the main process.\n",
    "- This defeats the purpose of multiprocessing, as there’s no parallel execution."
   ]
  },
  {
   "cell_type": "code",
   "execution_count": null,
   "id": "4f564647-a513-4fe8-93fe-3acec06ee916",
   "metadata": {},
   "outputs": [],
   "source": []
  }
 ],
 "metadata": {
  "kernelspec": {
   "display_name": "Python 3 (ipykernel)",
   "language": "python",
   "name": "python3"
  },
  "language_info": {
   "codemirror_mode": {
    "name": "ipython",
    "version": 3
   },
   "file_extension": ".py",
   "mimetype": "text/x-python",
   "name": "python",
   "nbconvert_exporter": "python",
   "pygments_lexer": "ipython3",
   "version": "3.13.0"
  },
  "widgets": {
   "application/vnd.jupyter.widget-state+json": {
    "state": {},
    "version_major": 2,
    "version_minor": 0
   }
  }
 },
 "nbformat": 4,
 "nbformat_minor": 5
}
