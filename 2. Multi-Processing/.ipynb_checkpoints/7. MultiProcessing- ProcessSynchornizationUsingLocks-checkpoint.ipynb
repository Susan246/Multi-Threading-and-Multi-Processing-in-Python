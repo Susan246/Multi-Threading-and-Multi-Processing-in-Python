{
 "cells": [
  {
   "cell_type": "markdown",
   "id": "9634df26-9719-418b-ae77-286e7e64c59d",
   "metadata": {},
   "source": [
    "# Process Synchronization"
   ]
  },
  {
   "cell_type": "markdown",
   "id": "564e5b47-4e40-4c9a-8f16-38ac286766ef",
   "metadata": {},
   "source": [
    "## Race Condition:\n",
    "### Scenario: Bus Seat Reservation\n",
    "A bus has 2 available seats. Two users, Susan and Prajwal, try to reserve seats concurrently:\n",
    "- Susan wants to book 2 seats.\n",
    "- Prajwal wants to book 1 seat."
   ]
  },
  {
   "cell_type": "code",
   "execution_count": 4,
   "id": "15bc1da4-5262-442a-aab9-400882c879f3",
   "metadata": {},
   "outputs": [],
   "source": [
    "from multiprocessing import Process, Value, current_process\n",
    "from time import sleep\n",
    "\n",
    "class Bus:\n",
    "    def __init__(self, name, available_seats):\n",
    "        self.name = name\n",
    "        self.available_seats = available_seats  # No lock, just shared memory\n",
    "\n",
    "    def reserve(self, need_seats):\n",
    "        print(f\"Process {current_process().name} attempting to reserve {need_seats} seat(s)...\")\n",
    "        print(f\"Available seats are: {self.available_seats.value}\")\n",
    "        if self.available_seats.value >= need_seats:\n",
    "            nm = current_process().name\n",
    "            sleep(0.5)  # Simulate a longer delay to increase the chance of race condition\n",
    "            self.available_seats.value -= need_seats  # Update the available seats in shared memory\n",
    "            print(f\"{need_seats} seat(s) are allocated to {nm}\")\n",
    "        else:\n",
    "            print(f\"Sorry! Not enough seats for {current_process().name}\")\n",
    "\n",
    "def main():\n",
    "    # Create a shared memory object for available seats\n",
    "    available_seats = Value('i', 2)  # Shared memory, initially 2 seats\n",
    "\n",
    "    # Create a bus with the shared available seats\n",
    "    b1 = Bus(\"Makalu Yatayat\", available_seats)\n",
    "\n",
    "    # Create processes for Susan and Prajwal\n",
    "    p1 = Process(target=b1.reserve, args=(2,), name=\"Susan\")\n",
    "    p2 = Process(target=b1.reserve, args=(1,), name=\"Prajwal\")\n",
    "\n",
    "    # Start processes\n",
    "    p1.start()\n",
    "    p2.start()\n",
    "\n",
    "    # Wait for processes to finish\n",
    "    p1.join()\n",
    "    p2.join()\n",
    "\n",
    "if __name__ == \"__main__\":\n",
    "    main()\n"
   ]
  },
  {
   "cell_type": "markdown",
   "id": "e5011f45-39cb-40fb-b455-9c94852d23d6",
   "metadata": {},
   "source": [
    "### Issues (Race Condition):\n",
    "- Simultaneous Access: Both threads may check self.available_seats (2 seats) before it is updated, thinking seats are available.\n",
    "\n",
    "- Inconsistent Results: Both threads may reserve seats, resulting in negative seat count or overselling."
   ]
  },
  {
   "cell_type": "code",
   "execution_count": null,
   "id": "c51b9da7-5812-44ea-993d-7b0cba7fe44d",
   "metadata": {},
   "outputs": [],
   "source": []
  },
  {
   "cell_type": "markdown",
   "id": "da64b7db-f13e-4e3f-9263-225f7cc18bcf",
   "metadata": {},
   "source": [
    "## 1. Solution with Mutex Lock:\n",
    "- To solve the race condition and prevent data corruption, we can use a mutex lock to synchronize access to the shared counter variable. This ensures that only one process can modify the counter at a time, preventing the processes from interfering with each other.\n",
    "\n",
    "### acquire(blocking=True,timeout=-1):\n",
    "- Blocks until the lock is available.\n",
    "- Optionally accepts a timeout parameter (default is -1, meaning block indefinitely).\n",
    "- Returns True when the lock is acquired, False if the timeout expires without acquiring it.\n",
    "\n",
    "### release():\n",
    "- Releases the lock, allowing other process to acquire it.\n",
    "- Must be called by the process holding the lock.\n",
    "- Raises a RuntimeError if called by a process that doesn't hold the lock."
   ]
  },
  {
   "cell_type": "code",
   "execution_count": 7,
   "id": "08d0722b-c8b7-4dcf-bf0a-1b96ff232915",
   "metadata": {},
   "outputs": [],
   "source": [
    "from multiprocessing import Process, Lock, Value\n",
    "from time import sleep\n",
    "\n",
    "class Bus:\n",
    "    def __init__(self, name, available_seats):\n",
    "        self.name = name\n",
    "        self.lock = Lock()  # Create a lock\n",
    "        self.available_seats = available_seats  # No change here, it's already a shared Value\n",
    "\n",
    "    def reserve(self, need_seats):\n",
    "        print(f\"Process {current_process().name} attempting to reserve {need_seats} seat(s)...\")\n",
    "        with self.lock:  # Ensure only one process can access this part at a time\n",
    "            print(f\"Available seats are: {self.available_seats.value}\")\n",
    "            if self.available_seats.value >= need_seats:\n",
    "                nm = current_process().name\n",
    "                self.available_seats.value -= need_seats  # Update the available seats in shared memory\n",
    "                print(f\"{need_seats} seat(s) are allocated to {nm}\")\n",
    "                sleep(1)  # Simulate processing delay\n",
    "            else:\n",
    "                print(f\"Sorry! Not enough seats for {current_process().name}\")\n",
    "\n",
    "def main():\n",
    "    # Create a shared memory object for available seats\n",
    "    available_seats = Value('i', 2)  # Shared memory, initially 2 seats\n",
    "\n",
    "    # Create a bus with the shared available seats\n",
    "    b1 = Bus(\"Makalu Yatayat\", available_seats)\n",
    "\n",
    "    # Create processes for Susan and Prajwal\n",
    "    p1 = Process(target=b1.reserve, args=(2,), name=\"Susan\")\n",
    "    p2 = Process(target=b1.reserve, args=(1,), name=\"Prajwal\")\n",
    "\n",
    "    # Start processes\n",
    "    p1.start()\n",
    "    p2.start()\n",
    "\n",
    "    # Wait for processes to finish\n",
    "    p1.join()\n",
    "    p2.join()\n",
    "\n",
    "if __name__ == \"__main__\":\n",
    "    main()\n"
   ]
  },
  {
   "cell_type": "markdown",
   "id": "ee9a486e-179e-42dd-96a8-ec4af8f14584",
   "metadata": {},
   "source": [
    "### How the Lock Solves the Issue:\n",
    "- The with self.lock ensures that only one process executes the reserve method at a time.\n",
    "- It prevents simultaneous access to the shared available_seats variable, avoiding overselling or inconsistencies."
   ]
  },
  {
   "cell_type": "markdown",
   "id": "fab677bf-86a7-4bd5-b9e6-2bae0f0304b8",
   "metadata": {},
   "source": [
    "### Disadvantages of Mutex Lock:\n",
    "#### i. Cannot be Acquired Multiple Times by the Same Process:\n",
    "\n",
    "- A mutex lock can only be acquired once by the process that holds it. If the same process tries to acquire it again (in nested calls), it will cause a deadlock.\n",
    "- This makes it unsuitable for recursive or reentrant operations that require the process to enter the locked section multiple times.\n"
   ]
  },
  {
   "cell_type": "markdown",
   "id": "2d4bb68c-f1a6-4be3-ae94-9802272aac20",
   "metadata": {},
   "source": [
    "### Why we use multiple locks on same resource?\n",
    "- Multiple locks on the same resource can happen due to mistakes by the developer, especially if they are unaware of how other parts of the code are locking the same resource. This can lead to issues like deadlocks or performance inefficiencies."
   ]
  },
  {
   "cell_type": "code",
   "execution_count": null,
   "id": "e00e987a-c879-4f7c-9a2a-ff6beea642f2",
   "metadata": {},
   "outputs": [],
   "source": []
  },
  {
   "cell_type": "code",
   "execution_count": null,
   "id": "f3ef6261-747f-4995-8ef3-8367e730c16f",
   "metadata": {},
   "outputs": [],
   "source": []
  },
  {
   "cell_type": "markdown",
   "id": "ff8020c6-a6fd-4e6b-a6d3-ddd2bcbd284b",
   "metadata": {},
   "source": [
    "## 2. Solution with Rlock:"
   ]
  },
  {
   "cell_type": "markdown",
   "id": "257babff-69be-43a0-92bc-770db82e9611",
   "metadata": {},
   "source": [
    "### 2.1 Problem of Mutex Lock in Processes:"
   ]
  },
  {
   "cell_type": "code",
   "execution_count": 9,
   "id": "971d6ea2-0c6d-4db9-b13e-29351b85f734",
   "metadata": {},
   "outputs": [
    {
     "name": "stdout",
     "output_type": "stream",
     "text": [
      "Final Counter Value: 0\n"
     ]
    }
   ],
   "source": [
    "from multiprocessing import Process, Lock\n",
    "from time import sleep\n",
    "\n",
    "# Shared resource\n",
    "counter = 0\n",
    "\n",
    "# Create a mutex lock\n",
    "mutex = Lock()\n",
    "\n",
    "def increment():\n",
    "    global counter\n",
    "    mutex.acquire()  # Acquire lock for the first time\n",
    "    counter += 1\n",
    "    print(f\"Counter after increment: {counter}\")\n",
    "    \n",
    "    mutex.acquire()  # Attempt to acquire the lock again (This will cause a deadlock)\n",
    "    counter += 1\n",
    "    print(f\"Counter after second increment: {counter}\")\n",
    "    mutex.release()  # Release lock\n",
    "    mutex.release()  # Release lock again\n",
    "\n",
    "if __name__ == \"__main__\":\n",
    "    # Start a process\n",
    "    process = Process(target=increment)\n",
    "    process.start()\n",
    "    process.join()\n",
    "\n",
    "    print(f\"Final Counter Value: {counter}\")\n"
   ]
  },
  {
   "cell_type": "markdown",
   "id": "09248c73-91e1-48d6-ac9b-bd0d06c0c8ca",
   "metadata": {},
   "source": [
    "### Issue:\n",
    "- When the increment() function runs, it acquires the lock and increments the counter.\n",
    "- After the first counter += 1, the function attempts to acquire the same lock again with mutex.acquire().\n",
    "- The Mutex lock does not allow the same process to acquire the lock again, and the second mutex.acquire() causes a deadlock.\n",
    "- The process is waiting for itself to release the lock, and the program hangs indefinitely.\n",
    "\n",
    "### How RLock Solves the Issue:\n",
    "- RLock (Reentrant Lock) allows the same process to acquire the same lock multiple times without causing a deadlock.\n",
    "- It works by tracking the number of times a process has acquired the lock.\n",
    "- The process can call acquire() multiple times, and it must call release() the same number of times to release the lock."
   ]
  },
  {
   "cell_type": "code",
   "execution_count": null,
   "id": "2a71aa13-86ab-4239-b33d-e663cef47257",
   "metadata": {},
   "outputs": [],
   "source": []
  },
  {
   "cell_type": "markdown",
   "id": "df88616a-9724-46dd-a0a2-eb871527e0fd",
   "metadata": {},
   "source": [
    "### 2.1 Solution Using RLock:"
   ]
  },
  {
   "cell_type": "code",
   "execution_count": 10,
   "id": "7ef1e65e-bac7-4e18-81b8-a25c81e83400",
   "metadata": {},
   "outputs": [
    {
     "name": "stdout",
     "output_type": "stream",
     "text": [
      "Final Counter Value: 0\n"
     ]
    }
   ],
   "source": [
    "from multiprocessing import Process, RLock\n",
    "from time import sleep\n",
    "\n",
    "# Shared resource\n",
    "counter = 0\n",
    "\n",
    "# Create a reentrant lock (RLock)\n",
    "rlock = RLock()\n",
    "\n",
    "def increment():\n",
    "    global counter\n",
    "    rlock.acquire()  # Acquire lock for the first time\n",
    "    counter += 1\n",
    "    print(f\"Counter after increment: {counter}\")\n",
    "    \n",
    "    rlock.acquire()  # Successfully acquire the lock again (No deadlock)\n",
    "    counter += 1\n",
    "    print(f\"Counter after second increment: {counter}\")\n",
    "    rlock.release()  # Release lock\n",
    "    rlock.release()  # Release lock again\n",
    "\n",
    "if __name__ == \"__main__\":\n",
    "    # Start a process\n",
    "    process = Process(target=increment)\n",
    "    process.start()\n",
    "    process.join()\n",
    "\n",
    "    print(f\"Final Counter Value: {counter}\")\n"
   ]
  },
  {
   "cell_type": "markdown",
   "id": "78a6457e-6466-472a-95f3-819edb64355d",
   "metadata": {},
   "source": [
    "### Key Points for Processes:\n",
    "- Matching acquire and release: For each acquire(), there must be a corresponding release().\n",
    "- Cannot release more times than acquired: Calling release() more times than acquire() raises a RuntimeError.\n",
    "- Cannot release without acquiring: You cannot release() a lock without first calling acquire().\n",
    "- Multiple acquires by the same process: A process can acquire the lock multiple times (using RLock), but it must release it the same number of times.\n",
    "- Process ownership: Only the process that acquired the lock can release it; other processes cannot release it.\n",
    "\n",
    "### Limitation of Locks and RLocks for Processes:\n",
    "- Single Process Access: Locks (including RLocks) only allow one process to acquire the lock at any given time. This means only one process can execute the critical section of code while others are blocked, limiting concurrency."
   ]
  },
  {
   "cell_type": "code",
   "execution_count": null,
   "id": "b5608cbe-62f2-4ee5-893b-51e0cd9044b9",
   "metadata": {},
   "outputs": [],
   "source": []
  },
  {
   "cell_type": "code",
   "execution_count": null,
   "id": "29ecf9d3-dd2e-457f-aa40-1791a2081457",
   "metadata": {},
   "outputs": [],
   "source": []
  },
  {
   "cell_type": "markdown",
   "id": "2daba438-7d1f-42c5-9562-bce6ce6fde76",
   "metadata": {},
   "source": [
    "## 3. Solution with Semaphore for Processes:\n",
    "- A semaphore is a synchronization primitive used to control access to a shared resource by multiple processes in a concurrent system. It maintains a counter, which indicates the number of available resources or the number of processes that can access the critical section.\n",
    "### 3.1 Unbounded Semaphore (No Limit):\n",
    "#### What is it?\n",
    "- An unbounded semaphore doesn’t have a fixed limit. It starts with an initial number of tickets, but you can keep releasing tickets as long as you want.\n",
    "- Example: Imagine you have 3 tickets to start with, but after a process finishes, you can release as many tickets as you like, and new processes can keep acquiring them.\n",
    "#### How it works:\n",
    "- If you initialize the semaphore with 3 permits, processes will be able to acquire permits like before.\n",
    "- But if you release more tickets than you started with, the semaphore counter can grow. It doesn't throw an error for releasing more tickets than initially acquired."
   ]
  },
  {
   "cell_type": "code",
   "execution_count": 11,
   "id": "2d38774f-1a79-4edc-ae35-0a75872d3a8e",
   "metadata": {},
   "outputs": [
    {
     "name": "stdout",
     "output_type": "stream",
     "text": [
      "All processes have finished.\n"
     ]
    }
   ],
   "source": [
    "from multiprocessing import Process, Semaphore, current_process\n",
    "import time\n",
    "\n",
    "# Unbounded semaphore with 3 permits\n",
    "semaphore = Semaphore(3)\n",
    "\n",
    "def use_resource():\n",
    "    # Correct way to get the process name\n",
    "    current_process_name = current_process().name\n",
    "    print(f\"{current_process_name} is trying to acquire a ticket...\")\n",
    "    semaphore.acquire()  # Try to acquire a permit (ticket)\n",
    "    print(f\"{current_process_name} is using the resource.\")\n",
    "    time.sleep(1)  # Simulate using the resource\n",
    "    print(f\"{current_process_name} is releasing the ticket.\")\n",
    "    semaphore.release()  # Release the permit (ticket)\n",
    "\n",
    "def main():\n",
    "    # Create 5 processes (more than the permits)\n",
    "    processes = [Process(target=use_resource, name=f\"Process-{i}\") for i in range(5)]\n",
    "\n",
    "    # Start the processes\n",
    "    for p in processes:\n",
    "        p.start()\n",
    "\n",
    "    # Wait for all processes to finish\n",
    "    for p in processes:\n",
    "        p.join()\n",
    "\n",
    "    print(\"All processes have finished.\")\n",
    "\n",
    "if __name__ == \"__main__\":\n",
    "    main()\n"
   ]
  },
  {
   "cell_type": "markdown",
   "id": "6a79c0b4-9e42-4161-ade2-996e4dad0c3f",
   "metadata": {},
   "source": [
    "### Explanation:\n",
    "- Semaphore starts with 3 tickets.\n",
    "- 3 processes acquire tickets, so the counter goes from 3 → 0.\n",
    "- After using the resource, each process releases a ticket.\n",
    "- After releasing 3 tickets, the semaphore counter becomes 3 again.\n",
    "- If 4 tickets are released (e.g., releasing a 4th ticket when the counter is 0), the semaphore counter goes to 4."
   ]
  },
  {
   "cell_type": "code",
   "execution_count": null,
   "id": "798edb2e-f016-40cd-8d28-3a3d07848adf",
   "metadata": {},
   "outputs": [],
   "source": []
  },
  {
   "cell_type": "markdown",
   "id": "14919ef6-648a-41b8-844a-9c1a1d63cbfc",
   "metadata": {},
   "source": [
    "### 3.2 Bounded Semaphore (Fixed Limit) for Processes:\n",
    "#### What is it?\n",
    "- A bounded semaphore is a semaphore that has a fixed maximum limit on how many processes can access the resource at the same time.\n",
    "- Example: Imagine you have 3 tickets (permits) for 3 people to access a printer. Once 3 people are using the printer, the 4th person has to wait because all tickets are taken.\n",
    "#### How it works:\n",
    "- If you initialize a bounded semaphore with 3 permits, only 3 processes can access the resource at once.\n",
    "- Once the limit is reached, new processes will have to wait until someone finishes and releases a ticket."
   ]
  },
  {
   "cell_type": "code",
   "execution_count": 12,
   "id": "cda696a0-f8eb-45c2-86bd-98da3794d144",
   "metadata": {},
   "outputs": [
    {
     "name": "stdout",
     "output_type": "stream",
     "text": [
      "All processes have finished.\n"
     ]
    }
   ],
   "source": [
    "from multiprocessing import Process, BoundedSemaphore, current_process\n",
    "import time\n",
    "\n",
    "# Bounded semaphore with 3 permits\n",
    "semaphore = BoundedSemaphore(3)\n",
    "\n",
    "def use_resource():\n",
    "    # Correct way to get the process name\n",
    "    current_process_name = current_process().name\n",
    "    print(f\"{current_process_name} is trying to acquire a ticket...\")\n",
    "    semaphore.acquire()  # Try to acquire a permit (ticket)\n",
    "    print(f\"{current_process_name} is using the resource.\")\n",
    "    time.sleep(1)  # Simulate using the resource\n",
    "    print(f\"{current_process_name} is releasing the ticket.\")\n",
    "    semaphore.release()  # Release the permit (ticket)\n",
    "\n",
    "def main():\n",
    "    # Create 5 processes (more than the permits)\n",
    "    processes = [Process(target=use_resource, name=f\"Process-{i}\") for i in range(5)]\n",
    "\n",
    "    # Start the processes\n",
    "    for p in processes:\n",
    "        p.start()\n",
    "\n",
    "    # Wait for all processes to finish\n",
    "    for p in processes:\n",
    "        p.join()\n",
    "\n",
    "    print(\"All processes have finished.\")\n",
    "\n",
    "if __name__ == \"__main__\":\n",
    "    main()\n"
   ]
  },
  {
   "cell_type": "markdown",
   "id": "f42314f7-9146-4612-b408-be4110d2ef51",
   "metadata": {},
   "source": [
    "### Explanation:\n",
    "- Semaphore starts with a fixed number of tickets (e.g., 3).\n",
    "- Processes acquire tickets: The counter decreases as processes acquire tickets. For example, 3 processes acquire tickets, so the counter goes from 3 → 0.\n",
    "- Once the semaphore reaches 0, no more processes can acquire a ticket. They must wait until a ticket is released.\n",
    "- After a process finishes using the resource, it releases a ticket. The counter increases by 1 for each release.\n",
    "- If a process tries to release more tickets than the initial limit (3), the semaphore will not allow it, and the ticket count will remain within the initial limit."
   ]
  },
  {
   "cell_type": "code",
   "execution_count": null,
   "id": "a9c6c2d4-7d0c-4a42-a044-df76de6e90a6",
   "metadata": {},
   "outputs": [],
   "source": []
  },
  {
   "cell_type": "markdown",
   "id": "77c44adb-88f2-45da-ac00-07294889494d",
   "metadata": {},
   "source": [
    "## How semaphore eliminate race condition for process?\n",
    "### What Semaphore Can Do:\n",
    "- Control access: Semaphore allows multiple processes to access a shared resource concurrently, but it limits the number of processes that can access the resource at any given time.\n",
    "- Concurrency management: By limiting the number of processes, it can prevent the system from being overwhelmed by too many processes trying to access a resource simultaneously.\n",
    "### What Semaphore Cannot Do:\n",
    "- Prevent race conditions: Semaphore by itself does not guarantee that multiple processes won't modify shared data concurrently, leading to race conditions. Multiple processes can still access and modify shared data simultaneously unless mutual exclusion (via locks) is implemented.\n",
    "\n",
    "### Eliminating Race Conditions with Semaphore + Lock\n",
    "To eliminate race conditions while using semaphores, semaphores control the concurrency (how many processes can access a resource), and locks (like Lock) ensure mutual exclusion when processes modify the shared resource.\n",
    "\n",
    "- Semaphore: Controls how many processes can access the critical section at a time.\n",
    "- Lock: Ensures that only one process can modify the shared resource at a time, thus preventing race conditions."
   ]
  },
  {
   "cell_type": "code",
   "execution_count": null,
   "id": "287f4521-1631-4eaa-a3b9-30b86ac9d45b",
   "metadata": {},
   "outputs": [],
   "source": [
    "from multiprocessing import Process, Semaphore, Lock, Value, current_process\n",
    "import time\n",
    "\n",
    "# Shared resource (counter)\n",
    "counter = Value('i', 0)\n",
    "\n",
    "# Semaphore allowing up to 3 processes to access the shared resource\n",
    "semaphore = Semaphore(3)\n",
    "\n",
    "# Lock to ensure mutual exclusion when modifying the shared resource\n",
    "lock = Lock()\n",
    "\n",
    "def increment():\n",
    "    semaphore.acquire()  # Limit the number of processes accessing the resource\n",
    "    \n",
    "    with lock:  # Ensure only one process modifies the counter at a time\n",
    "        current_value = counter.value\n",
    "        time.sleep(0.1)  # Simulate some processing\n",
    "        counter.value = current_value + 1\n",
    "        print(f\"Counter incremented by {current_process().name}. New counter: {counter.value}\")\n",
    "    \n",
    "    semaphore.release()  # Allow another process to access the resource\n",
    "\n",
    "def main():\n",
    "    # Create and start multiple processes\n",
    "    processes = []\n",
    "    for i in range(5):\n",
    "        process = Process(target=increment, name=f\"Process-{i+1}\")\n",
    "        processes.append(process)\n",
    "        process.start()\n",
    "\n",
    "    # Wait for all processes to finish\n",
    "    for process in processes:\n",
    "        process.join()\n",
    "\n",
    "    print(f\"Final Counter Value: {counter.value}\")\n",
    "\n",
    "if __name__ == \"__main__\":\n",
    "    main()\n"
   ]
  }
 ],
 "metadata": {
  "kernelspec": {
   "display_name": "Python 3 (ipykernel)",
   "language": "python",
   "name": "python3"
  },
  "language_info": {
   "codemirror_mode": {
    "name": "ipython",
    "version": 3
   },
   "file_extension": ".py",
   "mimetype": "text/x-python",
   "name": "python",
   "nbconvert_exporter": "python",
   "pygments_lexer": "ipython3",
   "version": "3.13.0"
  },
  "widgets": {
   "application/vnd.jupyter.widget-state+json": {
    "state": {},
    "version_major": 2,
    "version_minor": 0
   }
  }
 },
 "nbformat": 4,
 "nbformat_minor": 5
}
