{
 "cells": [
  {
   "cell_type": "markdown",
   "id": "dcbcf583-ae79-452a-adb2-ca071fb3725a",
   "metadata": {},
   "source": [
    "# Process Synchronization Using Barrier Object:"
   ]
  },
  {
   "cell_type": "markdown",
   "id": "c858148e-9abf-429b-b331-8a35ace17a5f",
   "metadata": {},
   "source": [
    "### Barrier Objects for Processes:\n",
    "- In Python's multiprocessing module, a Barrier is used to synchronize a set of processes, ensuring that they all reach a certain point in their execution before proceeding. The concept is similar to thread synchronization, but it is designed to work with processes instead of threads. This is useful when you need to coordinate multiple processes, such as in parallel computations or when processes depend on each other to complete a task before continuing.\n",
    "\n",
    "### Methods and Attributes of multiprocessing.Barrier:\n",
    "#### i. wait(timeout=None):\n",
    "- Purpose: Used by processes to wait at the barrier.\n",
    "- How It Works: When a process calls barrier.wait(), it blocks until all participating processes have also called wait(). Once all processes have called wait(), the barrier is released, and all processes can proceed with their execution.\n",
    "- Timeout: The timeout parameter allows the process to wait for a specific time before raising a TimeoutError if not all processes reach the barrier.\n",
    "#### ii. abort():\n",
    "- Purpose: Used to abort the barrier and reset its state.\n",
    "- How It Works: If a process needs to stop the barrier prematurely, it can call barrier.abort(). This will cause the barrier to reset, and any process that subsequently calls wait() will raise a BrokenBarrierError, signaling that the barrier was aborted.\n",
    "#### iii. n_waiting:\n",
    "- Purpose: Provides the number of processes currently waiting at the barrier.\n",
    "- How It Works: This attribute can be used to check how many processes are waiting to synchronize at the barrier before they can all proceed.\n",
    "#### iv. parties:\n",
    "- Purpose: Returns the total number of processes that need to reach the barrier before it is released.\n",
    "- How It Works: This attribute indicates how many processes must call wait() before the barrier is triggered. It is set when the barrier is initialized and is usually the same number for all participating processes."
   ]
  },
  {
   "cell_type": "code",
   "execution_count": null,
   "id": "139f253f-a034-479e-a295-4932babc4741",
   "metadata": {},
   "outputs": [],
   "source": []
  },
  {
   "cell_type": "markdown",
   "id": "4ff028f0-2347-42cc-8bd5-ad591dc37af1",
   "metadata": {},
   "source": [
    "## Scenario:\n",
    "- We have four players playing a game. Each player plays 3 rounds of the game. After completing their rounds, they should wait for all players to finish before they can receive their winning amount. The issue is that without synchronization, players might receive their winnings at different times, potentially causing inconsistent results."
   ]
  },
  {
   "cell_type": "markdown",
   "id": "f79f76d4-c56a-48fd-a9b9-86044a6c4f5a",
   "metadata": {},
   "source": [
    "### 1. Solution Without Barrier:\n",
    "- In this approach, the players will execute independently, without waiting for each other. This could lead to players receiving their winnings before the others have completed their tasks."
   ]
  },
  {
   "cell_type": "code",
   "execution_count": 2,
   "id": "256b7e63-8c13-48fa-aff1-dd8a654d01de",
   "metadata": {},
   "outputs": [
    {
     "name": "stdout",
     "output_type": "stream",
     "text": [
      "All players have received their winning amount.\n"
     ]
    }
   ],
   "source": [
    "import multiprocessing\n",
    "import time\n",
    "\n",
    "def player(name):\n",
    "    print(f\"{name} started playing.\")\n",
    "    \n",
    "    # Simulate the playing process (a task each player does)\n",
    "    for i in range(3):\n",
    "        time.sleep(3)\n",
    "        print(f\"{name} is playing round {i + 1}\")\n",
    "    \n",
    "    # After finishing playing, the player immediately sends the winning amount\n",
    "    print(f\"sending winning amount to {name}\")\n",
    "\n",
    "def main():\n",
    "    # List of players\n",
    "    players_name = ['susan', 'pratik', 'suman', 'nijam']\n",
    "    processes = []\n",
    "\n",
    "    # Create and start processes\n",
    "    for name in players_name:\n",
    "        process = multiprocessing.Process(target=player, args=(name,))\n",
    "        processes.append(process)\n",
    "        process.start()\n",
    "\n",
    "    # Wait for all processes to finish\n",
    "    for process in processes:\n",
    "        process.join()\n",
    "\n",
    "    print(\"All players have received their winning amount.\")\n",
    "\n",
    "if __name__ == \"__main__\":\n",
    "    main()\n"
   ]
  },
  {
   "cell_type": "markdown",
   "id": "6e42b938-f6ae-4e5b-803b-ca002d5fad19",
   "metadata": {},
   "source": [
    "### Issues Without Barrier:\n",
    "- Inconsistent flow: Some players may finish early and get their winnings while others are still playing.\n",
    "- No synchronization: There's no enforced wait time for all players to finish before the next phase.\n",
    "- Race conditions: The timing of each player's process execution could lead to unpredictable results."
   ]
  },
  {
   "cell_type": "code",
   "execution_count": null,
   "id": "3cf55df4-b7f2-4461-82c7-5dd9fba1be28",
   "metadata": {},
   "outputs": [],
   "source": []
  },
  {
   "cell_type": "markdown",
   "id": "940e8455-ff65-4844-8694-96925221a113",
   "metadata": {},
   "source": [
    "### 2. Solution With Barrier:\n",
    "- In this approach, we'll use a Barrier to synchronize the players. This ensures that all players must finish their rounds before they can proceed to the \"winning amount\" phase. The Barrier will block each player process until all processes reach it, and only then will the processes proceed."
   ]
  },
  {
   "cell_type": "code",
   "execution_count": 4,
   "id": "9907cb85-0d3d-4d4f-b073-25928a180482",
   "metadata": {},
   "outputs": [
    {
     "name": "stdout",
     "output_type": "stream",
     "text": [
      "All winning players have received their winning amount.\n"
     ]
    }
   ],
   "source": [
    "import multiprocessing\n",
    "import time\n",
    "\n",
    "def player(name, barrier):\n",
    "    print(f\"{name} started playing.\")\n",
    "    \n",
    "    # Simulate the playing process (a task each player does)\n",
    "    for i in range(3):\n",
    "        time.sleep(3)\n",
    "        print(f\"{name} is playing round {i + 1}\")\n",
    "    \n",
    "    # Synchronize the players: make them wait until all have finished playing\n",
    "    print(f\"{name} finished playing and is waiting for others.\")\n",
    "    barrier.wait()  # All processes will wait at this point\n",
    "\n",
    "    # After all players are done, they proceed to the next task\n",
    "    print(f\"sending winning amount to {name}\")\n",
    "\n",
    "def main():\n",
    "    # List of players\n",
    "    players_name = ['susan', 'pratik', 'suman', 'nijam']\n",
    "    Processes = []\n",
    "    \n",
    "    # Create a Barrier for 4 players\n",
    "    barrier = multiprocessing.Barrier(4)\n",
    "\n",
    "    # Create and start processes\n",
    "    for name in players_name:\n",
    "        process = multiprocessing.Process(target=player, args=(name, barrier))\n",
    "        Processes.append(process)\n",
    "        process.start()\n",
    "\n",
    "    # Wait for all processes to finish\n",
    "    for process in Processes:\n",
    "        process.join()\n",
    "\n",
    "    print(\"All winning players have received their winning amount.\")\n",
    "\n",
    "if __name__ == \"__main__\":\n",
    "    main()\n"
   ]
  },
  {
   "cell_type": "markdown",
   "id": "b42d1b28-5615-485d-b88d-9879ccfd8efb",
   "metadata": {},
   "source": [
    "### Advantages of Barrier Object:\n",
    "- Process Synchronization: Ensures all processes reach a certain point before proceeding.\n",
    "- Prevents Race Conditions: Eliminates conflicts by coordinating process execution.\n",
    "- Coordinated Execution: Aligns processes to perform tasks in a specific order.\n",
    "- Prevents Deadlocks: Avoids situations where processes are stuck waiting on each other.\n",
    "\n",
    "### Use Cases for Barrier Object:\n",
    "- Parallel Data Processing: Synchronizing multiple processes that perform portions of a task and need to wait for each other to proceed with the next phase.\n",
    "- Multi-phase Computations: In algorithms that require all processes to complete one phase before moving on to the next (e.g., simulation models).\n",
    "- Batch Processing: Ensuring that processes perform their work in synchronization before moving on to the next step.\n",
    "- Synchronization of Workers: In scenarios where multiple workers need to synchronize at specific points (e.g., map-reduce frameworks)."
   ]
  },
  {
   "cell_type": "code",
   "execution_count": null,
   "id": "c759b958-b512-42e9-b441-e9f8ccf05973",
   "metadata": {},
   "outputs": [],
   "source": []
  }
 ],
 "metadata": {
  "kernelspec": {
   "display_name": "Python 3 (ipykernel)",
   "language": "python",
   "name": "python3"
  },
  "language_info": {
   "codemirror_mode": {
    "name": "ipython",
    "version": 3
   },
   "file_extension": ".py",
   "mimetype": "text/x-python",
   "name": "python",
   "nbconvert_exporter": "python",
   "pygments_lexer": "ipython3",
   "version": "3.13.0"
  },
  "widgets": {
   "application/vnd.jupyter.widget-state+json": {
    "state": {},
    "version_major": 2,
    "version_minor": 0
   }
  }
 },
 "nbformat": 4,
 "nbformat_minor": 5
}
