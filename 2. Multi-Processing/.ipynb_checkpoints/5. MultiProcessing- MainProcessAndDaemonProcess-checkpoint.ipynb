{
 "cells": [
  {
   "cell_type": "markdown",
   "id": "72c7fd47-bafe-4cec-90f8-5845b4bd5228",
   "metadata": {},
   "source": [
    "# 1. Main Process:\n",
    "- The Main Process is the primary process that is created when a Python program starts execution. It serves as the entry point for the program and is responsible for orchestrating the entire program's workflow, including managing resources, spawning child processes, and ensuring orderly termination."
   ]
  },
  {
   "cell_type": "markdown",
   "id": "7b8949a7-29bd-4727-ac86-2514895715f5",
   "metadata": {},
   "source": [
    "## 1.1 Lifecycle of the Main Process:\n",
    "#### i. Creation:\n",
    "- The Main Process is automatically created when the Python interpreter starts.\n",
    "- Its memory space and resources are allocated, and the entry point (if __name__ == \"__main__\":) is executed.\n",
    "#### ii. Execution:\n",
    "- The Main Process executes all the instructions in the Python script sequentially.\n",
    "- During execution, it can create threads or processes for concurrent or parallel tasks.\n",
    "#### iii. Waiting for Child Processes:\n",
    "- The Main Process waits for all non-daemon child processes to complete using the join() method implicitly or explicitly.\n",
    "- Daemon processes are terminated abruptly when the Main Process exits.\n",
    "#### iv. Termination:\n",
    "- Once all tasks are completed, the Main Process cleans up resources, including:\n",
    "- Closing open file descriptors.\n",
    "- Releasing locks or memory."
   ]
  },
  {
   "cell_type": "code",
   "execution_count": null,
   "id": "cd999909-b7e9-496b-8639-8d87317c5fb8",
   "metadata": {},
   "outputs": [],
   "source": []
  },
  {
   "cell_type": "markdown",
   "id": "be94887e-3765-4224-a0b6-603829037390",
   "metadata": {},
   "source": [
    "### 1.2 Responsibilities of the Main Process:\n",
    "#### i. Spawning and Managing Child Processes:\n",
    "- The Main Process creates child processes using multiprocessing.Process or higher-level abstractions like Pool or concurrent.futures.\n",
    "#### ii. Resource Management:\n",
    "- It handles memory allocation and deallocation, ensuring that the Python interpreter works efficiently.\n",
    "#### iii. Synchronization:\n",
    "- The Main Process can use synchronization primitives like Lock, Semaphore, and Condition to coordinate between child processes.\n",
    "#### iv. Error Handling:\n",
    "- If an exception occurs in the Main Process, it may propagate to child processes, causing them to terminate or enter an inconsistent state."
   ]
  },
  {
   "cell_type": "code",
   "execution_count": 1,
   "id": "19842ee7-dd9b-4f21-b4d0-c87981d6c48c",
   "metadata": {},
   "outputs": [
    {
     "name": "stdout",
     "output_type": "stream",
     "text": [
      "Main Process started. PID: 2532\n",
      "Main Process finished.\n"
     ]
    }
   ],
   "source": [
    "import multiprocessing\n",
    "import os\n",
    "import time\n",
    "\n",
    "def worker_task(name):\n",
    "    print(f\"Worker {name} started. PID: {os.getpid()}\")\n",
    "    time.sleep(2)\n",
    "    print(f\"Worker {name} finished.\")\n",
    "\n",
    "if __name__ == \"__main__\":\n",
    "    print(f\"Main Process started. PID: {os.getpid()}\")\n",
    "\n",
    "    # Create child processes\n",
    "    processes = []\n",
    "    for i in range(3):\n",
    "        process = multiprocessing.Process(target=worker_task, args=(f\"Process-{i+1}\",))\n",
    "        processes.append(process)\n",
    "        process.start()\n",
    "\n",
    "    # Wait for all child processes to complete\n",
    "    for process in processes:\n",
    "        process.join()\n",
    "\n",
    "    print(\"Main Process finished.\")\n"
   ]
  },
  {
   "cell_type": "code",
   "execution_count": null,
   "id": "2e8aad32-7b07-4f4b-ae23-3bec25c782af",
   "metadata": {},
   "outputs": [],
   "source": []
  },
  {
   "cell_type": "code",
   "execution_count": null,
   "id": "0e632d6a-0090-4e60-9547-c4dbdcff7caa",
   "metadata": {},
   "outputs": [],
   "source": []
  },
  {
   "cell_type": "markdown",
   "id": "09d26fbb-e248-41a2-b4ea-00d66cdebceb",
   "metadata": {},
   "source": [
    "# 2. Daemon Process:\n",
    "\n",
    "A Daemon Process is a background process designed to perform auxiliary tasks, such as logging, monitoring, or periodic cleanup. In Python, daemon processes are subordinate to the Main Process and have the following unique behavior:\n",
    "\n",
    "- A daemon process will terminate abruptly when the Main Process exits, regardless of its state (finished or not).\n",
    "- Daemon processes are often used for tasks that do not require orderly shutdown or completion."
   ]
  },
  {
   "cell_type": "markdown",
   "id": "9ac5c435-03e2-4b16-bdd6-945bc76e4cb8",
   "metadata": {},
   "source": [
    "### 2.1 Lifecycle of a Daemon Process:\n",
    "#### i. Creation:\n",
    "- Created like a regular process using multiprocessing.Process\n",
    "- Its daemon attribute is explicitly set to True before calling start().\n",
    "#### ii. Execution:\n",
    "- The daemon process executes its target function or code.\n",
    "- The Main Process does not wait for the daemon process to complete.\n",
    "#### iii. Termination:\n",
    "- When the Main Process exits:\n",
    "- The daemon process is abruptly terminated without cleanup.\n",
    "- Any incomplete tasks in the daemon process are abandoned."
   ]
  },
  {
   "cell_type": "code",
   "execution_count": null,
   "id": "98070ab3-99bd-4853-b1a3-b8412bbdda1d",
   "metadata": {},
   "outputs": [],
   "source": []
  },
  {
   "cell_type": "markdown",
   "id": "e97d93cd-18f2-4fee-88bb-2a623532efb2",
   "metadata": {},
   "source": [
    "## 1. Scenario: Teaching Sessions and Exam using multiprocessing\n",
    "### 1.1 Using Non-Daemon Process"
   ]
  },
  {
   "cell_type": "code",
   "execution_count": null,
   "id": "ca43a706-dc01-4cd7-bafe-a7b3834614dc",
   "metadata": {},
   "outputs": [],
   "source": [
    "from multiprocessing import Process\n",
    "import time\n",
    "import os\n",
    "\n",
    "def display():\n",
    "    for i in range(10):\n",
    "        print(f\"Teaching session (PID: {os.getpid()}):\", i)\n",
    "        time.sleep(0.7)\n",
    "\n",
    "if __name__ == \"__main__\":\n",
    "    # Create a non-daemon process\n",
    "    p1 = Process(target=display)\n",
    "    p1.start()\n",
    "\n",
    "    # Main process handling the Exam\n",
    "    print(\"Exam Time!\")\n",
    "    time.sleep(2)  # Simulate exam process\n",
    "    print(\"Exam is over\")\n"
   ]
  },
  {
   "cell_type": "markdown",
   "id": "8632ea27-fac5-4672-9c52-24da721c5f6d",
   "metadata": {},
   "source": [
    "### Issues with Non-Daemon Process:\n",
    "- The main process (Exam) finishes its work, but the program doesn’t exit because the non-daemon child process (Teaching Session) continues running until it completes all iterations.\n",
    "- This causes unnecessary delays after the main process has completed its task.\n"
   ]
  },
  {
   "cell_type": "code",
   "execution_count": null,
   "id": "b9152606-ecf7-454d-a08c-e21172097ead",
   "metadata": {},
   "outputs": [],
   "source": []
  },
  {
   "cell_type": "markdown",
   "id": "d0fcceca-2960-4a5c-b397-7f9c0776df3b",
   "metadata": {},
   "source": [
    "### 1.2 Using Daemon Process"
   ]
  },
  {
   "cell_type": "code",
   "execution_count": null,
   "id": "8d952b25-2b03-49ab-a0a4-58151953249e",
   "metadata": {},
   "outputs": [],
   "source": [
    "from multiprocessing import Process\n",
    "import time\n",
    "import os\n",
    "\n",
    "def display():\n",
    "    for i in range(10):\n",
    "        print(f\"Teaching session (PID: {os.getpid()}):\", i)\n",
    "        time.sleep(0.7)\n",
    "\n",
    "if __name__ == \"__main__\":\n",
    "    # Create a daemon process\n",
    "    p1 = Process(target=display, daemon=True)\n",
    "    p1.start()\n",
    "\n",
    "    # Main process handling the Exam\n",
    "    print(\"Exam Time!\")\n",
    "    time.sleep(2)  # Simulate exam process\n",
    "    print(\"Exam is over\")\n"
   ]
  },
  {
   "cell_type": "markdown",
   "id": "fe9a4630-fa15-401b-a0d7-fcccf27fc551",
   "metadata": {},
   "source": [
    "### Advantages of Daemon Process:\n",
    "- Non-Blocking: The main process does not block and can finish its work without waiting for the daemon process to complete.\n",
    "- Automatic Termination: When the main process exits, all daemon processes are terminated automatically, even if they haven't completed their tasks.\n",
    "- Efficient Background Tasks: Ideal for lightweight background tasks that do not need to finish before the program exits (e.g., monitoring, housekeeping).\n"
   ]
  },
  {
   "cell_type": "markdown",
   "id": "6ee85629-75a1-42cf-bd14-f7a52a1395cb",
   "metadata": {},
   "source": [
    "### Key Points:\n",
    "- Daemon State: A process can only be set as a daemon before it is started. Once a process starts, its daemon state cannot be changed.\n",
    "- Main Process: The main process cannot be set as a daemon because it is required for program execution.\n",
    "\n",
    "### Use Cases for Daemon Processes: \n",
    "- Background tasks like logging, monitoring, or data cleanup, where the program's main functionality should not depend on their completion."
   ]
  },
  {
   "cell_type": "code",
   "execution_count": null,
   "id": "abec0725-d05a-4ab0-b9c1-d1e76ad28a46",
   "metadata": {},
   "outputs": [],
   "source": []
  }
 ],
 "metadata": {
  "kernelspec": {
   "display_name": "Python 3 (ipykernel)",
   "language": "python",
   "name": "python3"
  },
  "language_info": {
   "codemirror_mode": {
    "name": "ipython",
    "version": 3
   },
   "file_extension": ".py",
   "mimetype": "text/x-python",
   "name": "python",
   "nbconvert_exporter": "python",
   "pygments_lexer": "ipython3",
   "version": "3.13.0"
  },
  "widgets": {
   "application/vnd.jupyter.widget-state+json": {
    "state": {},
    "version_major": 2,
    "version_minor": 0
   }
  }
 },
 "nbformat": 4,
 "nbformat_minor": 5
}
